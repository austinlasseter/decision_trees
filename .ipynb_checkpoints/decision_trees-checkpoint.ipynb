{
 "cells": [
  {
   "cell_type": "markdown",
   "metadata": {},
   "source": [
    "## Decision Trees\n",
    "* Objectives for this lesson"
   ]
  },
  {
   "cell_type": "code",
   "execution_count": 51,
   "metadata": {},
   "outputs": [],
   "source": [
    "import pandas as pd\n",
    "import plotly\n",
    "import plotly.graph_objects as go"
   ]
  },
  {
   "cell_type": "code",
   "execution_count": 10,
   "metadata": {},
   "outputs": [],
   "source": [
    "datasource = 'https://archive.ics.uci.edu/ml/machine-learning-databases/00267/data_banknote_authentication.txt'\n",
    "# 1. variance of Wavelet Transformed image (continuous)\n",
    "# 2. skewness of Wavelet Transformed image (continuous)\n",
    "# 3. curtosis of Wavelet Transformed image (continuous)\n",
    "# 4. entropy of image (continuous)\n",
    "# 5. class (integer)"
   ]
  },
  {
   "cell_type": "code",
   "execution_count": 53,
   "metadata": {},
   "outputs": [
    {
     "data": {
      "text/html": [
       "<div>\n",
       "<style scoped>\n",
       "    .dataframe tbody tr th:only-of-type {\n",
       "        vertical-align: middle;\n",
       "    }\n",
       "\n",
       "    .dataframe tbody tr th {\n",
       "        vertical-align: top;\n",
       "    }\n",
       "\n",
       "    .dataframe thead th {\n",
       "        text-align: right;\n",
       "    }\n",
       "</style>\n",
       "<table border=\"1\" class=\"dataframe\">\n",
       "  <thead>\n",
       "    <tr style=\"text-align: right;\">\n",
       "      <th></th>\n",
       "      <th>attribute_A</th>\n",
       "      <th>attribute_B</th>\n",
       "      <th>attribute_C</th>\n",
       "      <th>attribute_D</th>\n",
       "      <th>forgery</th>\n",
       "    </tr>\n",
       "  </thead>\n",
       "  <tbody>\n",
       "    <tr>\n",
       "      <th>0</th>\n",
       "      <td>3.62160</td>\n",
       "      <td>8.6661</td>\n",
       "      <td>-2.8073</td>\n",
       "      <td>-0.44699</td>\n",
       "      <td>0</td>\n",
       "    </tr>\n",
       "    <tr>\n",
       "      <th>1</th>\n",
       "      <td>4.54590</td>\n",
       "      <td>8.1674</td>\n",
       "      <td>-2.4586</td>\n",
       "      <td>-1.46210</td>\n",
       "      <td>0</td>\n",
       "    </tr>\n",
       "    <tr>\n",
       "      <th>2</th>\n",
       "      <td>3.86600</td>\n",
       "      <td>-2.6383</td>\n",
       "      <td>1.9242</td>\n",
       "      <td>0.10645</td>\n",
       "      <td>0</td>\n",
       "    </tr>\n",
       "    <tr>\n",
       "      <th>3</th>\n",
       "      <td>3.45660</td>\n",
       "      <td>9.5228</td>\n",
       "      <td>-4.0112</td>\n",
       "      <td>-3.59440</td>\n",
       "      <td>0</td>\n",
       "    </tr>\n",
       "    <tr>\n",
       "      <th>4</th>\n",
       "      <td>0.32924</td>\n",
       "      <td>-4.4552</td>\n",
       "      <td>4.5718</td>\n",
       "      <td>-0.98880</td>\n",
       "      <td>0</td>\n",
       "    </tr>\n",
       "  </tbody>\n",
       "</table>\n",
       "</div>"
      ],
      "text/plain": [
       "   attribute_A  attribute_B  attribute_C  attribute_D  forgery\n",
       "0      3.62160       8.6661      -2.8073     -0.44699        0\n",
       "1      4.54590       8.1674      -2.4586     -1.46210        0\n",
       "2      3.86600      -2.6383       1.9242      0.10645        0\n",
       "3      3.45660       9.5228      -4.0112     -3.59440        0\n",
       "4      0.32924      -4.4552       4.5718     -0.98880        0"
      ]
     },
     "execution_count": 53,
     "metadata": {},
     "output_type": "execute_result"
    }
   ],
   "source": [
    "df=pd.read_csv(datasource, names=['attribute_A', 'attribute_B', 'attribute_C', 'attribute_D', 'forgery'])\n",
    "df.head()"
   ]
  },
  {
   "cell_type": "code",
   "execution_count": 54,
   "metadata": {},
   "outputs": [
    {
     "data": {
      "text/plain": [
       "0    762\n",
       "1    610\n",
       "Name: forgery, dtype: int64"
      ]
     },
     "execution_count": 54,
     "metadata": {},
     "output_type": "execute_result"
    }
   ],
   "source": [
    "df['forgery'].value_counts()"
   ]
  },
  {
   "cell_type": "code",
   "execution_count": 106,
   "metadata": {},
   "outputs": [
    {
     "data": {
      "text/plain": [
       "attribute_A   -0.724843\n",
       "attribute_B   -0.444688\n",
       "attribute_C    0.155883\n",
       "attribute_D   -0.023424\n",
       "Name: forgery, dtype: float64"
      ]
     },
     "execution_count": 106,
     "metadata": {},
     "output_type": "execute_result"
    }
   ],
   "source": [
    "correlations = df.corr()[['forgery']].drop(['forgery'])\n",
    "correlations['forgery']"
   ]
  },
  {
   "cell_type": "code",
   "execution_count": 107,
   "metadata": {},
   "outputs": [
    {
     "data": {
      "application/vnd.plotly.v1+json": {
       "config": {
        "plotlyServerURL": "https://plot.ly"
       },
       "data": [
        {
         "type": "bar",
         "x": [
          "attribute_A",
          "attribute_B",
          "attribute_C",
          "attribute_D"
         ],
         "y": [
          -0.7248431424446092,
          -0.44468775759659496,
          0.15588323600923076,
          -0.023423678954851774
         ]
        }
       ],
       "layout": {
        "template": {
         "data": {
          "bar": [
           {
            "error_x": {
             "color": "#2a3f5f"
            },
            "error_y": {
             "color": "#2a3f5f"
            },
            "marker": {
             "line": {
              "color": "#E5ECF6",
              "width": 0.5
             }
            },
            "type": "bar"
           }
          ],
          "barpolar": [
           {
            "marker": {
             "line": {
              "color": "#E5ECF6",
              "width": 0.5
             }
            },
            "type": "barpolar"
           }
          ],
          "carpet": [
           {
            "aaxis": {
             "endlinecolor": "#2a3f5f",
             "gridcolor": "white",
             "linecolor": "white",
             "minorgridcolor": "white",
             "startlinecolor": "#2a3f5f"
            },
            "baxis": {
             "endlinecolor": "#2a3f5f",
             "gridcolor": "white",
             "linecolor": "white",
             "minorgridcolor": "white",
             "startlinecolor": "#2a3f5f"
            },
            "type": "carpet"
           }
          ],
          "choropleth": [
           {
            "colorbar": {
             "outlinewidth": 0,
             "ticks": ""
            },
            "type": "choropleth"
           }
          ],
          "contour": [
           {
            "colorbar": {
             "outlinewidth": 0,
             "ticks": ""
            },
            "colorscale": [
             [
              0,
              "#0d0887"
             ],
             [
              0.1111111111111111,
              "#46039f"
             ],
             [
              0.2222222222222222,
              "#7201a8"
             ],
             [
              0.3333333333333333,
              "#9c179e"
             ],
             [
              0.4444444444444444,
              "#bd3786"
             ],
             [
              0.5555555555555556,
              "#d8576b"
             ],
             [
              0.6666666666666666,
              "#ed7953"
             ],
             [
              0.7777777777777778,
              "#fb9f3a"
             ],
             [
              0.8888888888888888,
              "#fdca26"
             ],
             [
              1,
              "#f0f921"
             ]
            ],
            "type": "contour"
           }
          ],
          "contourcarpet": [
           {
            "colorbar": {
             "outlinewidth": 0,
             "ticks": ""
            },
            "type": "contourcarpet"
           }
          ],
          "heatmap": [
           {
            "colorbar": {
             "outlinewidth": 0,
             "ticks": ""
            },
            "colorscale": [
             [
              0,
              "#0d0887"
             ],
             [
              0.1111111111111111,
              "#46039f"
             ],
             [
              0.2222222222222222,
              "#7201a8"
             ],
             [
              0.3333333333333333,
              "#9c179e"
             ],
             [
              0.4444444444444444,
              "#bd3786"
             ],
             [
              0.5555555555555556,
              "#d8576b"
             ],
             [
              0.6666666666666666,
              "#ed7953"
             ],
             [
              0.7777777777777778,
              "#fb9f3a"
             ],
             [
              0.8888888888888888,
              "#fdca26"
             ],
             [
              1,
              "#f0f921"
             ]
            ],
            "type": "heatmap"
           }
          ],
          "heatmapgl": [
           {
            "colorbar": {
             "outlinewidth": 0,
             "ticks": ""
            },
            "colorscale": [
             [
              0,
              "#0d0887"
             ],
             [
              0.1111111111111111,
              "#46039f"
             ],
             [
              0.2222222222222222,
              "#7201a8"
             ],
             [
              0.3333333333333333,
              "#9c179e"
             ],
             [
              0.4444444444444444,
              "#bd3786"
             ],
             [
              0.5555555555555556,
              "#d8576b"
             ],
             [
              0.6666666666666666,
              "#ed7953"
             ],
             [
              0.7777777777777778,
              "#fb9f3a"
             ],
             [
              0.8888888888888888,
              "#fdca26"
             ],
             [
              1,
              "#f0f921"
             ]
            ],
            "type": "heatmapgl"
           }
          ],
          "histogram": [
           {
            "marker": {
             "colorbar": {
              "outlinewidth": 0,
              "ticks": ""
             }
            },
            "type": "histogram"
           }
          ],
          "histogram2d": [
           {
            "colorbar": {
             "outlinewidth": 0,
             "ticks": ""
            },
            "colorscale": [
             [
              0,
              "#0d0887"
             ],
             [
              0.1111111111111111,
              "#46039f"
             ],
             [
              0.2222222222222222,
              "#7201a8"
             ],
             [
              0.3333333333333333,
              "#9c179e"
             ],
             [
              0.4444444444444444,
              "#bd3786"
             ],
             [
              0.5555555555555556,
              "#d8576b"
             ],
             [
              0.6666666666666666,
              "#ed7953"
             ],
             [
              0.7777777777777778,
              "#fb9f3a"
             ],
             [
              0.8888888888888888,
              "#fdca26"
             ],
             [
              1,
              "#f0f921"
             ]
            ],
            "type": "histogram2d"
           }
          ],
          "histogram2dcontour": [
           {
            "colorbar": {
             "outlinewidth": 0,
             "ticks": ""
            },
            "colorscale": [
             [
              0,
              "#0d0887"
             ],
             [
              0.1111111111111111,
              "#46039f"
             ],
             [
              0.2222222222222222,
              "#7201a8"
             ],
             [
              0.3333333333333333,
              "#9c179e"
             ],
             [
              0.4444444444444444,
              "#bd3786"
             ],
             [
              0.5555555555555556,
              "#d8576b"
             ],
             [
              0.6666666666666666,
              "#ed7953"
             ],
             [
              0.7777777777777778,
              "#fb9f3a"
             ],
             [
              0.8888888888888888,
              "#fdca26"
             ],
             [
              1,
              "#f0f921"
             ]
            ],
            "type": "histogram2dcontour"
           }
          ],
          "mesh3d": [
           {
            "colorbar": {
             "outlinewidth": 0,
             "ticks": ""
            },
            "type": "mesh3d"
           }
          ],
          "parcoords": [
           {
            "line": {
             "colorbar": {
              "outlinewidth": 0,
              "ticks": ""
             }
            },
            "type": "parcoords"
           }
          ],
          "pie": [
           {
            "automargin": true,
            "type": "pie"
           }
          ],
          "scatter": [
           {
            "marker": {
             "colorbar": {
              "outlinewidth": 0,
              "ticks": ""
             }
            },
            "type": "scatter"
           }
          ],
          "scatter3d": [
           {
            "line": {
             "colorbar": {
              "outlinewidth": 0,
              "ticks": ""
             }
            },
            "marker": {
             "colorbar": {
              "outlinewidth": 0,
              "ticks": ""
             }
            },
            "type": "scatter3d"
           }
          ],
          "scattercarpet": [
           {
            "marker": {
             "colorbar": {
              "outlinewidth": 0,
              "ticks": ""
             }
            },
            "type": "scattercarpet"
           }
          ],
          "scattergeo": [
           {
            "marker": {
             "colorbar": {
              "outlinewidth": 0,
              "ticks": ""
             }
            },
            "type": "scattergeo"
           }
          ],
          "scattergl": [
           {
            "marker": {
             "colorbar": {
              "outlinewidth": 0,
              "ticks": ""
             }
            },
            "type": "scattergl"
           }
          ],
          "scattermapbox": [
           {
            "marker": {
             "colorbar": {
              "outlinewidth": 0,
              "ticks": ""
             }
            },
            "type": "scattermapbox"
           }
          ],
          "scatterpolar": [
           {
            "marker": {
             "colorbar": {
              "outlinewidth": 0,
              "ticks": ""
             }
            },
            "type": "scatterpolar"
           }
          ],
          "scatterpolargl": [
           {
            "marker": {
             "colorbar": {
              "outlinewidth": 0,
              "ticks": ""
             }
            },
            "type": "scatterpolargl"
           }
          ],
          "scatterternary": [
           {
            "marker": {
             "colorbar": {
              "outlinewidth": 0,
              "ticks": ""
             }
            },
            "type": "scatterternary"
           }
          ],
          "surface": [
           {
            "colorbar": {
             "outlinewidth": 0,
             "ticks": ""
            },
            "colorscale": [
             [
              0,
              "#0d0887"
             ],
             [
              0.1111111111111111,
              "#46039f"
             ],
             [
              0.2222222222222222,
              "#7201a8"
             ],
             [
              0.3333333333333333,
              "#9c179e"
             ],
             [
              0.4444444444444444,
              "#bd3786"
             ],
             [
              0.5555555555555556,
              "#d8576b"
             ],
             [
              0.6666666666666666,
              "#ed7953"
             ],
             [
              0.7777777777777778,
              "#fb9f3a"
             ],
             [
              0.8888888888888888,
              "#fdca26"
             ],
             [
              1,
              "#f0f921"
             ]
            ],
            "type": "surface"
           }
          ],
          "table": [
           {
            "cells": {
             "fill": {
              "color": "#EBF0F8"
             },
             "line": {
              "color": "white"
             }
            },
            "header": {
             "fill": {
              "color": "#C8D4E3"
             },
             "line": {
              "color": "white"
             }
            },
            "type": "table"
           }
          ]
         },
         "layout": {
          "annotationdefaults": {
           "arrowcolor": "#2a3f5f",
           "arrowhead": 0,
           "arrowwidth": 1
          },
          "coloraxis": {
           "colorbar": {
            "outlinewidth": 0,
            "ticks": ""
           }
          },
          "colorscale": {
           "diverging": [
            [
             0,
             "#8e0152"
            ],
            [
             0.1,
             "#c51b7d"
            ],
            [
             0.2,
             "#de77ae"
            ],
            [
             0.3,
             "#f1b6da"
            ],
            [
             0.4,
             "#fde0ef"
            ],
            [
             0.5,
             "#f7f7f7"
            ],
            [
             0.6,
             "#e6f5d0"
            ],
            [
             0.7,
             "#b8e186"
            ],
            [
             0.8,
             "#7fbc41"
            ],
            [
             0.9,
             "#4d9221"
            ],
            [
             1,
             "#276419"
            ]
           ],
           "sequential": [
            [
             0,
             "#0d0887"
            ],
            [
             0.1111111111111111,
             "#46039f"
            ],
            [
             0.2222222222222222,
             "#7201a8"
            ],
            [
             0.3333333333333333,
             "#9c179e"
            ],
            [
             0.4444444444444444,
             "#bd3786"
            ],
            [
             0.5555555555555556,
             "#d8576b"
            ],
            [
             0.6666666666666666,
             "#ed7953"
            ],
            [
             0.7777777777777778,
             "#fb9f3a"
            ],
            [
             0.8888888888888888,
             "#fdca26"
            ],
            [
             1,
             "#f0f921"
            ]
           ],
           "sequentialminus": [
            [
             0,
             "#0d0887"
            ],
            [
             0.1111111111111111,
             "#46039f"
            ],
            [
             0.2222222222222222,
             "#7201a8"
            ],
            [
             0.3333333333333333,
             "#9c179e"
            ],
            [
             0.4444444444444444,
             "#bd3786"
            ],
            [
             0.5555555555555556,
             "#d8576b"
            ],
            [
             0.6666666666666666,
             "#ed7953"
            ],
            [
             0.7777777777777778,
             "#fb9f3a"
            ],
            [
             0.8888888888888888,
             "#fdca26"
            ],
            [
             1,
             "#f0f921"
            ]
           ]
          },
          "colorway": [
           "#636efa",
           "#EF553B",
           "#00cc96",
           "#ab63fa",
           "#FFA15A",
           "#19d3f3",
           "#FF6692",
           "#B6E880",
           "#FF97FF",
           "#FECB52"
          ],
          "font": {
           "color": "#2a3f5f"
          },
          "geo": {
           "bgcolor": "white",
           "lakecolor": "white",
           "landcolor": "#E5ECF6",
           "showlakes": true,
           "showland": true,
           "subunitcolor": "white"
          },
          "hoverlabel": {
           "align": "left"
          },
          "hovermode": "closest",
          "mapbox": {
           "style": "light"
          },
          "paper_bgcolor": "white",
          "plot_bgcolor": "#E5ECF6",
          "polar": {
           "angularaxis": {
            "gridcolor": "white",
            "linecolor": "white",
            "ticks": ""
           },
           "bgcolor": "#E5ECF6",
           "radialaxis": {
            "gridcolor": "white",
            "linecolor": "white",
            "ticks": ""
           }
          },
          "scene": {
           "xaxis": {
            "backgroundcolor": "#E5ECF6",
            "gridcolor": "white",
            "gridwidth": 2,
            "linecolor": "white",
            "showbackground": true,
            "ticks": "",
            "zerolinecolor": "white"
           },
           "yaxis": {
            "backgroundcolor": "#E5ECF6",
            "gridcolor": "white",
            "gridwidth": 2,
            "linecolor": "white",
            "showbackground": true,
            "ticks": "",
            "zerolinecolor": "white"
           },
           "zaxis": {
            "backgroundcolor": "#E5ECF6",
            "gridcolor": "white",
            "gridwidth": 2,
            "linecolor": "white",
            "showbackground": true,
            "ticks": "",
            "zerolinecolor": "white"
           }
          },
          "shapedefaults": {
           "line": {
            "color": "#2a3f5f"
           }
          },
          "ternary": {
           "aaxis": {
            "gridcolor": "white",
            "linecolor": "white",
            "ticks": ""
           },
           "baxis": {
            "gridcolor": "white",
            "linecolor": "white",
            "ticks": ""
           },
           "bgcolor": "#E5ECF6",
           "caxis": {
            "gridcolor": "white",
            "linecolor": "white",
            "ticks": ""
           }
          },
          "title": {
           "x": 0.05
          },
          "xaxis": {
           "automargin": true,
           "gridcolor": "white",
           "linecolor": "white",
           "ticks": "",
           "title": {
            "standoff": 15
           },
           "zerolinecolor": "white",
           "zerolinewidth": 2
          },
          "yaxis": {
           "automargin": true,
           "gridcolor": "white",
           "linecolor": "white",
           "ticks": "",
           "title": {
            "standoff": 15
           },
           "zerolinecolor": "white",
           "zerolinewidth": 2
          }
         }
        },
        "title": {
         "text": "Correlation of Features with Banknote Forgery"
        }
       }
      },
      "text/html": [
       "<div>                            <div id=\"ff85f0dd-5420-4774-8a90-0d7980f5f3b8\" class=\"plotly-graph-div\" style=\"height:525px; width:100%;\"></div>            <script type=\"text/javascript\">                require([\"plotly\"], function(Plotly) {                    window.PLOTLYENV=window.PLOTLYENV || {};                                    if (document.getElementById(\"ff85f0dd-5420-4774-8a90-0d7980f5f3b8\")) {                    Plotly.newPlot(                        \"ff85f0dd-5420-4774-8a90-0d7980f5f3b8\",                        [{\"type\": \"bar\", \"x\": [\"attribute_A\", \"attribute_B\", \"attribute_C\", \"attribute_D\"], \"y\": [-0.7248431424446092, -0.44468775759659496, 0.15588323600923076, -0.023423678954851774]}],                        {\"template\": {\"data\": {\"bar\": [{\"error_x\": {\"color\": \"#2a3f5f\"}, \"error_y\": {\"color\": \"#2a3f5f\"}, \"marker\": {\"line\": {\"color\": \"#E5ECF6\", \"width\": 0.5}}, \"type\": \"bar\"}], \"barpolar\": [{\"marker\": {\"line\": {\"color\": \"#E5ECF6\", \"width\": 0.5}}, \"type\": \"barpolar\"}], \"carpet\": [{\"aaxis\": {\"endlinecolor\": \"#2a3f5f\", \"gridcolor\": \"white\", \"linecolor\": \"white\", \"minorgridcolor\": \"white\", \"startlinecolor\": \"#2a3f5f\"}, \"baxis\": {\"endlinecolor\": \"#2a3f5f\", \"gridcolor\": \"white\", \"linecolor\": \"white\", \"minorgridcolor\": \"white\", \"startlinecolor\": \"#2a3f5f\"}, \"type\": \"carpet\"}], \"choropleth\": [{\"colorbar\": {\"outlinewidth\": 0, \"ticks\": \"\"}, \"type\": \"choropleth\"}], \"contour\": [{\"colorbar\": {\"outlinewidth\": 0, \"ticks\": \"\"}, \"colorscale\": [[0.0, \"#0d0887\"], [0.1111111111111111, \"#46039f\"], [0.2222222222222222, \"#7201a8\"], [0.3333333333333333, \"#9c179e\"], [0.4444444444444444, \"#bd3786\"], [0.5555555555555556, \"#d8576b\"], [0.6666666666666666, \"#ed7953\"], [0.7777777777777778, \"#fb9f3a\"], [0.8888888888888888, \"#fdca26\"], [1.0, \"#f0f921\"]], \"type\": \"contour\"}], \"contourcarpet\": [{\"colorbar\": {\"outlinewidth\": 0, \"ticks\": \"\"}, \"type\": \"contourcarpet\"}], \"heatmap\": [{\"colorbar\": {\"outlinewidth\": 0, \"ticks\": \"\"}, \"colorscale\": [[0.0, \"#0d0887\"], [0.1111111111111111, \"#46039f\"], [0.2222222222222222, \"#7201a8\"], [0.3333333333333333, \"#9c179e\"], [0.4444444444444444, \"#bd3786\"], [0.5555555555555556, \"#d8576b\"], [0.6666666666666666, \"#ed7953\"], [0.7777777777777778, \"#fb9f3a\"], [0.8888888888888888, \"#fdca26\"], [1.0, \"#f0f921\"]], \"type\": \"heatmap\"}], \"heatmapgl\": [{\"colorbar\": {\"outlinewidth\": 0, \"ticks\": \"\"}, \"colorscale\": [[0.0, \"#0d0887\"], [0.1111111111111111, \"#46039f\"], [0.2222222222222222, \"#7201a8\"], [0.3333333333333333, \"#9c179e\"], [0.4444444444444444, \"#bd3786\"], [0.5555555555555556, \"#d8576b\"], [0.6666666666666666, \"#ed7953\"], [0.7777777777777778, \"#fb9f3a\"], [0.8888888888888888, \"#fdca26\"], [1.0, \"#f0f921\"]], \"type\": \"heatmapgl\"}], \"histogram\": [{\"marker\": {\"colorbar\": {\"outlinewidth\": 0, \"ticks\": \"\"}}, \"type\": \"histogram\"}], \"histogram2d\": [{\"colorbar\": {\"outlinewidth\": 0, \"ticks\": \"\"}, \"colorscale\": [[0.0, \"#0d0887\"], [0.1111111111111111, \"#46039f\"], [0.2222222222222222, \"#7201a8\"], [0.3333333333333333, \"#9c179e\"], [0.4444444444444444, \"#bd3786\"], [0.5555555555555556, \"#d8576b\"], [0.6666666666666666, \"#ed7953\"], [0.7777777777777778, \"#fb9f3a\"], [0.8888888888888888, \"#fdca26\"], [1.0, \"#f0f921\"]], \"type\": \"histogram2d\"}], \"histogram2dcontour\": [{\"colorbar\": {\"outlinewidth\": 0, \"ticks\": \"\"}, \"colorscale\": [[0.0, \"#0d0887\"], [0.1111111111111111, \"#46039f\"], [0.2222222222222222, \"#7201a8\"], [0.3333333333333333, \"#9c179e\"], [0.4444444444444444, \"#bd3786\"], [0.5555555555555556, \"#d8576b\"], [0.6666666666666666, \"#ed7953\"], [0.7777777777777778, \"#fb9f3a\"], [0.8888888888888888, \"#fdca26\"], [1.0, \"#f0f921\"]], \"type\": \"histogram2dcontour\"}], \"mesh3d\": [{\"colorbar\": {\"outlinewidth\": 0, \"ticks\": \"\"}, \"type\": \"mesh3d\"}], \"parcoords\": [{\"line\": {\"colorbar\": {\"outlinewidth\": 0, \"ticks\": \"\"}}, \"type\": \"parcoords\"}], \"pie\": [{\"automargin\": true, \"type\": \"pie\"}], \"scatter\": [{\"marker\": {\"colorbar\": {\"outlinewidth\": 0, \"ticks\": \"\"}}, \"type\": \"scatter\"}], \"scatter3d\": [{\"line\": {\"colorbar\": {\"outlinewidth\": 0, \"ticks\": \"\"}}, \"marker\": {\"colorbar\": {\"outlinewidth\": 0, \"ticks\": \"\"}}, \"type\": \"scatter3d\"}], \"scattercarpet\": [{\"marker\": {\"colorbar\": {\"outlinewidth\": 0, \"ticks\": \"\"}}, \"type\": \"scattercarpet\"}], \"scattergeo\": [{\"marker\": {\"colorbar\": {\"outlinewidth\": 0, \"ticks\": \"\"}}, \"type\": \"scattergeo\"}], \"scattergl\": [{\"marker\": {\"colorbar\": {\"outlinewidth\": 0, \"ticks\": \"\"}}, \"type\": \"scattergl\"}], \"scattermapbox\": [{\"marker\": {\"colorbar\": {\"outlinewidth\": 0, \"ticks\": \"\"}}, \"type\": \"scattermapbox\"}], \"scatterpolar\": [{\"marker\": {\"colorbar\": {\"outlinewidth\": 0, \"ticks\": \"\"}}, \"type\": \"scatterpolar\"}], \"scatterpolargl\": [{\"marker\": {\"colorbar\": {\"outlinewidth\": 0, \"ticks\": \"\"}}, \"type\": \"scatterpolargl\"}], \"scatterternary\": [{\"marker\": {\"colorbar\": {\"outlinewidth\": 0, \"ticks\": \"\"}}, \"type\": \"scatterternary\"}], \"surface\": [{\"colorbar\": {\"outlinewidth\": 0, \"ticks\": \"\"}, \"colorscale\": [[0.0, \"#0d0887\"], [0.1111111111111111, \"#46039f\"], [0.2222222222222222, \"#7201a8\"], [0.3333333333333333, \"#9c179e\"], [0.4444444444444444, \"#bd3786\"], [0.5555555555555556, \"#d8576b\"], [0.6666666666666666, \"#ed7953\"], [0.7777777777777778, \"#fb9f3a\"], [0.8888888888888888, \"#fdca26\"], [1.0, \"#f0f921\"]], \"type\": \"surface\"}], \"table\": [{\"cells\": {\"fill\": {\"color\": \"#EBF0F8\"}, \"line\": {\"color\": \"white\"}}, \"header\": {\"fill\": {\"color\": \"#C8D4E3\"}, \"line\": {\"color\": \"white\"}}, \"type\": \"table\"}]}, \"layout\": {\"annotationdefaults\": {\"arrowcolor\": \"#2a3f5f\", \"arrowhead\": 0, \"arrowwidth\": 1}, \"coloraxis\": {\"colorbar\": {\"outlinewidth\": 0, \"ticks\": \"\"}}, \"colorscale\": {\"diverging\": [[0, \"#8e0152\"], [0.1, \"#c51b7d\"], [0.2, \"#de77ae\"], [0.3, \"#f1b6da\"], [0.4, \"#fde0ef\"], [0.5, \"#f7f7f7\"], [0.6, \"#e6f5d0\"], [0.7, \"#b8e186\"], [0.8, \"#7fbc41\"], [0.9, \"#4d9221\"], [1, \"#276419\"]], \"sequential\": [[0.0, \"#0d0887\"], [0.1111111111111111, \"#46039f\"], [0.2222222222222222, \"#7201a8\"], [0.3333333333333333, \"#9c179e\"], [0.4444444444444444, \"#bd3786\"], [0.5555555555555556, \"#d8576b\"], [0.6666666666666666, \"#ed7953\"], [0.7777777777777778, \"#fb9f3a\"], [0.8888888888888888, \"#fdca26\"], [1.0, \"#f0f921\"]], \"sequentialminus\": [[0.0, \"#0d0887\"], [0.1111111111111111, \"#46039f\"], [0.2222222222222222, \"#7201a8\"], [0.3333333333333333, \"#9c179e\"], [0.4444444444444444, \"#bd3786\"], [0.5555555555555556, \"#d8576b\"], [0.6666666666666666, \"#ed7953\"], [0.7777777777777778, \"#fb9f3a\"], [0.8888888888888888, \"#fdca26\"], [1.0, \"#f0f921\"]]}, \"colorway\": [\"#636efa\", \"#EF553B\", \"#00cc96\", \"#ab63fa\", \"#FFA15A\", \"#19d3f3\", \"#FF6692\", \"#B6E880\", \"#FF97FF\", \"#FECB52\"], \"font\": {\"color\": \"#2a3f5f\"}, \"geo\": {\"bgcolor\": \"white\", \"lakecolor\": \"white\", \"landcolor\": \"#E5ECF6\", \"showlakes\": true, \"showland\": true, \"subunitcolor\": \"white\"}, \"hoverlabel\": {\"align\": \"left\"}, \"hovermode\": \"closest\", \"mapbox\": {\"style\": \"light\"}, \"paper_bgcolor\": \"white\", \"plot_bgcolor\": \"#E5ECF6\", \"polar\": {\"angularaxis\": {\"gridcolor\": \"white\", \"linecolor\": \"white\", \"ticks\": \"\"}, \"bgcolor\": \"#E5ECF6\", \"radialaxis\": {\"gridcolor\": \"white\", \"linecolor\": \"white\", \"ticks\": \"\"}}, \"scene\": {\"xaxis\": {\"backgroundcolor\": \"#E5ECF6\", \"gridcolor\": \"white\", \"gridwidth\": 2, \"linecolor\": \"white\", \"showbackground\": true, \"ticks\": \"\", \"zerolinecolor\": \"white\"}, \"yaxis\": {\"backgroundcolor\": \"#E5ECF6\", \"gridcolor\": \"white\", \"gridwidth\": 2, \"linecolor\": \"white\", \"showbackground\": true, \"ticks\": \"\", \"zerolinecolor\": \"white\"}, \"zaxis\": {\"backgroundcolor\": \"#E5ECF6\", \"gridcolor\": \"white\", \"gridwidth\": 2, \"linecolor\": \"white\", \"showbackground\": true, \"ticks\": \"\", \"zerolinecolor\": \"white\"}}, \"shapedefaults\": {\"line\": {\"color\": \"#2a3f5f\"}}, \"ternary\": {\"aaxis\": {\"gridcolor\": \"white\", \"linecolor\": \"white\", \"ticks\": \"\"}, \"baxis\": {\"gridcolor\": \"white\", \"linecolor\": \"white\", \"ticks\": \"\"}, \"bgcolor\": \"#E5ECF6\", \"caxis\": {\"gridcolor\": \"white\", \"linecolor\": \"white\", \"ticks\": \"\"}}, \"title\": {\"x\": 0.05}, \"xaxis\": {\"automargin\": true, \"gridcolor\": \"white\", \"linecolor\": \"white\", \"ticks\": \"\", \"title\": {\"standoff\": 15}, \"zerolinecolor\": \"white\", \"zerolinewidth\": 2}, \"yaxis\": {\"automargin\": true, \"gridcolor\": \"white\", \"linecolor\": \"white\", \"ticks\": \"\", \"title\": {\"standoff\": 15}, \"zerolinecolor\": \"white\", \"zerolinewidth\": 2}}}, \"title\": {\"text\": \"Correlation of Features with Banknote Forgery\"}},                        {\"responsive\": true}                    ).then(function(){\n",
       "                            \n",
       "var gd = document.getElementById('ff85f0dd-5420-4774-8a90-0d7980f5f3b8');\n",
       "var x = new MutationObserver(function (mutations, observer) {{\n",
       "        var display = window.getComputedStyle(gd).display;\n",
       "        if (!display || display === 'none') {{\n",
       "            console.log([gd, 'removed!']);\n",
       "            Plotly.purge(gd);\n",
       "            observer.disconnect();\n",
       "        }}\n",
       "}});\n",
       "\n",
       "// Listen for the removal of the full notebook cells\n",
       "var notebookContainer = gd.closest('#notebook-container');\n",
       "if (notebookContainer) {{\n",
       "    x.observe(notebookContainer, {childList: true});\n",
       "}}\n",
       "\n",
       "// Listen for the clearing of the current output cell\n",
       "var outputEl = gd.closest('.output');\n",
       "if (outputEl) {{\n",
       "    x.observe(outputEl, {childList: true});\n",
       "}}\n",
       "\n",
       "                        })                };                });            </script>        </div>"
      ]
     },
     "metadata": {},
     "output_type": "display_data"
    }
   ],
   "source": [
    "\n",
    "fig = go.Figure(data=[go.Bar(x=correlations.index, y=correlations['forgery'])])\n",
    "fig.update_layout(title='Correlation of Features with Banknote Forgery')\n",
    "fig.show()"
   ]
  },
  {
   "cell_type": "code",
   "execution_count": 89,
   "metadata": {},
   "outputs": [
    {
     "data": {
      "application/vnd.plotly.v1+json": {
       "config": {
        "plotlyServerURL": "https://plot.ly"
       },
       "data": [
        {
         "name": "Authentic",
         "type": "bar",
         "x": [
          "attribute_A",
          "attribute_B",
          "attribute_C",
          "attribute_D"
         ],
         "y": [
          2.2766860052493447,
          4.256627188342784,
          0.7967179652099738,
          -1.1476402762467195
         ]
        },
        {
         "name": "Forgery",
         "type": "bar",
         "x": [
          "attribute_A",
          "attribute_B",
          "attribute_C",
          "attribute_D"
         ],
         "y": [
          -1.868442562786883,
          -0.9935761245901634,
          2.1482710088524617,
          -1.2466407459016389
         ]
        }
       ],
       "layout": {
        "barmode": "group",
        "template": {
         "data": {
          "bar": [
           {
            "error_x": {
             "color": "#2a3f5f"
            },
            "error_y": {
             "color": "#2a3f5f"
            },
            "marker": {
             "line": {
              "color": "#E5ECF6",
              "width": 0.5
             }
            },
            "type": "bar"
           }
          ],
          "barpolar": [
           {
            "marker": {
             "line": {
              "color": "#E5ECF6",
              "width": 0.5
             }
            },
            "type": "barpolar"
           }
          ],
          "carpet": [
           {
            "aaxis": {
             "endlinecolor": "#2a3f5f",
             "gridcolor": "white",
             "linecolor": "white",
             "minorgridcolor": "white",
             "startlinecolor": "#2a3f5f"
            },
            "baxis": {
             "endlinecolor": "#2a3f5f",
             "gridcolor": "white",
             "linecolor": "white",
             "minorgridcolor": "white",
             "startlinecolor": "#2a3f5f"
            },
            "type": "carpet"
           }
          ],
          "choropleth": [
           {
            "colorbar": {
             "outlinewidth": 0,
             "ticks": ""
            },
            "type": "choropleth"
           }
          ],
          "contour": [
           {
            "colorbar": {
             "outlinewidth": 0,
             "ticks": ""
            },
            "colorscale": [
             [
              0,
              "#0d0887"
             ],
             [
              0.1111111111111111,
              "#46039f"
             ],
             [
              0.2222222222222222,
              "#7201a8"
             ],
             [
              0.3333333333333333,
              "#9c179e"
             ],
             [
              0.4444444444444444,
              "#bd3786"
             ],
             [
              0.5555555555555556,
              "#d8576b"
             ],
             [
              0.6666666666666666,
              "#ed7953"
             ],
             [
              0.7777777777777778,
              "#fb9f3a"
             ],
             [
              0.8888888888888888,
              "#fdca26"
             ],
             [
              1,
              "#f0f921"
             ]
            ],
            "type": "contour"
           }
          ],
          "contourcarpet": [
           {
            "colorbar": {
             "outlinewidth": 0,
             "ticks": ""
            },
            "type": "contourcarpet"
           }
          ],
          "heatmap": [
           {
            "colorbar": {
             "outlinewidth": 0,
             "ticks": ""
            },
            "colorscale": [
             [
              0,
              "#0d0887"
             ],
             [
              0.1111111111111111,
              "#46039f"
             ],
             [
              0.2222222222222222,
              "#7201a8"
             ],
             [
              0.3333333333333333,
              "#9c179e"
             ],
             [
              0.4444444444444444,
              "#bd3786"
             ],
             [
              0.5555555555555556,
              "#d8576b"
             ],
             [
              0.6666666666666666,
              "#ed7953"
             ],
             [
              0.7777777777777778,
              "#fb9f3a"
             ],
             [
              0.8888888888888888,
              "#fdca26"
             ],
             [
              1,
              "#f0f921"
             ]
            ],
            "type": "heatmap"
           }
          ],
          "heatmapgl": [
           {
            "colorbar": {
             "outlinewidth": 0,
             "ticks": ""
            },
            "colorscale": [
             [
              0,
              "#0d0887"
             ],
             [
              0.1111111111111111,
              "#46039f"
             ],
             [
              0.2222222222222222,
              "#7201a8"
             ],
             [
              0.3333333333333333,
              "#9c179e"
             ],
             [
              0.4444444444444444,
              "#bd3786"
             ],
             [
              0.5555555555555556,
              "#d8576b"
             ],
             [
              0.6666666666666666,
              "#ed7953"
             ],
             [
              0.7777777777777778,
              "#fb9f3a"
             ],
             [
              0.8888888888888888,
              "#fdca26"
             ],
             [
              1,
              "#f0f921"
             ]
            ],
            "type": "heatmapgl"
           }
          ],
          "histogram": [
           {
            "marker": {
             "colorbar": {
              "outlinewidth": 0,
              "ticks": ""
             }
            },
            "type": "histogram"
           }
          ],
          "histogram2d": [
           {
            "colorbar": {
             "outlinewidth": 0,
             "ticks": ""
            },
            "colorscale": [
             [
              0,
              "#0d0887"
             ],
             [
              0.1111111111111111,
              "#46039f"
             ],
             [
              0.2222222222222222,
              "#7201a8"
             ],
             [
              0.3333333333333333,
              "#9c179e"
             ],
             [
              0.4444444444444444,
              "#bd3786"
             ],
             [
              0.5555555555555556,
              "#d8576b"
             ],
             [
              0.6666666666666666,
              "#ed7953"
             ],
             [
              0.7777777777777778,
              "#fb9f3a"
             ],
             [
              0.8888888888888888,
              "#fdca26"
             ],
             [
              1,
              "#f0f921"
             ]
            ],
            "type": "histogram2d"
           }
          ],
          "histogram2dcontour": [
           {
            "colorbar": {
             "outlinewidth": 0,
             "ticks": ""
            },
            "colorscale": [
             [
              0,
              "#0d0887"
             ],
             [
              0.1111111111111111,
              "#46039f"
             ],
             [
              0.2222222222222222,
              "#7201a8"
             ],
             [
              0.3333333333333333,
              "#9c179e"
             ],
             [
              0.4444444444444444,
              "#bd3786"
             ],
             [
              0.5555555555555556,
              "#d8576b"
             ],
             [
              0.6666666666666666,
              "#ed7953"
             ],
             [
              0.7777777777777778,
              "#fb9f3a"
             ],
             [
              0.8888888888888888,
              "#fdca26"
             ],
             [
              1,
              "#f0f921"
             ]
            ],
            "type": "histogram2dcontour"
           }
          ],
          "mesh3d": [
           {
            "colorbar": {
             "outlinewidth": 0,
             "ticks": ""
            },
            "type": "mesh3d"
           }
          ],
          "parcoords": [
           {
            "line": {
             "colorbar": {
              "outlinewidth": 0,
              "ticks": ""
             }
            },
            "type": "parcoords"
           }
          ],
          "pie": [
           {
            "automargin": true,
            "type": "pie"
           }
          ],
          "scatter": [
           {
            "marker": {
             "colorbar": {
              "outlinewidth": 0,
              "ticks": ""
             }
            },
            "type": "scatter"
           }
          ],
          "scatter3d": [
           {
            "line": {
             "colorbar": {
              "outlinewidth": 0,
              "ticks": ""
             }
            },
            "marker": {
             "colorbar": {
              "outlinewidth": 0,
              "ticks": ""
             }
            },
            "type": "scatter3d"
           }
          ],
          "scattercarpet": [
           {
            "marker": {
             "colorbar": {
              "outlinewidth": 0,
              "ticks": ""
             }
            },
            "type": "scattercarpet"
           }
          ],
          "scattergeo": [
           {
            "marker": {
             "colorbar": {
              "outlinewidth": 0,
              "ticks": ""
             }
            },
            "type": "scattergeo"
           }
          ],
          "scattergl": [
           {
            "marker": {
             "colorbar": {
              "outlinewidth": 0,
              "ticks": ""
             }
            },
            "type": "scattergl"
           }
          ],
          "scattermapbox": [
           {
            "marker": {
             "colorbar": {
              "outlinewidth": 0,
              "ticks": ""
             }
            },
            "type": "scattermapbox"
           }
          ],
          "scatterpolar": [
           {
            "marker": {
             "colorbar": {
              "outlinewidth": 0,
              "ticks": ""
             }
            },
            "type": "scatterpolar"
           }
          ],
          "scatterpolargl": [
           {
            "marker": {
             "colorbar": {
              "outlinewidth": 0,
              "ticks": ""
             }
            },
            "type": "scatterpolargl"
           }
          ],
          "scatterternary": [
           {
            "marker": {
             "colorbar": {
              "outlinewidth": 0,
              "ticks": ""
             }
            },
            "type": "scatterternary"
           }
          ],
          "surface": [
           {
            "colorbar": {
             "outlinewidth": 0,
             "ticks": ""
            },
            "colorscale": [
             [
              0,
              "#0d0887"
             ],
             [
              0.1111111111111111,
              "#46039f"
             ],
             [
              0.2222222222222222,
              "#7201a8"
             ],
             [
              0.3333333333333333,
              "#9c179e"
             ],
             [
              0.4444444444444444,
              "#bd3786"
             ],
             [
              0.5555555555555556,
              "#d8576b"
             ],
             [
              0.6666666666666666,
              "#ed7953"
             ],
             [
              0.7777777777777778,
              "#fb9f3a"
             ],
             [
              0.8888888888888888,
              "#fdca26"
             ],
             [
              1,
              "#f0f921"
             ]
            ],
            "type": "surface"
           }
          ],
          "table": [
           {
            "cells": {
             "fill": {
              "color": "#EBF0F8"
             },
             "line": {
              "color": "white"
             }
            },
            "header": {
             "fill": {
              "color": "#C8D4E3"
             },
             "line": {
              "color": "white"
             }
            },
            "type": "table"
           }
          ]
         },
         "layout": {
          "annotationdefaults": {
           "arrowcolor": "#2a3f5f",
           "arrowhead": 0,
           "arrowwidth": 1
          },
          "coloraxis": {
           "colorbar": {
            "outlinewidth": 0,
            "ticks": ""
           }
          },
          "colorscale": {
           "diverging": [
            [
             0,
             "#8e0152"
            ],
            [
             0.1,
             "#c51b7d"
            ],
            [
             0.2,
             "#de77ae"
            ],
            [
             0.3,
             "#f1b6da"
            ],
            [
             0.4,
             "#fde0ef"
            ],
            [
             0.5,
             "#f7f7f7"
            ],
            [
             0.6,
             "#e6f5d0"
            ],
            [
             0.7,
             "#b8e186"
            ],
            [
             0.8,
             "#7fbc41"
            ],
            [
             0.9,
             "#4d9221"
            ],
            [
             1,
             "#276419"
            ]
           ],
           "sequential": [
            [
             0,
             "#0d0887"
            ],
            [
             0.1111111111111111,
             "#46039f"
            ],
            [
             0.2222222222222222,
             "#7201a8"
            ],
            [
             0.3333333333333333,
             "#9c179e"
            ],
            [
             0.4444444444444444,
             "#bd3786"
            ],
            [
             0.5555555555555556,
             "#d8576b"
            ],
            [
             0.6666666666666666,
             "#ed7953"
            ],
            [
             0.7777777777777778,
             "#fb9f3a"
            ],
            [
             0.8888888888888888,
             "#fdca26"
            ],
            [
             1,
             "#f0f921"
            ]
           ],
           "sequentialminus": [
            [
             0,
             "#0d0887"
            ],
            [
             0.1111111111111111,
             "#46039f"
            ],
            [
             0.2222222222222222,
             "#7201a8"
            ],
            [
             0.3333333333333333,
             "#9c179e"
            ],
            [
             0.4444444444444444,
             "#bd3786"
            ],
            [
             0.5555555555555556,
             "#d8576b"
            ],
            [
             0.6666666666666666,
             "#ed7953"
            ],
            [
             0.7777777777777778,
             "#fb9f3a"
            ],
            [
             0.8888888888888888,
             "#fdca26"
            ],
            [
             1,
             "#f0f921"
            ]
           ]
          },
          "colorway": [
           "#636efa",
           "#EF553B",
           "#00cc96",
           "#ab63fa",
           "#FFA15A",
           "#19d3f3",
           "#FF6692",
           "#B6E880",
           "#FF97FF",
           "#FECB52"
          ],
          "font": {
           "color": "#2a3f5f"
          },
          "geo": {
           "bgcolor": "white",
           "lakecolor": "white",
           "landcolor": "#E5ECF6",
           "showlakes": true,
           "showland": true,
           "subunitcolor": "white"
          },
          "hoverlabel": {
           "align": "left"
          },
          "hovermode": "closest",
          "mapbox": {
           "style": "light"
          },
          "paper_bgcolor": "white",
          "plot_bgcolor": "#E5ECF6",
          "polar": {
           "angularaxis": {
            "gridcolor": "white",
            "linecolor": "white",
            "ticks": ""
           },
           "bgcolor": "#E5ECF6",
           "radialaxis": {
            "gridcolor": "white",
            "linecolor": "white",
            "ticks": ""
           }
          },
          "scene": {
           "xaxis": {
            "backgroundcolor": "#E5ECF6",
            "gridcolor": "white",
            "gridwidth": 2,
            "linecolor": "white",
            "showbackground": true,
            "ticks": "",
            "zerolinecolor": "white"
           },
           "yaxis": {
            "backgroundcolor": "#E5ECF6",
            "gridcolor": "white",
            "gridwidth": 2,
            "linecolor": "white",
            "showbackground": true,
            "ticks": "",
            "zerolinecolor": "white"
           },
           "zaxis": {
            "backgroundcolor": "#E5ECF6",
            "gridcolor": "white",
            "gridwidth": 2,
            "linecolor": "white",
            "showbackground": true,
            "ticks": "",
            "zerolinecolor": "white"
           }
          },
          "shapedefaults": {
           "line": {
            "color": "#2a3f5f"
           }
          },
          "ternary": {
           "aaxis": {
            "gridcolor": "white",
            "linecolor": "white",
            "ticks": ""
           },
           "baxis": {
            "gridcolor": "white",
            "linecolor": "white",
            "ticks": ""
           },
           "bgcolor": "#E5ECF6",
           "caxis": {
            "gridcolor": "white",
            "linecolor": "white",
            "ticks": ""
           }
          },
          "title": {
           "x": 0.05
          },
          "xaxis": {
           "automargin": true,
           "gridcolor": "white",
           "linecolor": "white",
           "ticks": "",
           "title": {
            "standoff": 15
           },
           "zerolinecolor": "white",
           "zerolinewidth": 2
          },
          "yaxis": {
           "automargin": true,
           "gridcolor": "white",
           "linecolor": "white",
           "ticks": "",
           "title": {
            "standoff": 15
           },
           "zerolinecolor": "white",
           "zerolinewidth": 2
          }
         }
        },
        "title": {
         "text": "Banknote Image Comparison"
        }
       }
      },
      "text/html": [
       "<div>                            <div id=\"94d71dad-cdf5-4c73-8135-91e945f17b63\" class=\"plotly-graph-div\" style=\"height:525px; width:100%;\"></div>            <script type=\"text/javascript\">                require([\"plotly\"], function(Plotly) {                    window.PLOTLYENV=window.PLOTLYENV || {};                                    if (document.getElementById(\"94d71dad-cdf5-4c73-8135-91e945f17b63\")) {                    Plotly.newPlot(                        \"94d71dad-cdf5-4c73-8135-91e945f17b63\",                        [{\"name\": \"Authentic\", \"type\": \"bar\", \"x\": [\"attribute_A\", \"attribute_B\", \"attribute_C\", \"attribute_D\"], \"y\": [2.2766860052493447, 4.256627188342784, 0.7967179652099738, -1.1476402762467195]}, {\"name\": \"Forgery\", \"type\": \"bar\", \"x\": [\"attribute_A\", \"attribute_B\", \"attribute_C\", \"attribute_D\"], \"y\": [-1.868442562786883, -0.9935761245901634, 2.1482710088524617, -1.2466407459016389]}],                        {\"barmode\": \"group\", \"template\": {\"data\": {\"bar\": [{\"error_x\": {\"color\": \"#2a3f5f\"}, \"error_y\": {\"color\": \"#2a3f5f\"}, \"marker\": {\"line\": {\"color\": \"#E5ECF6\", \"width\": 0.5}}, \"type\": \"bar\"}], \"barpolar\": [{\"marker\": {\"line\": {\"color\": \"#E5ECF6\", \"width\": 0.5}}, \"type\": \"barpolar\"}], \"carpet\": [{\"aaxis\": {\"endlinecolor\": \"#2a3f5f\", \"gridcolor\": \"white\", \"linecolor\": \"white\", \"minorgridcolor\": \"white\", \"startlinecolor\": \"#2a3f5f\"}, \"baxis\": {\"endlinecolor\": \"#2a3f5f\", \"gridcolor\": \"white\", \"linecolor\": \"white\", \"minorgridcolor\": \"white\", \"startlinecolor\": \"#2a3f5f\"}, \"type\": \"carpet\"}], \"choropleth\": [{\"colorbar\": {\"outlinewidth\": 0, \"ticks\": \"\"}, \"type\": \"choropleth\"}], \"contour\": [{\"colorbar\": {\"outlinewidth\": 0, \"ticks\": \"\"}, \"colorscale\": [[0.0, \"#0d0887\"], [0.1111111111111111, \"#46039f\"], [0.2222222222222222, \"#7201a8\"], [0.3333333333333333, \"#9c179e\"], [0.4444444444444444, \"#bd3786\"], [0.5555555555555556, \"#d8576b\"], [0.6666666666666666, \"#ed7953\"], [0.7777777777777778, \"#fb9f3a\"], [0.8888888888888888, \"#fdca26\"], [1.0, \"#f0f921\"]], \"type\": \"contour\"}], \"contourcarpet\": [{\"colorbar\": {\"outlinewidth\": 0, \"ticks\": \"\"}, \"type\": \"contourcarpet\"}], \"heatmap\": [{\"colorbar\": {\"outlinewidth\": 0, \"ticks\": \"\"}, \"colorscale\": [[0.0, \"#0d0887\"], [0.1111111111111111, \"#46039f\"], [0.2222222222222222, \"#7201a8\"], [0.3333333333333333, \"#9c179e\"], [0.4444444444444444, \"#bd3786\"], [0.5555555555555556, \"#d8576b\"], [0.6666666666666666, \"#ed7953\"], [0.7777777777777778, \"#fb9f3a\"], [0.8888888888888888, \"#fdca26\"], [1.0, \"#f0f921\"]], \"type\": \"heatmap\"}], \"heatmapgl\": [{\"colorbar\": {\"outlinewidth\": 0, \"ticks\": \"\"}, \"colorscale\": [[0.0, \"#0d0887\"], [0.1111111111111111, \"#46039f\"], [0.2222222222222222, \"#7201a8\"], [0.3333333333333333, \"#9c179e\"], [0.4444444444444444, \"#bd3786\"], [0.5555555555555556, \"#d8576b\"], [0.6666666666666666, \"#ed7953\"], [0.7777777777777778, \"#fb9f3a\"], [0.8888888888888888, \"#fdca26\"], [1.0, \"#f0f921\"]], \"type\": \"heatmapgl\"}], \"histogram\": [{\"marker\": {\"colorbar\": {\"outlinewidth\": 0, \"ticks\": \"\"}}, \"type\": \"histogram\"}], \"histogram2d\": [{\"colorbar\": {\"outlinewidth\": 0, \"ticks\": \"\"}, \"colorscale\": [[0.0, \"#0d0887\"], [0.1111111111111111, \"#46039f\"], [0.2222222222222222, \"#7201a8\"], [0.3333333333333333, \"#9c179e\"], [0.4444444444444444, \"#bd3786\"], [0.5555555555555556, \"#d8576b\"], [0.6666666666666666, \"#ed7953\"], [0.7777777777777778, \"#fb9f3a\"], [0.8888888888888888, \"#fdca26\"], [1.0, \"#f0f921\"]], \"type\": \"histogram2d\"}], \"histogram2dcontour\": [{\"colorbar\": {\"outlinewidth\": 0, \"ticks\": \"\"}, \"colorscale\": [[0.0, \"#0d0887\"], [0.1111111111111111, \"#46039f\"], [0.2222222222222222, \"#7201a8\"], [0.3333333333333333, \"#9c179e\"], [0.4444444444444444, \"#bd3786\"], [0.5555555555555556, \"#d8576b\"], [0.6666666666666666, \"#ed7953\"], [0.7777777777777778, \"#fb9f3a\"], [0.8888888888888888, \"#fdca26\"], [1.0, \"#f0f921\"]], \"type\": \"histogram2dcontour\"}], \"mesh3d\": [{\"colorbar\": {\"outlinewidth\": 0, \"ticks\": \"\"}, \"type\": \"mesh3d\"}], \"parcoords\": [{\"line\": {\"colorbar\": {\"outlinewidth\": 0, \"ticks\": \"\"}}, \"type\": \"parcoords\"}], \"pie\": [{\"automargin\": true, \"type\": \"pie\"}], \"scatter\": [{\"marker\": {\"colorbar\": {\"outlinewidth\": 0, \"ticks\": \"\"}}, \"type\": \"scatter\"}], \"scatter3d\": [{\"line\": {\"colorbar\": {\"outlinewidth\": 0, \"ticks\": \"\"}}, \"marker\": {\"colorbar\": {\"outlinewidth\": 0, \"ticks\": \"\"}}, \"type\": \"scatter3d\"}], \"scattercarpet\": [{\"marker\": {\"colorbar\": {\"outlinewidth\": 0, \"ticks\": \"\"}}, \"type\": \"scattercarpet\"}], \"scattergeo\": [{\"marker\": {\"colorbar\": {\"outlinewidth\": 0, \"ticks\": \"\"}}, \"type\": \"scattergeo\"}], \"scattergl\": [{\"marker\": {\"colorbar\": {\"outlinewidth\": 0, \"ticks\": \"\"}}, \"type\": \"scattergl\"}], \"scattermapbox\": [{\"marker\": {\"colorbar\": {\"outlinewidth\": 0, \"ticks\": \"\"}}, \"type\": \"scattermapbox\"}], \"scatterpolar\": [{\"marker\": {\"colorbar\": {\"outlinewidth\": 0, \"ticks\": \"\"}}, \"type\": \"scatterpolar\"}], \"scatterpolargl\": [{\"marker\": {\"colorbar\": {\"outlinewidth\": 0, \"ticks\": \"\"}}, \"type\": \"scatterpolargl\"}], \"scatterternary\": [{\"marker\": {\"colorbar\": {\"outlinewidth\": 0, \"ticks\": \"\"}}, \"type\": \"scatterternary\"}], \"surface\": [{\"colorbar\": {\"outlinewidth\": 0, \"ticks\": \"\"}, \"colorscale\": [[0.0, \"#0d0887\"], [0.1111111111111111, \"#46039f\"], [0.2222222222222222, \"#7201a8\"], [0.3333333333333333, \"#9c179e\"], [0.4444444444444444, \"#bd3786\"], [0.5555555555555556, \"#d8576b\"], [0.6666666666666666, \"#ed7953\"], [0.7777777777777778, \"#fb9f3a\"], [0.8888888888888888, \"#fdca26\"], [1.0, \"#f0f921\"]], \"type\": \"surface\"}], \"table\": [{\"cells\": {\"fill\": {\"color\": \"#EBF0F8\"}, \"line\": {\"color\": \"white\"}}, \"header\": {\"fill\": {\"color\": \"#C8D4E3\"}, \"line\": {\"color\": \"white\"}}, \"type\": \"table\"}]}, \"layout\": {\"annotationdefaults\": {\"arrowcolor\": \"#2a3f5f\", \"arrowhead\": 0, \"arrowwidth\": 1}, \"coloraxis\": {\"colorbar\": {\"outlinewidth\": 0, \"ticks\": \"\"}}, \"colorscale\": {\"diverging\": [[0, \"#8e0152\"], [0.1, \"#c51b7d\"], [0.2, \"#de77ae\"], [0.3, \"#f1b6da\"], [0.4, \"#fde0ef\"], [0.5, \"#f7f7f7\"], [0.6, \"#e6f5d0\"], [0.7, \"#b8e186\"], [0.8, \"#7fbc41\"], [0.9, \"#4d9221\"], [1, \"#276419\"]], \"sequential\": [[0.0, \"#0d0887\"], [0.1111111111111111, \"#46039f\"], [0.2222222222222222, \"#7201a8\"], [0.3333333333333333, \"#9c179e\"], [0.4444444444444444, \"#bd3786\"], [0.5555555555555556, \"#d8576b\"], [0.6666666666666666, \"#ed7953\"], [0.7777777777777778, \"#fb9f3a\"], [0.8888888888888888, \"#fdca26\"], [1.0, \"#f0f921\"]], \"sequentialminus\": [[0.0, \"#0d0887\"], [0.1111111111111111, \"#46039f\"], [0.2222222222222222, \"#7201a8\"], [0.3333333333333333, \"#9c179e\"], [0.4444444444444444, \"#bd3786\"], [0.5555555555555556, \"#d8576b\"], [0.6666666666666666, \"#ed7953\"], [0.7777777777777778, \"#fb9f3a\"], [0.8888888888888888, \"#fdca26\"], [1.0, \"#f0f921\"]]}, \"colorway\": [\"#636efa\", \"#EF553B\", \"#00cc96\", \"#ab63fa\", \"#FFA15A\", \"#19d3f3\", \"#FF6692\", \"#B6E880\", \"#FF97FF\", \"#FECB52\"], \"font\": {\"color\": \"#2a3f5f\"}, \"geo\": {\"bgcolor\": \"white\", \"lakecolor\": \"white\", \"landcolor\": \"#E5ECF6\", \"showlakes\": true, \"showland\": true, \"subunitcolor\": \"white\"}, \"hoverlabel\": {\"align\": \"left\"}, \"hovermode\": \"closest\", \"mapbox\": {\"style\": \"light\"}, \"paper_bgcolor\": \"white\", \"plot_bgcolor\": \"#E5ECF6\", \"polar\": {\"angularaxis\": {\"gridcolor\": \"white\", \"linecolor\": \"white\", \"ticks\": \"\"}, \"bgcolor\": \"#E5ECF6\", \"radialaxis\": {\"gridcolor\": \"white\", \"linecolor\": \"white\", \"ticks\": \"\"}}, \"scene\": {\"xaxis\": {\"backgroundcolor\": \"#E5ECF6\", \"gridcolor\": \"white\", \"gridwidth\": 2, \"linecolor\": \"white\", \"showbackground\": true, \"ticks\": \"\", \"zerolinecolor\": \"white\"}, \"yaxis\": {\"backgroundcolor\": \"#E5ECF6\", \"gridcolor\": \"white\", \"gridwidth\": 2, \"linecolor\": \"white\", \"showbackground\": true, \"ticks\": \"\", \"zerolinecolor\": \"white\"}, \"zaxis\": {\"backgroundcolor\": \"#E5ECF6\", \"gridcolor\": \"white\", \"gridwidth\": 2, \"linecolor\": \"white\", \"showbackground\": true, \"ticks\": \"\", \"zerolinecolor\": \"white\"}}, \"shapedefaults\": {\"line\": {\"color\": \"#2a3f5f\"}}, \"ternary\": {\"aaxis\": {\"gridcolor\": \"white\", \"linecolor\": \"white\", \"ticks\": \"\"}, \"baxis\": {\"gridcolor\": \"white\", \"linecolor\": \"white\", \"ticks\": \"\"}, \"bgcolor\": \"#E5ECF6\", \"caxis\": {\"gridcolor\": \"white\", \"linecolor\": \"white\", \"ticks\": \"\"}}, \"title\": {\"x\": 0.05}, \"xaxis\": {\"automargin\": true, \"gridcolor\": \"white\", \"linecolor\": \"white\", \"ticks\": \"\", \"title\": {\"standoff\": 15}, \"zerolinecolor\": \"white\", \"zerolinewidth\": 2}, \"yaxis\": {\"automargin\": true, \"gridcolor\": \"white\", \"linecolor\": \"white\", \"ticks\": \"\", \"title\": {\"standoff\": 15}, \"zerolinecolor\": \"white\", \"zerolinewidth\": 2}}}, \"title\": {\"text\": \"Banknote Image Comparison\"}},                        {\"responsive\": true}                    ).then(function(){\n",
       "                            \n",
       "var gd = document.getElementById('94d71dad-cdf5-4c73-8135-91e945f17b63');\n",
       "var x = new MutationObserver(function (mutations, observer) {{\n",
       "        var display = window.getComputedStyle(gd).display;\n",
       "        if (!display || display === 'none') {{\n",
       "            console.log([gd, 'removed!']);\n",
       "            Plotly.purge(gd);\n",
       "            observer.disconnect();\n",
       "        }}\n",
       "}});\n",
       "\n",
       "// Listen for the removal of the full notebook cells\n",
       "var notebookContainer = gd.closest('#notebook-container');\n",
       "if (notebookContainer) {{\n",
       "    x.observe(notebookContainer, {childList: true});\n",
       "}}\n",
       "\n",
       "// Listen for the clearing of the current output cell\n",
       "var outputEl = gd.closest('.output');\n",
       "if (outputEl) {{\n",
       "    x.observe(outputEl, {childList: true});\n",
       "}}\n",
       "\n",
       "                        })                };                });            </script>        </div>"
      ]
     },
     "metadata": {},
     "output_type": "display_data"
    }
   ],
   "source": [
    "comparison = df.groupby('forgery').mean()\n",
    "fig = go.Figure(data=[\n",
    "    go.Bar(name='Authentic', x=comparison.columns, y=comparison.iloc[0]),\n",
    "    go.Bar(name='Forgery', x=comparison.columns, y=comparison.iloc[1])\n",
    "])\n",
    "fig.update_layout(title='Banknote Image Comparison',\n",
    "                  barmode='group')\n",
    "fig.show()"
   ]
  },
  {
   "cell_type": "code",
   "execution_count": 117,
   "metadata": {},
   "outputs": [
    {
     "data": {
      "application/vnd.plotly.v1+json": {
       "config": {
        "plotlyServerURL": "https://plot.ly"
       },
       "data": [
        {
         "marker": {
          "color": "blue",
          "opacity": 0.4,
          "size": 4
         },
         "mode": "markers",
         "name": "Authentic",
         "type": "scatter3d",
         "x": [
          3.6216,
          4.5459,
          3.866,
          3.4566,
          0.32924000000000003,
          4.3684,
          3.5912,
          2.0922,
          3.2032,
          1.5356,
          1.2247,
          3.9899,
          1.8993,
          -1.5768,
          3.404,
          4.6765,
          2.6719,
          0.80355,
          1.4479,
          5.2423,
          5.7867,
          0.3292,
          3.9362,
          0.93584,
          4.4338,
          0.7057,
          1.1432,
          -0.38214000000000004,
          6.5633,
          4.8906,
          -0.24811,
          1.4884,
          4.2969,
          -0.96511,
          -1.6162,
          2.4391,
          2.6881,
          3.6289,
          4.5679,
          3.4805,
          4.1711,
          -0.2062,
          -0.006891899999999999,
          0.96441,
          2.8561,
          -0.7869,
          2.0843,
          -0.7869,
          3.9102,
          1.6349,
          4.3239,
          5.2620000000000005,
          3.1452,
          2.549,
          4.9264,
          4.8265,
          2.5635,
          5.807,
          3.1377,
          -0.78289,
          2.888,
          0.49665,
          4.2586,
          1.7939,
          5.4021,
          2.5367,
          4.6054,
          2.4235,
          1.0009,
          0.12326,
          3.9529,
          4.1373,
          4.7181,
          4.1654,
          4.4069,
          2.3066,
          3.7935,
          0.049175,
          0.24835,
          1.1317,
          2.8033,
          4.4682,
          5.0185,
          1.8664,
          3.245,
          4.0296,
          -1.1313,
          0.87603,
          4.1197,
          3.8027,
          1.4806,
          4.0632,
          4.3064,
          2.4486,
          3.2718,
          -0.64472,
          2.9543,
          2.1616,
          3.82,
          -2.7419,
          3.3669,
          4.5597,
          5.1129,
          3.3397,
          4.2027,
          3.5438,
          2.3136,
          -1.8584,
          3.1060000000000003,
          2.9163,
          3.9922,
          1.518,
          3.2351,
          4.2188,
          1.7819,
          2.5331,
          3.8969,
          2.108,
          2.8969,
          0.9297,
          3.4642,
          4.0713,
          -1.4572,
          -1.5075,
          -0.9171799999999999,
          2.9939999999999998,
          -2.343,
          3.7818,
          4.6689,
          3.4663,
          3.2697,
          5.1302,
          2.0139,
          0.4339,
          -1.0401,
          4.1605,
          5.438,
          5.032,
          5.2418,
          -0.2062,
          2.0911,
          1.7317,
          4.1736,
          3.9232,
          3.8481,
          0.5195,
          3.8584,
          1.7496,
          3.6277,
          2.7391,
          4.5447,
          -1.7599,
          5.0691,
          3.4591,
          1.9358,
          2.4859999999999998,
          2.4226,
          3.9479,
          2.2634,
          1.3566,
          5.0452,
          3.5499,
          0.17346,
          2.4008,
          4.8851,
          4.1927,
          1.1166,
          1.0235,
          -1.8030000000000002,
          0.11739000000000001,
          0.5706,
          4.0552,
          -1.6952,
          -1.1193,
          1.8799,
          3.583,
          0.19080999999999998,
          3.6582,
          -0.13144,
          2.3925,
          1.6426,
          -0.11782999999999999,
          -0.69572,
          2.9421,
          -1.7559,
          -1.2537,
          3.2585,
          1.8314,
          4.5645,
          2.7365,
          0.9297,
          3.9663,
          1.4578,
          4.8272,
          -2.3409999999999997,
          -1.8584,
          4.1454,
          1.9157,
          4.0215,
          5.8862,
          -2.0897,
          4.0026,
          -0.78689,
          4.1757,
          0.8329200000000001,
          4.8077,
          5.3063,
          2.5605,
          2.1059,
          2.1721,
          4.2899,
          3.5156,
          2.614,
          0.68087,
          4.1962,
          6.0919,
          1.3234,
          1.3264,
          -0.16735,
          -1.3,
          -2.2261,
          2.4196,
          1.0987,
          4.6464,
          -0.36038000000000003,
          1.3562,
          0.5706,
          -2.6479,
          3.1219,
          5.4944,
          -1.3389,
          -2.3361,
          2.2596,
          0.46901000000000004,
          2.7296,
          2.0466,
          -1.3274,
          3.8905,
          3.9994,
          2.3952,
          3.2704,
          -1.3931,
          1.6406,
          2.7744,
          2.4287,
          4.2134,
          1.6472,
          2.0597,
          0.3798,
          1.0135,
          4.5691,
          0.5746100000000001,
          0.5734,
          5.2868,
          4.0102,
          4.1425,
          3.0934,
          2.2034,
          3.7439999999999998,
          3.0329,
          3.7731,
          3.1557,
          1.8114,
          4.988,
          2.483,
          1.594,
          -0.016103,
          3.8496,
          0.9297,
          4.9342,
          3.8417,
          5.3915,
          4.4072,
          2.6946,
          5.2756,
          3.4312,
          4.052,
          1.3638,
          0.89566,
          1.9265,
          0.20976999999999998,
          4.0680000000000005,
          2.877,
          0.3223,
          -1.3,
          1.7747,
          1.3419,
          0.8960600000000001,
          0.44125,
          3.2422,
          2.5678,
          -2.2153,
          4.1349,
          1.9340000000000002,
          2.5068,
          2.1464,
          0.051979,
          1.2706,
          1.143,
          2.2928,
          0.3292,
          2.9719,
          1.6849,
          -1.9177,
          2.3729,
          1.0284,
          0.27451,
          1.6032,
          4.6160000000000005,
          4.2478,
          4.0215,
          5.0297,
          1.5902,
          2.1274,
          1.1811,
          0.3292,
          5.7353,
          2.6718,
          1.5799,
          2.9499,
          0.5195,
          3.7352,
          -1.7344,
          3.884,
          3.5257,
          4.4549,
          -0.16108,
          4.2164,
          3.5152,
          1.6988,
          1.0607,
          2.0421,
          3.5594,
          3.0009,
          3.9294,
          3.4667,
          3.966,
          1.0191,
          0.96414,
          1.8205,
          4.9923,
          -1.1804,
          4.0329,
          0.66018,
          3.5982,
          -1.8584,
          4.0972,
          3.3299,
          3.1088,
          -4.2859,
          -1.2528,
          0.5195,
          0.3292,
          0.8887200000000001,
          3.5458,
          -0.21661,
          2.7206,
          3.2051,
          2.6917,
          -2.3242,
          2.7161,
          3.3848,
          1.7452,
          2.805,
          5.7823,
          3.8999,
          3.5189,
          3.2294,
          3.4985,
          2.1948,
          2.2526,
          4.1529,
          0.74307,
          1.9105,
          -1.5055,
          0.58836,
          3.2303,
          -1.9922,
          2.8523,
          4.2772,
          1.5099,
          5.4188,
          0.8620200000000001,
          3.8117,
          0.54777,
          2.3718,
          -2.4953,
          4.6361,
          -2.2527,
          3.7982,
          -0.36279,
          2.1265,
          0.86736,
          3.7831,
          -2.2623,
          1.2616,
          2.6799,
          -0.39816,
          4.3937,
          2.9695,
          1.3049,
          2.2123,
          1.9647,
          3.0864,
          0.3798,
          0.58982,
          0.14783,
          -0.062025,
          4.223,
          0.64295,
          1.9409999999999998,
          4.0047,
          3.7767,
          3.4769,
          1.9818,
          3.8023,
          4.3483,
          1.1518,
          -1.2576,
          1.9572,
          -2.484,
          -1.1497,
          4.8368,
          -0.12195999999999999,
          1.9429,
          1.742,
          -1.5222,
          -1.3,
          3.4246,
          2.5503,
          1.5691,
          1.3087,
          5.1776,
          2.229,
          5.6272,
          1.2138,
          0.3798,
          0.5415,
          4.0524,
          4.7285,
          3.4359,
          0.86816,
          3.359,
          3.6702,
          1.3349,
          3.1887,
          2.4527,
          3.9121,
          3.9364,
          3.9414,
          3.6922,
          5.681,
          0.7712399999999999,
          3.5761,
          1.6019999999999999,
          2.6682,
          2.0007,
          0.64215,
          4.3848,
          0.77445,
          0.9657399999999999,
          3.0948,
          4.9362,
          -1.9458,
          5.7403,
          -2.6989,
          1.1472,
          2.9742,
          4.5707,
          0.1848,
          0.87256,
          0.39559,
          3.8384,
          2.8209,
          2.5817,
          3.8213,
          0.3798,
          3.4893,
          -1.7781,
          2.0962,
          0.94732,
          2.8261,
          0.007124899999999999,
          0.96788,
          4.7432,
          3.6575,
          3.8832,
          3.4776,
          1.1315,
          2.8237,
          1.9321,
          3.0632,
          -1.8411,
          2.8084,
          2.5698,
          -0.12624000000000002,
          3.3756,
          -0.048007999999999995,
          0.5706,
          0.88444,
          3.8644,
          1.2999,
          2.0051,
          4.9294,
          2.8297,
          2.565,
          2.093,
          4.6014,
          5.0617,
          -0.2951,
          3.577,
          3.9433,
          2.6648,
          5.9374,
          2.0153,
          5.8782,
          -2.3983,
          1.7619999999999998,
          4.2406,
          3.4669,
          3.1896,
          0.8135600000000001,
          0.52855,
          2.1319,
          0.33111,
          1.2746,
          2.2091,
          2.5328,
          3.6244,
          -1.3885,
          5.7227,
          3.3583,
          2.5227,
          0.045304000000000004,
          4.8278,
          1.9476,
          2.7659,
          -0.10647999999999999,
          0.7225199999999999,
          4.2475,
          3.9772,
          3.6667,
          2.8232,
          -1.4217,
          4.2458,
          4.1038,
          1.4507,
          3.4647,
          1.8533,
          3.5288,
          3.9719,
          3.534,
          3.6894,
          3.0672,
          2.6463,
          2.2893,
          1.5673,
          4.0405,
          4.3846,
          2.0165,
          4.0446,
          -0.33729000000000003,
          -2.4604,
          4.1195,
          2.0193,
          1.5701,
          2.6415,
          5.0214,
          4.3435,
          1.8238,
          3.9382,
          2.2517,
          5.504,
          2.8521,
          1.1676,
          2.6104,
          0.32444,
          3.8962,
          2.1752,
          1.1588,
          4.7072,
          -1.9667,
          4.0552,
          2.3678,
          0.33565,
          4.3398,
          1.5456,
          1.4276,
          -0.27802,
          0.93611,
          4.6352,
          1.5268,
          0.95626,
          -2.7914,
          5.2032,
          3.1836,
          0.6549699999999999,
          5.6084,
          1.105,
          3.9292,
          1.1558,
          2.5581,
          2.7831,
          3.7635,
          -2.6479,
          1.0652,
          -1.4275,
          5.7456,
          5.086,
          3.4092,
          -0.2361,
          3.8197,
          -1.1391,
          4.9249,
          2.5089,
          -0.2062,
          3.946,
          -0.278,
          1.8592,
          0.56953,
          3.4626,
          3.3951,
          5.0429,
          3.7758,
          4.6562,
          4.0948,
          1.8384,
          2.0153,
          3.5251,
          3.7569999999999997,
          2.5989,
          1.8994,
          3.6941,
          4.4295,
          6.8248,
          1.8967,
          2.1526,
          3.3004,
          2.7213,
          3.8846,
          4.1665,
          0.94225,
          5.1321,
          0.38251,
          3.0333,
          2.9233,
          1.162,
          3.7791,
          0.77765,
          -0.38388,
          0.21084,
          2.9571,
          4.6439,
          3.3577,
          3.5127,
          2.6562,
          -1.3612,
          -0.278,
          1.04,
          2.1881,
          4.2756,
          -0.11996,
          2.9736,
          3.7798,
          5.3586,
          1.8373,
          1.2262,
          -0.048007999999999995,
          0.5706,
          4.3634,
          3.4819999999999998,
          0.51947,
          2.3164,
          -1.8348,
          1.3754,
          -0.16682,
          0.29961,
          0.25035,
          2.4673,
          0.77805,
          3.4465,
          2.2429,
          3.7321,
          4.3365,
          -2.0759,
          4.0715,
          0.76163,
          -0.53966,
          2.6213,
          3.0242,
          5.8519,
          0.5706,
          3.9771,
          1.5478,
          0.74054,
          0.49571000000000004,
          1.645,
          3.6077,
          3.2403,
          3.9166,
          3.9262,
          5.591,
          3.7522,
          1.3114,
          3.7022,
          4.364,
          3.5829,
          4.65,
          5.1731,
          3.2692,
          2.4012,
          1.7257,
          4.7965,
          4.0962,
          2.5559,
          3.4916,
          0.5195,
          2.9856,
          4.0932,
          1.7748,
          5.2012,
          -0.45061999999999997,
          4.8451,
          0.74841,
          5.1213,
          3.6181,
          0.040498,
          -2.6479,
          0.37984,
          -0.9592299999999999,
          2.8672,
          1.0182,
          -2.7143,
          3.8244,
          2.7961,
          3.5358,
          -0.7056,
          4.1542,
          0.9270299999999999,
          1.8216,
          -2.4473,
          3.5862,
          0.66191,
          4.7926,
          4.9852,
          0.75736,
          4.6499,
          -0.023579,
          0.85574,
          0.8829799999999999,
          4.0422,
          2.2546,
          0.38478,
          3.1541,
          2.3969,
          4.7114,
          4.0127,
          2.6606,
          3.931,
          0.017269999999999997,
          3.2414,
          2.2504
         ],
         "y": [
          8.6661,
          8.1674,
          -2.6383,
          9.5228,
          -4.4552,
          9.6718,
          3.0129,
          -6.81,
          5.7588,
          9.1772,
          8.7779,
          -2.7066,
          7.6625,
          10.843,
          8.7261,
          -3.3895,
          3.0646,
          2.8473,
          -4.8794,
          11.0272,
          7.8902,
          -4.4552,
          10.1622,
          8.8855,
          9.887,
          -5.4981,
          -3.7413,
          8.3909,
          9.8187,
          -3.3584,
          -0.17797000000000002,
          3.6274,
          7.617000000000001,
          9.4111,
          0.80908,
          6.4417,
          6.0195,
          0.8132199999999999,
          3.1929,
          9.7008,
          8.722000000000001,
          9.2207,
          9.2931,
          5.8395,
          6.9176,
          9.5663,
          6.6258,
          9.5663,
          6.065,
          3.286,
          -4.8835,
          3.9834,
          5.825,
          6.1499,
          5.496,
          0.80287,
          6.7769,
          5.0097,
          -4.1096,
          11.3603,
          0.44696,
          5.527,
          11.2962,
          -1.1174,
          3.1039,
          2.5989999999999998,
          -4.0765,
          9.5332,
          7.7846,
          8.9848,
          -2.3548,
          0.49248000000000003,
          10.0153,
          -3.4495,
          10.9072,
          3.5364,
          7.9853,
          6.1437,
          7.6439,
          3.9647,
          9.0862,
          2.2907,
          8.5978,
          7.7763,
          6.63,
          2.6756,
          1.9037,
          6.8141,
          -2.7956,
          0.81529,
          7.6377,
          3.5839999999999996,
          8.2068,
          -6.3175,
          1.7837,
          -4.6062,
          1.0759999999999998,
          -6.8804,
          10.9279,
          11.4038,
          -5.1856,
          -2.4211,
          -0.49871000000000004,
          -4.6145,
          0.22760999999999998,
          1.2395,
          10.6651,
          7.886,
          9.5414,
          10.8306,
          -4.4676,
          5.6946,
          9.647,
          6.8162,
          6.9176,
          2.9135,
          7.4163,
          6.7955,
          0.70768,
          -3.7971,
          10.6878,
          10.4023,
          9.1214,
          1.9224,
          9.9884,
          7.2011,
          12.9516,
          -2.8846,
          1.3098,
          1.1112,
          -4.3414,
          8.6703,
          6.1416,
          5.5395,
          9.3987,
          11.2196,
          9.4669,
          8.2026,
          10.5388,
          9.2207,
          0.94358,
          -0.34765,
          3.3336,
          -3.2467,
          10.1539,
          -3.2633,
          0.78425,
          -0.1759,
          0.9829,
          7.4018,
          8.2274,
          11.9211,
          0.21313000000000001,
          11.112,
          8.1654,
          -0.9953299999999999,
          -4.5752,
          -3.7723,
          -4.4862,
          4.2358,
          3.8964,
          8.6165,
          7.8695,
          9.3593,
          1.5995,
          -3.2674,
          8.6496,
          6.901,
          11.8818,
          6.2761,
          -0.0248,
          -2.4583,
          1.0657,
          10.7271,
          2.4707,
          -3.7971,
          9.1297,
          5.6864,
          -1.7775,
          9.798,
          3.0149,
          -1.5789,
          8.6165,
          7.4101,
          11.9459,
          10.8803,
          -4.4614,
          6.3672,
          -3.6275,
          -5.0325,
          -3.7971,
          10.1684,
          -0.08485,
          3.0687,
          12.3784,
          7.886,
          7.257000000000001,
          6.0816,
          -2.1914,
          5.8747,
          10.8265,
          -3.5943,
          9.5663,
          10.2615,
          7.5404,
          2.2327,
          5.2684,
          9.2683,
          7.6046,
          -0.73874,
          9.1814,
          10.1891,
          8.0081,
          2.3259,
          0.74493,
          2.9673,
          3.2964,
          1.0326,
          7.6274,
          10.2678,
          12.5398,
          6.4665,
          0.6394,
          10.5326,
          4.1158,
          3.2136,
          -0.0248,
          10.1374,
          -3.137,
          1.5478,
          1.5519999999999998,
          11.9604,
          -0.033118,
          -0.63321,
          2.8701,
          2.03,
          9.498,
          -2.1521,
          0.90427,
          9.5083,
          6.9321,
          1.5664,
          3.5488,
          6.8576,
          9.3821,
          -2.806,
          0.48213,
          -0.99326,
          0.7098,
          8.4551,
          -4.4552,
          10.1105,
          9.1938,
          3.2569999999999997,
          10.6568,
          -3.6792,
          -2.9177,
          5.9947,
          0.79459,
          2.2948,
          7.2073,
          2.8908,
          7.6067,
          7.2052,
          6.6155,
          4.7055,
          9.7484,
          9.7939,
          -3.7971,
          2.4107,
          10.0215,
          9.9946,
          -0.070365,
          6.7976,
          0.13863,
          6.2637,
          -0.16555,
          -4.7759,
          7.7763,
          7.7557,
          -0.46146000000000004,
          -2.9363,
          -4.0599,
          -0.8980799999999999,
          10.2678,
          -6.4334,
          -4.4221,
          10.5471,
          2.9487,
          6.2265,
          3.5136,
          11.9625,
          6.1189,
          -9.2828e-06,
          1.1588,
          6.0795,
          7.0521,
          8.035,
          0.83391,
          9.0386,
          -4.4552,
          6.8369,
          8.7489,
          11.6894,
          10.4726,
          9.767000000000001,
          9.2186,
          -4.7863,
          10.1788,
          7.6956,
          -2.7004,
          -4.9704,
          2.2948,
          5.1939,
          8.3847,
          -4.4552,
          5.2808,
          5.6574,
          -4.7076,
          2.2493,
          -3.2633,
          9.5911,
          2.0175,
          10.0277,
          1.2829,
          2.4976,
          -6.4624,
          9.4607,
          6.8224,
          2.9094,
          2.4542,
          1.2436,
          1.3078,
          5.8126,
          1.4112,
          -4.0724,
          3.9213,
          2.33,
          5.6160000000000005,
          6.7562,
          7.8653,
          11.5093,
          0.23175,
          10.3878,
          7.1307,
          7.886,
          0.46971999999999997,
          0.91254,
          3.1122,
          8.5234,
          10.2036,
          -3.2633,
          -4.4552,
          5.3449,
          9.3718,
          8.0329,
          9.0821,
          8.6889,
          10.8161,
          11.5176,
          -4.2006,
          3.2674,
          4.8028,
          0.5773199999999999,
          5.5788,
          1.734,
          6.332000000000001,
          7.7391,
          3.1639,
          1.3781,
          9.9636,
          -3.9358,
          11.17,
          8.871,
          0.070346,
          10.7727,
          7.8384,
          11.6542,
          9.0096,
          2.4955,
          0.039307,
          10.1457,
          2.6963,
          10.1457,
          10.3754,
          7.4908,
          11.1472,
          -2.6611,
          11.5321,
          10.423,
          8.2895,
          6.8783,
          5.5643,
          10.0526,
          12.1177,
          4.4303,
          3.1349,
          5.9781,
          0.35798,
          5.6222,
          -0.15521,
          -5.8395,
          6.9383,
          -2.5845,
          0.7098,
          7.4266,
          7.946000000000001,
          6.1975,
          1.1319,
          7.1018,
          0.46351000000000003,
          0.45937,
          9.7794,
          -0.15314,
          9.2621,
          -3.8696,
          11.1079,
          1.3864,
          1.5892,
          -5.1153,
          12.1611,
          1.2954,
          10.0132,
          8.8068,
          6.3961,
          -4.809,
          10.8409,
          10.2678,
          -0.14693,
          -4.9518,
          6.3465,
          4.9228,
          8.2316,
          9.6325,
          10.0857,
          8.7986,
          0.7098,
          6.0319,
          5.6802,
          2.1065,
          0.6621600000000001,
          10.2429,
          9.8022,
          2.9942,
          6.1189,
          -3.4143,
          2.9653,
          2.9735,
          10.5885,
          -3.2902,
          -3.9585,
          7.795,
          9.0862,
          9.7753,
          6.1251,
          10.216000000000001,
          1.8644,
          3.1287,
          -3.0729,
          9.0552,
          8.392999999999999,
          8.7324,
          7.6046,
          11.2217,
          -0.44283999999999996,
          12.1984,
          3.5985,
          8.96,
          7.2094,
          6.5079,
          9.2931,
          6.8866,
          6.1851,
          7.3108,
          9.7546,
          0.23175,
          0.7098,
          6.69,
          0.8546,
          2.4769,
          -0.57113,
          9.4007,
          8.3661,
          7.1907,
          2.1086,
          7.2797,
          6.4023,
          8.811,
          7.9212,
          2.8597,
          6.0423,
          -3.3315,
          10.8306,
          11.3045,
          -4.4076,
          10.3216,
          -4.0951,
          -1.6037,
          -0.0248,
          6.5906,
          3.7061,
          2.5762,
          -6.8638,
          0.27726999999999996,
          6.3485,
          8.633,
          8.3061,
          5.6264,
          -0.35799000000000003,
          9.0489,
          2.4004,
          2.5017,
          10.754000000000001,
          6.1664,
          1.8479,
          5.9409,
          12.606,
          4.3682,
          -2.4852,
          6.87,
          5.7526,
          9.1566,
          0.9642700000000001,
          -2.0403,
          4.5731,
          8.8172,
          7.4556,
          7.528,
          1.4609,
          12.5026,
          5.8312,
          10.3567,
          2.2369,
          6.7334,
          7.7598,
          -4.7738,
          0.6621600000000001,
          -0.76771,
          -0.053811000000000005,
          1.4816,
          0.33521,
          4.302,
          10.8513,
          11.6542,
          1.1981,
          -4.8069,
          8.7903,
          -3.9172,
          6.1458,
          0.71596,
          1.0367,
          9.3614,
          9.887,
          -4.4117,
          -4.8152,
          3.733,
          7.9274,
          0.5152399999999999,
          -4.8794,
          -0.25246,
          11.1741,
          -0.64976,
          12.7302,
          10.9258,
          0.8235600000000001,
          7.9129,
          7.586,
          8.0764,
          3.3295,
          -6.7748,
          0.9291,
          -5.1422,
          10.3671,
          9.171,
          9.1566,
          8.0081,
          10.067,
          -4.7904,
          -0.8091,
          8.9331,
          8.2957,
          11.8052,
          0.40143,
          -6.8389999999999995,
          6.8369,
          -5.3036,
          8.5482,
          8.3847,
          8.1881,
          8.6413,
          -3.0087,
          -5.5871,
          2.4728,
          1.7734,
          3.5116,
          7.2321,
          5.1815,
          10.3009,
          7.4432,
          -2.9156,
          6.4003,
          2.6218,
          10.9796,
          2.7811,
          10.1374,
          8.3682,
          11.8797,
          10.1808,
          3.2798,
          5.4049,
          9.3221,
          8.9951,
          1.8127,
          0.68906,
          6.841,
          9.2207,
          6.8514,
          8.1881,
          3.2074,
          7.6294,
          -4.449,
          1.1484,
          -0.52974,
          7.1783,
          7.6398,
          -2.9674,
          6.063,
          0.43661000000000005,
          0.7201,
          -5.4236,
          3.5178,
          0.97462,
          -3.9482,
          -2.3507,
          5.2187,
          -2.5163,
          -6.1665,
          7.0811,
          7.05,
          -3.0336,
          -0.4449,
          5.8561,
          -0.031048000000000003,
          6.8121,
          -2.5928,
          6.0464,
          10.2926,
          2.5762,
          5.9781,
          -1.0471,
          9.4359,
          -4.5938,
          -3.3729,
          -4.3062,
          2.9073,
          10.7044,
          10.694,
          8.1881,
          -6.9321,
          2.7356,
          -2.6528,
          6.8741,
          8.7944,
          -3.3109,
          3.7557,
          6.1292,
          0.89599,
          -0.5607800000000001,
          -0.024841,
          0.46351000000000003,
          -4.1634,
          -3.2633,
          -2.628,
          11.0334,
          8.8793,
          5.8974,
          7.1328,
          9.3262,
          1.3926,
          6.6424,
          2.9508,
          -4.1427,
          -3.884,
          -3.5839999999999996,
          10.8223,
          7.6398,
          5.8209,
          7.3273,
          5.7919,
          -3.3378,
          5.3905,
          -0.0248,
          11.1513,
          9.1814,
          0.36625,
          10.2243,
          7.8612,
          6.8576,
          -3.7082,
          10.2491,
          6.0299,
          10.4643,
          -3.6978,
          4.5462,
          6.9942,
          -3.1039,
          1.4423,
          -4.8297,
          3.9606,
          3.4184,
          1.6223,
          -4.4697,
          6.9859,
          10.1891,
          3.3605,
          8.5709,
          -3.2633,
          7.2673,
          5.4132,
          -0.76978,
          0.32694,
          -1.3678,
          8.1116,
          7.2756,
          8.5565,
          -3.7454,
          8.5234,
          10.1374,
          0.70975,
          0.091039,
          10.0008,
          9.109,
          11.4535,
          -3.1081,
          2.121,
          6.7086,
          8.7241,
          7.2756,
          9.4318,
          -6.4748,
          12.6247,
          -3.0957,
          9.6594,
          1.7071,
          8.3516,
          3.0294,
          7.6336,
          7.1742,
          0.0082678,
          0.66009,
          -4.391,
          8.0992,
          6.5989,
          -5.1711,
          0.23589000000000002,
          2.0755,
          10.1477,
          3.1681,
          1.8541,
          8.693,
          0.40971,
          3.5757
         ],
         "z": [
          -2.8073,
          -2.4586,
          1.9242,
          -4.0112,
          4.5718,
          -3.9606,
          0.72888,
          8.4636,
          -0.75345,
          -2.2718,
          -2.2135,
          2.3946,
          0.15394000000000002,
          2.5462,
          -2.9915,
          3.4896,
          0.37158,
          4.3439,
          8.3428,
          -4.353,
          -2.6196,
          4.5718,
          -3.8235,
          -1.6831,
          -4.6795,
          8.3368,
          5.5777,
          2.1624,
          -4.4113,
          3.4202,
          4.9068,
          3.3080000000000003,
          -2.3874,
          1.7305,
          8.1628,
          -0.80743,
          -0.46641000000000005,
          1.6277,
          -2.1055,
          -3.7541,
          -3.0224,
          -3.7044,
          -0.41243,
          2.3235,
          -0.79372,
          -3.7867,
          0.48382,
          -3.7867,
          -2.4534,
          2.8753,
          3.4356,
          -1.5572,
          -0.51439,
          -1.1605,
          -2.4774,
          1.6371,
          -0.61979,
          -2.2384,
          4.5701,
          -0.37644,
          4.5907,
          1.7785,
          -4.0943,
          1.5454,
          -1.1536,
          2.0938,
          2.7587,
          -3.0789,
          -0.28219,
          -0.9351,
          2.3792,
          1.093,
          -3.9486,
          3.6430000000000002,
          -4.5775,
          0.5755100000000001,
          -2.5477,
          1.7828,
          0.9885,
          3.3979,
          -3.3668,
          0.9576600000000001,
          -2.9375,
          -0.23849,
          -0.63435,
          0.80685,
          7.5339,
          0.84198,
          2.0707,
          2.1041,
          -2.7876,
          0.72545,
          -2.7824,
          7.9632,
          2.1161,
          8.347000000000001,
          0.64577,
          8.1517,
          -4.0112,
          2.5394,
          3.6935,
          2.6413,
          0.62863,
          3.9823,
          0.9610799999999999,
          1.9969999999999999,
          -3.5288,
          -1.6643,
          -4.2536,
          -3.3437,
          3.7304,
          0.094818,
          -3.2074,
          -1.2804,
          -1.2744,
          -0.8220000000000001,
          -1.8245,
          -0.1708,
          2.29,
          4.6429,
          -3.4071,
          -4.1722,
          1.7425,
          7.1466,
          1.1804,
          -1.2153,
          3.3285,
          2.2558,
          0.055403999999999995,
          1.7425,
          3.6884,
          -2.8913,
          0.37929,
          2.033,
          0.85998,
          -3.6136,
          -4.9417,
          -2.6256,
          -4.1174,
          -3.7044,
          4.5512,
          4.1905,
          -1.4244,
          3.4579,
          -3.8561,
          3.0895,
          1.1033,
          5.1827,
          0.68861,
          0.071684,
          -2.4166,
          2.6756,
          0.20278,
          -4.2039,
          -0.023425,
          5.3404,
          5.947,
          2.883,
          3.6558,
          2.1341,
          -1.4304,
          -3.2794,
          0.26876,
          -3.3565,
          -0.00029081,
          2.5839,
          -0.96252,
          -2.0062,
          2.0458,
          -1.5495,
          1.2421,
          2.2806,
          8.8294,
          2.0938,
          2.4931,
          3.4391,
          -3.725,
          -1.7157,
          8.3316,
          -3.0361,
          0.22849,
          8.03,
          1.8419,
          -0.97709,
          3.0946,
          1.931,
          3.8024,
          -0.036278,
          2.8684,
          6.6608,
          4.6429,
          -4.1131,
          4.1785,
          0.68604,
          0.70403,
          -1.6643,
          -1.9153,
          0.23705,
          2.4648,
          -2.8167,
          2.3603,
          3.5573,
          -3.7867,
          -3.8552,
          0.65005,
          -0.26334,
          -2.8904,
          -3.5913,
          -0.47755,
          5.4672,
          -4.6067,
          -4.2759,
          -3.7258,
          4.9085,
          0.8325600000000001,
          -1.3267,
          0.2362,
          5.6566,
          1.2061,
          -2.9530000000000003,
          2.9438,
          -0.75688,
          5.989,
          -4.5852,
          3.1143,
          4.3465,
          1.2421,
          -1.331,
          1.9259,
          0.041694,
          7.0806,
          3.0835,
          4.7355,
          7.3848,
          0.5112399999999999,
          2.1761,
          2.4408,
          2.6302,
          1.1693,
          -3.1783,
          -1.0456,
          7.5382,
          1.3964,
          -1.0671,
          -3.2477,
          2.0116,
          4.7449,
          5.2119,
          0.7572,
          -1.672,
          3.1769,
          -1.6917,
          -0.9094,
          -1.3721,
          -4.1388,
          3.8281,
          2.2232,
          0.53009,
          0.9585100000000001,
          2.1135,
          -1.6814,
          0.5969300000000001,
          -0.9788,
          -3.2846,
          -0.79287,
          1.3758,
          0.15394000000000002,
          -4.1508,
          4.6429,
          -0.17594,
          -4.2699,
          -3.8081,
          2.0416,
          -0.40301,
          0.12138,
          -1.9513,
          0.45383,
          8.4182,
          -2.7473,
          -0.16823,
          7.7267,
          2.1992,
          3.6259,
          8.0883,
          -2.9530000000000003,
          8.15,
          8.09,
          -1.4175,
          4.3225,
          0.12224000000000002,
          0.61406,
          0.078538,
          -2.4294,
          4.816,
          3.9249,
          -0.5778,
          -2.0541,
          -0.19651,
          5.4552,
          -3.2417,
          4.5718,
          -0.2702,
          -1.2641,
          2.5454,
          -3.0087,
          -1.3687,
          -3.2863,
          8.5193,
          -4.2185,
          -2.7696,
          2.4957,
          3.5025,
          3.2403,
          -1.7971,
          -2.0567,
          4.5718,
          -2.2598,
          0.7297399999999999,
          7.9186,
          1.3458,
          3.0895,
          -3.9032,
          7.7618,
          -3.9298,
          1.9276,
          1.0313,
          8.3573,
          -4.9288,
          -0.67377,
          2.9044,
          2.5188,
          4.2171,
          1.291,
          -2.2306,
          1.8076,
          4.2882,
          0.7057399999999999,
          4.9334,
          2.2138,
          0.0099913,
          -2.3515,
          0.15565,
          0.8908200000000001,
          -1.4029,
          -1.3035,
          -1.6643,
          1.6671,
          1.5806,
          0.80857,
          3.1392,
          2.1787,
          3.0895,
          4.5718,
          2.045,
          -4.0351,
          1.8848,
          -3.3111,
          -2.9033,
          -3.3,
          1.8231,
          4.1914,
          0.9096700000000001,
          2.0878,
          1.3424,
          -2.4089,
          1.6011,
          -1.7791,
          -0.37816,
          0.22676999999999997,
          1.1582,
          -3.1749,
          2.8633,
          -1.3824,
          -2.3386,
          6.8681,
          -1.3884,
          -3.5348,
          2.6542,
          -3.761,
          0.48553999999999997,
          6.2332,
          -4.084,
          4.2908,
          -4.0463,
          -1.5435,
          0.015989,
          1.9353,
          2.8358,
          2.5899,
          -4.1602,
          -1.9213,
          0.44783999999999996,
          1.6765,
          -3.8869,
          0.28846,
          -1.3335,
          0.34073000000000003,
          1.3912,
          2.0416,
          0.27560999999999997,
          6.4911,
          7.7687,
          0.57722,
          2.2309,
          0.7572,
          1.2353,
          1.0742,
          1.099,
          0.72202,
          0.3493,
          4.6472,
          1.3621,
          -3.9075,
          2.53,
          -3.5210000000000004,
          4.044,
          -4.0857,
          5.2727,
          7.0078,
          8.6127,
          2.8204,
          7.7010000000000005,
          -4.3239,
          0.9456600000000001,
          0.092248,
          8.2142,
          2.7827,
          -2.9530000000000003,
          0.80342,
          6.3729,
          -0.1828,
          2.0013,
          -3.2511,
          -3.1123,
          -4.2931,
          -2.1672,
          0.7572,
          1.6825,
          -1.9693,
          -0.28305,
          2.1041,
          -1.4912,
          -3.8209,
          0.85141,
          0.46497,
          2.7742,
          0.20021,
          0.9285200000000001,
          -3.725,
          3.1674,
          4.3439,
          -2.6848,
          -1.2281,
          -3.9795,
          0.5292399999999999,
          -3.4414,
          2.6491,
          4.2933,
          3.0423,
          -2.4089,
          -1.361,
          -2.9007,
          -2.3429,
          1.9079,
          0.38015,
          0.67661,
          1.9387,
          -2.9024,
          -3.2794,
          2.0133,
          -0.7843,
          1.0588,
          -2.0439,
          -0.81857,
          -3.1749,
          2.0133,
          0.7572,
          -1.2042,
          7.1303,
          1.9379,
          7.1903,
          -3.3034,
          0.50781,
          1.2798,
          0.1368,
          -2.2692,
          -2.432,
          -3.1886,
          1.093,
          0.19677999999999998,
          0.26019000000000003,
          5.1305,
          2.7689999999999997,
          -3.3394,
          5.9856,
          -3.7121,
          4.367,
          8.4756,
          1.2421,
          0.55837,
          0.70403,
          2.0107,
          8.132,
          0.20792,
          -0.73546,
          -2.9941,
          0.022844,
          -2.1235,
          0.44698000000000004,
          -0.52725,
          1.8908,
          1.5215,
          -3.3994,
          -2.5905,
          3.1375,
          -2.8544,
          2.9464,
          2.1384,
          1.608,
          -1.0568,
          -0.18537,
          -2.1492,
          4.0243,
          2.5574,
          2.057,
          -1.5323,
          -1.3284,
          -0.41928999999999994,
          1.3501,
          0.69118,
          -2.4097,
          -3.7301,
          2.7236,
          1.0708,
          -2.4491,
          8.527000000000001,
          4.1494,
          7.7575,
          5.6703,
          -0.48355,
          2.2566,
          0.55923,
          -3.1466,
          -0.057699,
          0.66633,
          3.3491,
          -2.2324,
          3.9746,
          1.0176,
          1.9507,
          0.75973,
          -3.6316,
          -4.0788,
          3.8238,
          6.3549,
          0.6312,
          -0.056842,
          1.0279,
          3.3662,
          5.1707,
          -4.3582,
          7.6659,
          0.91738,
          -3.8929,
          4.6369,
          0.29018,
          -0.28562,
          -3.0515,
          0.83598,
          8.3873,
          0.7854300000000001,
          4.2916,
          -4.413,
          -3.6461,
          -2.0867,
          -0.23592,
          -1.1982,
          3.3954,
          5.1022,
          -2.0807,
          -2.5605,
          -0.40471999999999997,
          1.4563,
          8.4207,
          0.69718,
          3.8803,
          0.4187,
          -2.0995,
          -3.1338,
          -1.6351,
          2.6773,
          8.6564,
          4.4578,
          6.7756,
          -1.2538,
          -1.0713,
          1.0673,
          -4.8003,
          0.41098999999999997,
          2.2129,
          1.5506,
          1.8513,
          -3.557,
          0.6611899999999999,
          -1.331,
          -1.4004,
          0.41613,
          -4.7857,
          -1.2701,
          -2.5228,
          2.1307,
          -4.383,
          6.9144,
          0.77344,
          -0.029423,
          -3.7044,
          -1.5443,
          -3.1338,
          -0.15966,
          1.5754,
          3.5427,
          2.1401,
          0.50439,
          -1.5195,
          -2.4243,
          2.3689,
          0.54723,
          4.5864,
          1.6928,
          3.8255,
          0.7623,
          4.2265,
          4.2625,
          1.7048,
          -2.5425,
          2.8093,
          8.0831,
          -1.3258,
          -0.58808,
          2.5334,
          0.23448000000000002,
          1.8762,
          0.32616,
          1.8128,
          2.3183,
          -0.11168,
          -1.2821,
          1.3098,
          1.1941,
          8.0514,
          -0.09454299999999999,
          5.9068,
          2.5976,
          6.0241,
          1.0579,
          -3.3085,
          1.7022,
          -3.1338,
          8.2888,
          1.3278,
          2.1375,
          0.91995,
          -3.6359,
          2.6491,
          -1.7345,
          0.8402700000000001,
          5.7568,
          7.7215,
          1.2421,
          1.4281,
          3.5008,
          3.0895,
          3.1529,
          3.1863,
          -1.9136,
          0.49838999999999994,
          -0.31475,
          -3.6873,
          1.7125,
          -1.1425,
          1.0271,
          5.2333,
          3.3577,
          3.6884,
          2.6439,
          -2.0824,
          1.1959,
          0.46583,
          0.06568600000000001,
          2.5865,
          -2.4037,
          1.2421,
          -3.9272,
          -1.6326,
          2.1992,
          -1.097,
          -0.87598,
          -1.1622,
          5.2804,
          -4.0926,
          -2.0156,
          -4.3839,
          3.9943,
          2.2935,
          -1.8511,
          2.3757,
          1.0219,
          3.4553,
          -1.983,
          0.20706,
          3.0312,
          8.2219,
          -1.9967,
          -3.9323,
          2.0321,
          -3.0326,
          3.0895,
          -0.409,
          -1.8219,
          5.5854,
          0.17965,
          7.0858,
          -2.9512,
          1.1504,
          -3.3917,
          2.8273,
          1.4461,
          -1.331,
          0.75716,
          6.2204,
          -3.2049,
          -0.62064,
          2.1092,
          2.4537,
          1.8385,
          -0.81857,
          2.2215,
          -2.4766,
          -0.66263,
          8.0514,
          0.73573,
          2.8093,
          -0.28819,
          -0.051701,
          -2.5425,
          2.9164,
          -1.9427,
          0.78457,
          6.6042,
          6.0096,
          4.7466,
          -0.24877,
          -0.3336,
          6.5991,
          4.8477,
          -0.2702,
          -3.9366,
          1.9619,
          -0.023425,
          1.3989,
          1.4015,
          0.35273000000000004
         ]
        },
        {
         "marker": {
          "color": "red",
          "opacity": 0.4,
          "size": 4
         },
         "mode": "markers",
         "name": "Forgery",
         "type": "scatter3d",
         "x": [
          -1.3971,
          0.39011999999999997,
          -1.6677,
          -3.8483,
          -3.5681,
          -2.2804,
          -1.7582,
          -0.8940899999999999,
          0.3434,
          -0.9854,
          -2.4115,
          -1.5252,
          -0.61442,
          -0.36506,
          -5.9034,
          -1.8215,
          -0.77461,
          -1.8187,
          -3.5801,
          -1.8219,
          -0.3481,
          0.47368000000000005,
          -3.4083,
          -1.6662,
          -2.0962,
          -2.6685,
          -0.47465,
          1.0552,
          1.1644,
          -4.4779,
          -2.7338,
          -2.286,
          -1.6244,
          0.50813,
          1.6408,
          0.81583,
          -5.4901,
          -3.2238,
          -2.0631,
          -0.9131799999999999,
          0.6005,
          0.91315,
          -0.28015,
          -3.6085,
          -6.2003,
          -4.2932,
          -3.0265,
          -1.7015,
          -0.64326,
          -0.86339,
          -2.0659,
          -2.1333,
          -1.2568,
          -3.1128,
          -4.8554,
          -2.588,
          0.24394000000000002,
          -1.5322,
          -4.0025,
          -4.0173,
          -3.0731,
          -1.979,
          -0.4294,
          -2.234,
          -4.211,
          -3.8073,
          -2.5912,
          -2.2482,
          -1.4427,
          -0.39416,
          -1.5219999999999998,
          -2.8267,
          -1.7263,
          -0.94255,
          -0.89569,
          -6.2815,
          -2.3211,
          -1.3414,
          -2.258,
          -3.8858,
          -1.8969,
          -0.52645,
          0.0096613,
          -3.8826,
          -2.1405,
          -2.4824,
          -2.9098,
          -0.60975,
          0.83625,
          0.60731,
          -4.8861,
          -3.1366,
          -2.5754,
          -1.8782,
          0.24261,
          1.296,
          0.25943,
          -5.872999999999999,
          -3.4605,
          -2.3797,
          -1.2424,
          0.20215999999999998,
          0.59823,
          -0.77995,
          -4.1409,
          -6.5084,
          -4.4996,
          -3.3125,
          -1.9423,
          -0.75793,
          -0.9540299999999999,
          -2.2173,
          -2.799,
          -1.8629,
          -3.5916,
          -5.1216,
          -3.2854,
          -0.56877,
          -2.3518,
          -4.4861,
          -4.3876,
          -3.3604,
          -1.0112,
          0.030219,
          -1.6514,
          -3.2692,
          -2.5701,
          -1.3066,
          -1.6637,
          -0.55008,
          0.21431,
          -0.77288,
          -1.8391,
          -0.63298,
          0.0040545,
          -0.28696,
          -5.2406,
          -1.4446,
          -0.65767,
          -1.5449,
          -2.8957,
          -0.81479,
          0.50225,
          0.74521,
          -2.9146,
          -1.3907,
          -1.786,
          -1.7322,
          0.55298,
          2.031,
          1.2279,
          -4.2249,
          -2.5346,
          -1.749,
          -0.539,
          1.5631,
          2.3917,
          0.89512,
          -5.4808,
          -2.8833,
          -1.4174,
          0.4283,
          1.5904,
          1.7425,
          -0.23356,
          -3.6227,
          -6.1536,
          -3.9172,
          -2.2214,
          -0.49241,
          0.26516999999999996,
          -0.10234,
          -1.6176,
          -1.8448,
          -1.2786,
          -2.9019999999999997,
          -4.3773,
          -2.0529,
          0.18868,
          -1.7279,
          -3.3793,
          -3.1273,
          -2.121,
          -1.7697,
          -0.0012852,
          -1.682,
          -3.4917,
          -3.1158,
          -2.0891,
          -1.6936,
          -1.2846,
          -0.09219400000000001,
          -1.0292,
          -2.2083,
          -1.0744,
          -0.51003,
          -0.36372,
          -6.3979,
          -2.2501,
          -1.1859,
          -1.8076,
          -3.3863,
          -1.4106,
          -0.21394000000000002,
          0.48796999999999996,
          -3.8167,
          -1.9555,
          -2.1786,
          -2.3299,
          0.0031201000000000002,
          1.3518,
          1.2309,
          -5.0301,
          -3.0799,
          -2.2987,
          -1.239,
          0.7589600000000001,
          1.6799,
          0.63655,
          -6.0598,
          -3.5180000000000002,
          -2.0336,
          -0.69745,
          0.75108,
          0.84546,
          -0.55648,
          -3.6817,
          -6.7526,
          -4.577,
          -2.9883,
          -1.4781,
          -0.46651000000000004,
          -0.8734,
          -2.1234,
          -2.3142,
          -1.4233,
          -3.0866,
          -4.7331,
          -2.8829,
          -0.036127,
          -1.7104,
          -3.8203,
          -3.7181,
          -2.8989999999999996,
          -0.98193,
          -0.17296,
          -1.9409,
          -3.5713,
          -2.9915,
          -1.8483,
          -2.2677,
          -0.5081600000000001,
          0.14329,
          -0.90784,
          -2.0042,
          -0.9358700000000001,
          -0.40804,
          -0.8172,
          -4.8392,
          -1.2792,
          -0.66008,
          -1.7713,
          -3.0061,
          -1.1022,
          0.11805999999999998,
          0.11685999999999999,
          -2.7264,
          -1.2369,
          -1.8439,
          -1.8554,
          0.16358,
          1.5077,
          0.67886,
          -3.9934,
          -2.3898,
          -1.7976,
          -0.70867,
          1.0194,
          1.7875,
          0.27331,
          -5.1661,
          -2.7028,
          -1.4904,
          -0.014902,
          0.88992,
          1.0637,
          -0.8471,
          -3.9594,
          -5.8818,
          -3.7747,
          -2.4198,
          -0.83535,
          -0.30432,
          -0.60254,
          -2.1059,
          -2.0441,
          -1.5621,
          -3.2305,
          -4.8426,
          -2.3147,
          -0.11715999999999999,
          -2.0066,
          -3.6961,
          -3.6012,
          -2.6286,
          -0.82601,
          0.31803000000000003,
          -1.4454,
          -3.1423,
          -2.5373,
          -1.3659999999999999,
          -1.7064,
          -0.41965,
          0.37637,
          -0.55355,
          -1.6001,
          -0.37013,
          0.12125999999999999,
          -0.27068000000000003,
          -5.119,
          -1.3946,
          -0.6987899999999999,
          -1.48,
          -2.6649,
          -0.62684,
          0.518,
          0.64376,
          -2.9821,
          -1.4628,
          -1.7101,
          -1.5572,
          0.74428,
          2.0177,
          1.1640000000000001,
          -4.3667,
          -2.5919,
          -1.8046,
          -0.71868,
          1.4378,
          2.1943,
          0.7376,
          -5.6370000000000005,
          -3.0193,
          -1.6706,
          -0.1269,
          1.2198,
          1.4501,
          -0.40857,
          -3.8952,
          -6.3679,
          -4.1429,
          -2.6864,
          -1.0555,
          -0.29858,
          -0.49948000000000004,
          -1.9881,
          -1.9389,
          -1.4375,
          -3.1875,
          -4.6765,
          -2.0285,
          0.26637,
          -1.7589,
          -3.5985,
          -3.3582,
          -2.3629,
          -2.1802,
          -0.40951,
          -2.2918,
          -4.0214,
          -3.3884,
          -2.0046,
          -1.7063,
          -1.6386,
          -0.41645,
          -1.5877,
          -2.5961,
          -1.5228,
          -0.53072,
          -0.49081,
          -6.5773,
          -2.4621,
          -1.3995,
          -2.3221,
          -3.73,
          -1.6988,
          -0.26654,
          0.33325,
          -4.2091,
          -2.3142,
          -2.4835,
          -2.7611,
          -0.36025,
          1.0117,
          0.9670799999999999,
          -5.2049,
          -3.3203,
          -2.565,
          -1.5951,
          0.7049,
          1.7331,
          0.6818,
          -6.3364,
          -3.8053,
          -2.1979,
          -0.87874,
          0.7406699999999999,
          0.9829600000000001,
          -0.3489,
          -3.8552,
          -6.9599,
          -4.7462,
          -3.2051,
          -1.7549,
          -0.59587,
          -0.8954200000000001,
          -2.0754,
          -3.2778,
          -2.2183,
          -3.5895,
          -5.0477,
          -3.5741,
          -0.7351,
          -2.2617,
          -4.244,
          -4.0218,
          -3.0201,
          -2.4941,
          -0.83121,
          -2.5665,
          -4.4018,
          -3.7573,
          -2.4725,
          -1.9725,
          -2.0149,
          -0.82053,
          -1.7886,
          -2.9138,
          -1.8343,
          -0.8734,
          -0.7034600000000001,
          -6.7387,
          -2.7723,
          -1.6641,
          -2.4349,
          -3.793,
          -1.9551,
          -0.6907800000000001,
          0.025013,
          -4.3967,
          -2.456,
          -2.62,
          -2.9662,
          -0.7149399999999999,
          0.6005,
          0.61652,
          -5.4414,
          -3.5798,
          -2.7769,
          -1.8356,
          0.30080999999999997,
          1.3403,
          0.26877,
          -6.5235,
          -4.0679,
          -2.5639999999999996,
          -1.3414,
          0.23874,
          0.6212,
          -0.7784800000000001,
          -4.1244,
          -7.0421,
          -4.9462,
          -3.5359,
          -2.0662,
          -0.88728,
          -1.0941,
          -2.4458,
          -3.551,
          -2.2811,
          -3.6053,
          -5.0676,
          -3.9204,
          -1.1306,
          -2.4561,
          -4.4775,
          -4.1958,
          -3.38,
          -2.4365,
          -0.77688,
          -2.7083,
          -4.5531,
          -3.8894,
          -2.5084,
          -2.1652,
          -1.8974,
          -0.62043,
          -1.8387,
          -3,
          -1.9116,
          -1.005,
          -0.87834,
          -6.651,
          -2.5463,
          -1.4377,
          -2.4554,
          -3.9411,
          -2.1241,
          -0.74324,
          -0.071503,
          -4.2333,
          -2.3675,
          -2.5526,
          -3.0986,
          -0.8980899999999999,
          0.5623199999999999,
          0.5393600000000001,
          -5.3012,
          -3.3553,
          -2.7908,
          -1.9983,
          0.15423,
          1.208,
          0.2952,
          -6.4247,
          -3.9933,
          -2.659,
          -1.4094,
          0.11032,
          0.52374,
          -0.76794,
          -3.9698,
          -7.0364,
          -4.9447,
          -3.5933,
          -2.1674,
          -0.9607,
          -1.0802,
          -2.3277,
          -3.7244,
          -2.5724,
          -3.9297,
          -5.2943,
          -3.8953,
          -1.2244,
          -2.6406,
          -4.6338,
          -4.2887,
          -3.3458,
          -1.1188,
          0.5593899999999999,
          -1.5078,
          -3.5060000000000002,
          -2.9498,
          -1.6029,
          -1.2667,
          -0.49281,
          0.66365,
          -0.72068,
          -1.9966,
          -0.97325,
          -0.025314,
          0.062525,
          -5.525,
          -1.2943,
          -0.24036999999999997,
          -1.3968,
          -2.9672,
          -1.1005,
          0.22432,
          0.90407,
          -2.8619,
          -1.0833,
          -1.5681,
          -2.0545,
          0.2346,
          1.581,
          1.5514,
          -4.1479,
          -2.2625,
          -1.7479,
          -0.9592299999999999,
          1.3451,
          2.2279,
          1.2572,
          -5.3857,
          -2.9786,
          -1.5851,
          -0.21888000000000002,
          1.3183,
          1.4896,
          0.11592000000000001,
          -3.3924,
          -6.1632,
          -4.0786,
          -2.5899,
          -1.0116,
          0.066129,
          -0.24745,
          -1.5732,
          -2.1668,
          -1.1667,
          -2.8391,
          -4.5046,
          -2.41,
          0.40614,
          -1.3887,
          -3.7503,
          -3.5637,
          -2.5419
         ],
         "y": [
          3.3191,
          -0.14279,
          -7.1535,
          -12.8047,
          -8.213,
          -0.30626,
          2.7397,
          3.1991,
          0.12415,
          -6.6610000000000005,
          -9.1359,
          -6.2534,
          -0.091058,
          2.8928,
          6.5679,
          2.7521,
          -1.8768,
          -9.0366,
          -12.9309,
          -6.8824,
          -0.38695999999999997,
          3.3605,
          4.8587,
          -0.30005,
          -7.1059,
          -10.4519,
          -4.3496,
          1.1857,
          3.8095,
          7.3708,
          0.45523,
          -5.4484,
          -6.3444,
          0.47798999999999997,
          4.2503,
          4.84,
          9.1048,
          2.7935,
          -1.5147,
          -2.0113,
          1.9327,
          3.3377,
          3.0729,
          3.3253,
          8.6806,
          3.3419,
          -0.062088,
          -0.010356,
          2.4748,
          1.9348,
          1.0512,
          1.5685,
          -1.4733,
          -6.841,
          -5.9037,
          3.8654,
          1.4733,
          -5.0966,
          -13.4979,
          -8.3123,
          -0.53181,
          3.2301,
          -0.14693,
          -7.0314,
          -12.4736,
          -8.0971,
          -0.10554000000000001,
          3.0915,
          3.2922,
          -0.020702,
          -6.6383,
          -9.0407,
          -6.0237,
          0.039307,
          3.0025,
          6.6651,
          3.1660000000000004,
          -2.0776,
          -9.3263,
          -12.8461,
          -6.7893,
          -0.24831999999999999,
          3.5612,
          4.898,
          -0.16762,
          -7.3046,
          -10.0712,
          -4.002,
          1.1071,
          3.9544,
          7.0542,
          0.42212,
          -5.6574,
          -6.5865,
          0.57318,
          4.2855,
          5.0097,
          9.1752,
          2.6901,
          -1.4402,
          -1.7175,
          1.9182,
          3.5012,
          3.2322,
          3.4619,
          8.7696,
          3.4288,
          0.10139,
          0.3766,
          2.5349,
          1.9824,
          1.4671,
          1.9679,
          -0.84841,
          -6.2285,
          -5.3118,
          4.0372,
          1.4174,
          -4.8359,
          -13.2889,
          -7.7267,
          -0.32696,
          2.9984,
          -1.0512,
          -8.4985,
          -12.7406,
          -6.8452,
          0.25244,
          3.2881,
          2.8659,
          -0.69529,
          -7.4473,
          -9.0883,
          -5.1277,
          0.62905,
          3.1784,
          6.6258,
          2.1438,
          -2.8018,
          -10.1498,
          -12.0205,
          -5.7381,
          0.65388,
          3.6357,
          4.0537,
          -1.3781,
          -8.1157,
          -9.2828,
          -3.4619,
          1.8519999999999999,
          4.0309,
          6.2699,
          -0.7739199999999999,
          -6.332000000000001,
          -5.167000000000001,
          0.89599,
          4.5565,
          4.7738,
          8.1819,
          1.7713,
          -2.2535,
          -0.94981,
          2.2121,
          3.6833,
          3.2405,
          3.9958,
          7.9295,
          2.6652,
          -0.23798000000000002,
          0.89392,
          2.4066,
          1.8189,
          1.0926,
          1.254,
          -2.4087,
          -7.6563,
          -5.5167,
          3.8385,
          0.70148,
          -6.841,
          -13.7731,
          -7.1121,
          -0.05587999999999999,
          3.4329,
          0.13863,
          -6.8121,
          -12.1736,
          -8.6289,
          -0.48422,
          2.7852,
          3.2715,
          0.39315,
          -6.3879,
          -9.1069,
          -6.3113,
          -0.23590999999999998,
          3.0439,
          6.4479,
          3.3129,
          -1.2519,
          -8.8131,
          -12.9889,
          -7.108,
          -0.68287,
          3.5674,
          5.1401,
          0.20692,
          -6.4479,
          -9.9532,
          -4.0061,
          1.0595,
          3.8923,
          7.5032,
          0.60836,
          -5.227,
          -6.541,
          0.29175999999999996,
          4.2068,
          5.2022,
          9.2952,
          2.8763,
          -1.4092,
          -1.7672,
          1.9161,
          3.4826,
          3.2136,
          3.2239,
          8.8172,
          3.4515,
          0.31245,
          0.14277,
          2.3383,
          1.6533,
          1.1815,
          2.0838,
          -0.9891200000000001,
          -6.6362,
          -6.1789,
          3.8964,
          1.525,
          -4.7780000000000005,
          -13.0551,
          -8.5089,
          -0.60424,
          2.7956,
          -1.1816,
          -8.6848,
          -12.4922,
          -6.6258,
          0.31038000000000004,
          3.2964,
          2.8680000000000003,
          -1.0885,
          -7.9026,
          -9.3676,
          -5.1008,
          0.54214,
          3.3812,
          6.6755,
          2.1376,
          -3.2260000000000004,
          -10.7665,
          -12.2377,
          -5.8395,
          0.39108000000000004,
          3.735,
          3.9213,
          -1.6906,
          -8.6475,
          -9.6035,
          -3.3584,
          1.9596,
          4.1199,
          5.8333,
          -0.78427,
          -6.7686,
          -5.5602,
          1.1029,
          4.78,
          4.8773,
          8.0433,
          1.6327,
          -2.2183,
          -1.0243,
          2.2638,
          3.6957,
          3.1329,
          4.0289,
          7.6584,
          2.5162,
          -0.24418,
          0.80494,
          2.6528,
          1.7237,
          1.1815,
          1.2271,
          -2.2121,
          -7.2135,
          -4.9932,
          3.6668,
          0.60422,
          -6.718999999999999,
          -13.6779,
          -6.5389,
          0.18002,
          2.9611,
          -0.99326,
          -8.4385,
          -13.0365,
          -6.959,
          0.18416,
          3.3088,
          2.9094,
          -0.82358,
          -7.9233,
          -9.5828,
          -5.553999999999999,
          0.22346999999999997,
          3.2674,
          6.6486,
          2.3134,
          -3.3771,
          -10.5244,
          -12.812999999999999,
          -6.301,
          0.25865,
          3.764,
          4.1986,
          -1.5706,
          -8.7903,
          -9.8808,
          -3.7723,
          1.7982,
          3.9130000000000003,
          6.0692,
          -1.0553,
          -6.8141,
          -5.7154,
          0.66837,
          4.5503,
          4.8525,
          8.1261,
          1.7775,
          -2.09,
          -1.1505,
          2.0982,
          3.6067,
          3.0977,
          3.8157,
          8.0102,
          2.7749,
          -0.097265,
          0.79459,
          2.4769,
          1.7734,
          0.99945,
          1.5706,
          -1.8624,
          -7.5756,
          -5.6636,
          3.8468,
          0.73252,
          -6.4624,
          -13.6593,
          -7.2404,
          -0.10554000000000001,
          3.3791,
          -0.15521,
          -7.257000000000001,
          -12.8006,
          -8.215,
          -0.49456999999999995,
          2.7956,
          3.3584,
          0.32487,
          -6.6072,
          -9.349,
          -6.4789,
          -0.097265,
          2.8452,
          6.8017,
          2.7645,
          -1.9162,
          -9.3304,
          -12.9723,
          -7.1163,
          -0.64562,
          3.3108,
          4.7283,
          -0.68494,
          -7.4494,
          -10.5099,
          -4.449,
          0.9022,
          3.8426,
          7.2589999999999995,
          -0.026910000000000003,
          -5.7899,
          -6.572,
          0.17174,
          3.9544,
          4.8504,
          9.2848,
          2.4273,
          -2.1252,
          -2.2121,
          1.7299,
          3.4226,
          3.1929,
          3.5219,
          8.9931,
          3.1205,
          -0.14279,
          -0.080711,
          2.4811,
          2.0279,
          1.2767,
          1.8023,
          -1.254,
          -6.572,
          -5.8023,
          3.944,
          1.7361,
          -4.7428,
          -13.0634,
          -8.304,
          -0.6725300000000001,
          3.5447,
          0.039307,
          -6.8824,
          -12.9371,
          -8.2916,
          -0.40145,
          2.8825,
          3.6874,
          0.65181,
          -6.3486,
          -9.4711,
          -6.5907,
          -0.033118,
          2.957,
          6.9879,
          3.2777,
          -1.3678,
          -9.2497,
          -12.7095,
          -6.9756,
          -0.5007699999999999,
          3.3998,
          4.9601,
          -0.24418,
          -6.8555,
          -10.3257,
          -4.4448,
          0.99945,
          3.8944,
          7.2363,
          0.45937,
          -5.6967,
          -6.7562,
          0.17381,
          4.1323,
          4.987,
          9.6014,
          2.4955,
          -1.7051,
          -1.9162,
          2.0879,
          3.6771,
          3.4019,
          3.7909,
          9.2,
          3.5716,
          0.30417,
          0.16967000000000002,
          2.8080000000000003,
          2.3072,
          1.6285,
          1.8955,
          -0.85669,
          -5.974,
          -5.1877,
          4.0723,
          1.8458,
          -4.5566,
          -13.0303,
          -8.1819,
          -0.7077,
          3.6026,
          0.13036,
          -6.8266,
          -12.5854,
          -7.8322,
          -0.22763000000000003,
          3.0211,
          3.5074,
          0.5587,
          -6.301,
          -9.1566,
          -6.1603,
          0.08483099999999999,
          3.2569999999999997,
          6.7934,
          3.1101,
          -1.432,
          -9.0407,
          -12.8792,
          -6.8969,
          -0.32902,
          3.7412,
          4.9166,
          -0.43663,
          -7.3625,
          -10.4602,
          -4.4862,
          1.0015,
          3.8944,
          7.3915,
          0.35591,
          -5.7133,
          -6.6072,
          0.11794,
          4.0744,
          4.8856,
          9.5311,
          2.6218,
          -1.6058,
          -2.1252,
          1.9741,
          3.6439999999999997,
          3.4598,
          3.6812,
          9.2931,
          3.3005,
          0.22968000000000002,
          0.12415,
          2.6963,
          2.1996,
          1.4381,
          1.9037,
          -0.9560200000000001,
          -6.0816,
          -5.1463,
          4.0392,
          1.7485,
          -4.4159,
          -12.7509,
          -7.8633,
          -0.5049100000000001,
          3.3357,
          -0.3104,
          -7.3191,
          -12.5667,
          -8.273,
          -0.38903000000000004,
          2.8183,
          3.0605,
          -0.045533,
          -6.7583,
          -9.5001,
          -6.4168,
          -0.17382999999999998,
          2.9301,
          6.3258,
          2.6735,
          -1.7837,
          -9.6698,
          -13.2869,
          -7.2508,
          -0.52147,
          3.3708,
          4.5193,
          -0.31246999999999997,
          -7.2446,
          -10.8679,
          -4.5152,
          0.8690899999999999,
          3.8013,
          7.1225,
          -0.099335,
          -5.8229999999999995,
          -6.7128,
          0.23589000000000002,
          4.0951,
          4.8731,
          9.1214,
          2.3445,
          -2.1562,
          -2.2038,
          1.9017,
          3.4288,
          3.2219,
          3.3564,
          8.7096,
          2.9239,
          -0.3911,
          -0.19038,
          2.4914,
          1.9368,
          1.0636,
          1.5933,
          -1.4237,
          -6.63,
          -5.8126,
          3.7433,
          1.3492,
          -4.8773,
          -13.4586,
          -8.3827,
          -0.65804
         ],
         "z": [
          -1.3927,
          -0.031994,
          7.8929,
          15.6824,
          10.083,
          1.3347,
          -2.5323,
          -1.8219,
          -0.28733000000000003,
          5.8245,
          9.3444,
          5.3524,
          -0.31818,
          -3.6461,
          0.67661,
          -0.7226100000000001,
          2.4023,
          9.0162,
          13.1779,
          5.4681,
          -0.47841000000000006,
          -4.5064,
          -0.76888,
          1.4238,
          6.6188,
          9.1139,
          1.9901,
          -2.6411,
          -4.9408,
          -0.31218,
          2.4391,
          5.8039,
          4.6575,
          -1.9804,
          -4.9023,
          -5.2613,
          -0.38758000000000004,
          0.32274,
          1.219,
          -0.19565,
          -3.2888,
          -4.0557,
          -3.3857,
          -0.51954,
          0.009134399999999999,
          0.77258,
          0.68604,
          -0.9933700000000001,
          -2.9452,
          -2.3729,
          -0.46298,
          -0.084261,
          2.8718,
          10.7402,
          10.9818,
          -0.3336,
          -1.4192,
          6.6779,
          17.6772,
          12.4547,
          2.3877,
          -1.3575,
          0.044265,
          7.4936,
          14.9704,
          10.1772,
          1.2798,
          -2.3969,
          -1.9702,
          -0.06626699999999999,
          5.7491,
          9.0694,
          5.2419,
          -0.24191999999999997,
          -3.6067,
          0.52581,
          -1.0002,
          2.8093,
          9.3727,
          12.7957,
          5.2761,
          -0.45613000000000004,
          -4.407,
          -0.92311,
          1.321,
          6.8389999999999995,
          8.4156,
          1.8471,
          -2.4706,
          -4.772,
          -0.17252,
          2.6225,
          6.103,
          4.8486,
          -1.9402,
          -4.8457,
          -5.0394,
          -0.27448,
          0.16165,
          1.1273,
          -0.52553,
          -3.2828,
          -3.9795,
          -3.282,
          -0.47841000000000006,
          0.23190999999999998,
          0.56265,
          0.55323,
          -1.2898,
          -3.0464,
          -2.3163,
          -0.7268899999999999,
          -0.42357,
          2.5377,
          10.2389,
          10.3846,
          -0.45356,
          -1.4252,
          6.6479,
          17.3087,
          11.9655,
          2.1324,
          -1.1664,
          1.4024,
          9.1122,
          15.5573,
          8.9999,
          0.7623,
          -2.2701,
          -1.6488,
          0.8771100000000001,
          6.492000000000001,
          9.2416,
          4.5624,
          -0.6412100000000001,
          -3.5767,
          -0.19908,
          -0.47241000000000005,
          3.7115,
          9.6152,
          11.9149,
          4.3919,
          -1.1793,
          -4.4044,
          -0.45698999999999995,
          2.3055,
          7.0858,
          7.718999999999999,
          1.7048,
          -3.0121,
          -4.6435,
          0.15822,
          3.3602,
          6.0987,
          3.4399,
          -1.9702,
          -4.9888,
          -4.8431,
          0.27818000000000004,
          0.6894600000000001,
          1.518,
          -1.0731,
          -3.1183,
          -4.0129,
          -3.0669,
          -0.35845,
          0.61663,
          0.78886,
          0.56008,
          -1.6283,
          -2.8416,
          -2.2169,
          -0.35502,
          0.27218000000000003,
          4.5735,
          11.8318,
          10.939,
          -0.7954399999999999,
          -0.5118199999999999,
          8.9494,
          17.9274,
          11.3897,
          1.949,
          -1.2144,
          -0.19651,
          7.1398,
          14.3689,
          10.4403,
          1.704,
          -2.1835,
          -1.7671,
          -0.32846,
          5.5255,
          8.9991,
          5.355,
          0.020273,
          -3.4816,
          1.0836,
          -0.88369,
          2.2635,
          8.7086,
          13.0545,
          5.6454,
          0.096532,
          -4.3882,
          -0.65063,
          1.2473,
          6.0344,
          8.4756,
          1.7956,
          -2.3437,
          -4.8277,
          -0.13396,
          2.7039,
          5.63,
          4.8151,
          -1.6506,
          -4.5398,
          -5.2159,
          -0.43642,
          0.1548,
          1.1582,
          -0.34474,
          -3.1098,
          -3.6307,
          -3.3085,
          -0.69347,
          -0.061983,
          0.66719,
          0.45041000000000003,
          -1.1622,
          -2.9812,
          -2.1964,
          -0.55552,
          -0.46813,
          2.3586,
          10.5405,
          11.388,
          -0.1888,
          -1.4089,
          6.2109,
          16.9583,
          12.363,
          2.6045,
          -1.2341,
          1.3818,
          9.155,
          14.8881,
          8.6521,
          0.77344,
          -2.2563,
          -1.8108,
          1.0039,
          6.7807,
          9.3333,
          4.5367,
          -0.52725,
          -3.6684,
          -0.24278000000000002,
          -0.47584,
          3.8058,
          10.2184,
          11.9552,
          4.5641,
          -0.9822299999999999,
          -4.4379,
          -0.49212,
          2.5180000000000002,
          7.6796,
          7.7764,
          1.3749,
          -3.0584,
          -4.569,
          0.54723,
          3.0141,
          6.6753,
          4.0483,
          -2.3,
          -5.1362,
          -4.9194,
          0.044265,
          0.83598,
          1.6054,
          -0.94024,
          -3.1046,
          -4.1594,
          -3.0112,
          -0.35845,
          0.5558,
          0.83341,
          0.7014600000000001,
          -1.6411,
          -2.7756,
          -2.1501,
          -0.5332399999999999,
          0.18564,
          4.2591,
          11.6433,
          10.4052,
          -0.6969,
          -0.38587,
          9.0162,
          17.5795,
          10.5234,
          1.7956,
          -1.2864,
          1.0947,
          8.8483,
          15.6773,
          8.8054,
          0.9053899999999999,
          -2.2829,
          -1.7859,
          0.7854300000000001,
          6.7156,
          9.4044,
          4.7749,
          -0.47326999999999997,
          -3.5562,
          -0.049987000000000004,
          -0.44498999999999994,
          4.1211,
          9.9176,
          12.6689,
          4.7843,
          -0.84085,
          -4.4738,
          -0.5898,
          2.4357,
          7.9735,
          8.1088,
          1.6131,
          -2.9581,
          -4.5544,
          0.57208,
          3.8949,
          6.7019,
          3.8298,
          -2.0267,
          -4.976,
          -4.7986,
          0.13080999999999998,
          0.73745,
          1.584,
          -0.9513799999999999,
          -3.1954,
          -4.0557,
          -2.9607,
          -0.31304,
          0.4247,
          0.68261,
          0.61663,
          -1.6968,
          -2.9512,
          -2.2469,
          -0.28562,
          0.045979,
          4.026,
          11.8678,
          10.969000000000001,
          -0.63435,
          -0.67891,
          8.4773,
          17.6052,
          11.4419,
          1.9336,
          -1.2256,
          0.060545,
          7.9597,
          15.6199,
          10.3315,
          1.3330000000000002,
          -2.378,
          -1.7302,
          -0.33616999999999997,
          5.8022,
          9.7942,
          5.7568,
          -0.21793,
          -3.6436,
          0.85483,
          -0.62578,
          2.5154,
          9.232999999999999,
          12.9817,
          5.7902,
          -0.42013999999999996,
          -4.5081,
          -0.49126000000000003,
          1.9833,
          6.8964,
          9.0239,
          2.1067,
          -2.3506,
          -4.9314,
          0.070827,
          2.9618,
          6.0122,
          4.7689,
          -1.7859,
          -4.7412,
          -5.2133,
          0.014275,
          0.6809,
          1.7151,
          -0.051701,
          -3.1963,
          -3.9692,
          -3.4054,
          -0.38415,
          0.2182,
          1.075,
          0.97565,
          -0.75774,
          -2.8673,
          -2.3652,
          -0.6420600000000001,
          0.1805,
          2.9986,
          10.5251,
          11.244000000000002,
          -0.07912000000000001,
          -1.4938,
          6.3489,
          17.1116,
          12.555,
          2.7056,
          -1.3721,
          0.053689999999999995,
          7.5416,
          15.6559,
          10.3032,
          1.4855,
          -2.3086,
          -1.9385,
          -0.48868999999999996,
          5.6154,
          9.7668,
          5.6429,
          -0.20165,
          -3.5947,
          0.67833,
          -0.9351,
          1.9969999999999999,
          8.9922,
          12.7957,
          5.5383,
          -0.35417,
          -4.4327,
          -0.6489199999999999,
          1.4041,
          6.2169,
          8.783999999999999,
          2.2241,
          -2.2126,
          -4.7275,
          0.10937999999999999,
          2.3457,
          5.9179,
          5.0585,
          -1.7542,
          -4.7018,
          -5.1508,
          -0.25392,
          0.79571,
          1.5026,
          -0.15538,
          -3.3522,
          -4.0771,
          -3.4859,
          -0.6532,
          0.25933,
          0.82742,
          0.6569,
          -1.0054,
          -3.1432,
          -2.5237,
          -0.88541,
          0.1865,
          2.7185,
          10.0916,
          10.4266,
          -0.23678000000000002,
          -1.3575,
          6.4534,
          17.0834,
          12.1291,
          2.5325,
          -1.4166,
          -0.031137,
          7.5339,
          15.4417,
          9.8208,
          1.4880000000000002,
          -2.4132,
          -1.7842,
          -0.38587,
          5.6506,
          9.5766,
          5.606,
          -0.2462,
          -3.6778,
          0.68604,
          -0.8322799999999999,
          2.1144,
          8.862,
          13.0597,
          5.5992,
          -0.42785,
          -4.5415,
          -0.49212,
          1.692,
          6.9255,
          8.9717,
          2.2009,
          -2.2726,
          -4.8166,
          0.029699,
          2.6473,
          5.952999999999999,
          4.8254,
          -1.6823,
          -4.7635,
          -5.149,
          0.022844,
          0.62863,
          1.3647,
          -0.10397,
          -3.3668,
          -4.0746,
          -3.4405,
          -0.6000800000000001,
          0.16594,
          1.063,
          0.7126,
          -1.0465,
          -3.1226,
          -2.5862,
          -0.82114,
          -0.035421,
          2.7073,
          10.0958,
          10.3332,
          -0.3019,
          -1.4801,
          5.983,
          16.7166,
          11.8387,
          2.6328,
          -1.3455,
          0.18307,
          7.8981,
          15.1606,
          10.2646,
          1.62,
          -2.426,
          -1.8356,
          -0.18794,
          5.8408,
          9.682,
          5.6026,
          -0.11339,
          -3.5467,
          0.8976799999999999,
          -0.84085,
          2.135,
          9.4652,
          13.4727,
          6.0139,
          -0.40386,
          -4.4987,
          -0.58123,
          1.2815,
          6.5537,
          9.4926,
          2.1195,
          -2.3138,
          -4.9143,
          -0.08340399999999999,
          2.8127,
          5.8699,
          4.9857,
          -1.8785,
          -4.8037,
          -5.2861,
          -0.41928999999999994,
          0.52667,
          1.7082,
          -0.0954,
          -3.3111,
          -4.0309,
          -3.4302,
          -0.72004,
          -0.21620999999999999,
          0.87026,
          0.93452,
          -0.90597,
          -2.9401,
          -2.4697,
          -0.71232,
          0.045122,
          2.9241,
          10.4849,
          10.8867,
          -0.40215,
          -1.4501,
          6.4774,
          17.5932,
          12.392999999999999,
          2.6842
         ]
        }
       ],
       "layout": {
        "margin": {
         "b": 5,
         "l": 5,
         "r": 5,
         "t": 5
        },
        "scene": {
         "xaxis": {
          "title": {
           "text": "Attribute A"
          }
         },
         "yaxis": {
          "title": {
           "text": "Attribute B"
          }
         },
         "zaxis": {
          "title": {
           "text": "Attribute C"
          }
         }
        },
        "template": {
         "data": {
          "bar": [
           {
            "error_x": {
             "color": "#2a3f5f"
            },
            "error_y": {
             "color": "#2a3f5f"
            },
            "marker": {
             "line": {
              "color": "#E5ECF6",
              "width": 0.5
             }
            },
            "type": "bar"
           }
          ],
          "barpolar": [
           {
            "marker": {
             "line": {
              "color": "#E5ECF6",
              "width": 0.5
             }
            },
            "type": "barpolar"
           }
          ],
          "carpet": [
           {
            "aaxis": {
             "endlinecolor": "#2a3f5f",
             "gridcolor": "white",
             "linecolor": "white",
             "minorgridcolor": "white",
             "startlinecolor": "#2a3f5f"
            },
            "baxis": {
             "endlinecolor": "#2a3f5f",
             "gridcolor": "white",
             "linecolor": "white",
             "minorgridcolor": "white",
             "startlinecolor": "#2a3f5f"
            },
            "type": "carpet"
           }
          ],
          "choropleth": [
           {
            "colorbar": {
             "outlinewidth": 0,
             "ticks": ""
            },
            "type": "choropleth"
           }
          ],
          "contour": [
           {
            "colorbar": {
             "outlinewidth": 0,
             "ticks": ""
            },
            "colorscale": [
             [
              0,
              "#0d0887"
             ],
             [
              0.1111111111111111,
              "#46039f"
             ],
             [
              0.2222222222222222,
              "#7201a8"
             ],
             [
              0.3333333333333333,
              "#9c179e"
             ],
             [
              0.4444444444444444,
              "#bd3786"
             ],
             [
              0.5555555555555556,
              "#d8576b"
             ],
             [
              0.6666666666666666,
              "#ed7953"
             ],
             [
              0.7777777777777778,
              "#fb9f3a"
             ],
             [
              0.8888888888888888,
              "#fdca26"
             ],
             [
              1,
              "#f0f921"
             ]
            ],
            "type": "contour"
           }
          ],
          "contourcarpet": [
           {
            "colorbar": {
             "outlinewidth": 0,
             "ticks": ""
            },
            "type": "contourcarpet"
           }
          ],
          "heatmap": [
           {
            "colorbar": {
             "outlinewidth": 0,
             "ticks": ""
            },
            "colorscale": [
             [
              0,
              "#0d0887"
             ],
             [
              0.1111111111111111,
              "#46039f"
             ],
             [
              0.2222222222222222,
              "#7201a8"
             ],
             [
              0.3333333333333333,
              "#9c179e"
             ],
             [
              0.4444444444444444,
              "#bd3786"
             ],
             [
              0.5555555555555556,
              "#d8576b"
             ],
             [
              0.6666666666666666,
              "#ed7953"
             ],
             [
              0.7777777777777778,
              "#fb9f3a"
             ],
             [
              0.8888888888888888,
              "#fdca26"
             ],
             [
              1,
              "#f0f921"
             ]
            ],
            "type": "heatmap"
           }
          ],
          "heatmapgl": [
           {
            "colorbar": {
             "outlinewidth": 0,
             "ticks": ""
            },
            "colorscale": [
             [
              0,
              "#0d0887"
             ],
             [
              0.1111111111111111,
              "#46039f"
             ],
             [
              0.2222222222222222,
              "#7201a8"
             ],
             [
              0.3333333333333333,
              "#9c179e"
             ],
             [
              0.4444444444444444,
              "#bd3786"
             ],
             [
              0.5555555555555556,
              "#d8576b"
             ],
             [
              0.6666666666666666,
              "#ed7953"
             ],
             [
              0.7777777777777778,
              "#fb9f3a"
             ],
             [
              0.8888888888888888,
              "#fdca26"
             ],
             [
              1,
              "#f0f921"
             ]
            ],
            "type": "heatmapgl"
           }
          ],
          "histogram": [
           {
            "marker": {
             "colorbar": {
              "outlinewidth": 0,
              "ticks": ""
             }
            },
            "type": "histogram"
           }
          ],
          "histogram2d": [
           {
            "colorbar": {
             "outlinewidth": 0,
             "ticks": ""
            },
            "colorscale": [
             [
              0,
              "#0d0887"
             ],
             [
              0.1111111111111111,
              "#46039f"
             ],
             [
              0.2222222222222222,
              "#7201a8"
             ],
             [
              0.3333333333333333,
              "#9c179e"
             ],
             [
              0.4444444444444444,
              "#bd3786"
             ],
             [
              0.5555555555555556,
              "#d8576b"
             ],
             [
              0.6666666666666666,
              "#ed7953"
             ],
             [
              0.7777777777777778,
              "#fb9f3a"
             ],
             [
              0.8888888888888888,
              "#fdca26"
             ],
             [
              1,
              "#f0f921"
             ]
            ],
            "type": "histogram2d"
           }
          ],
          "histogram2dcontour": [
           {
            "colorbar": {
             "outlinewidth": 0,
             "ticks": ""
            },
            "colorscale": [
             [
              0,
              "#0d0887"
             ],
             [
              0.1111111111111111,
              "#46039f"
             ],
             [
              0.2222222222222222,
              "#7201a8"
             ],
             [
              0.3333333333333333,
              "#9c179e"
             ],
             [
              0.4444444444444444,
              "#bd3786"
             ],
             [
              0.5555555555555556,
              "#d8576b"
             ],
             [
              0.6666666666666666,
              "#ed7953"
             ],
             [
              0.7777777777777778,
              "#fb9f3a"
             ],
             [
              0.8888888888888888,
              "#fdca26"
             ],
             [
              1,
              "#f0f921"
             ]
            ],
            "type": "histogram2dcontour"
           }
          ],
          "mesh3d": [
           {
            "colorbar": {
             "outlinewidth": 0,
             "ticks": ""
            },
            "type": "mesh3d"
           }
          ],
          "parcoords": [
           {
            "line": {
             "colorbar": {
              "outlinewidth": 0,
              "ticks": ""
             }
            },
            "type": "parcoords"
           }
          ],
          "pie": [
           {
            "automargin": true,
            "type": "pie"
           }
          ],
          "scatter": [
           {
            "marker": {
             "colorbar": {
              "outlinewidth": 0,
              "ticks": ""
             }
            },
            "type": "scatter"
           }
          ],
          "scatter3d": [
           {
            "line": {
             "colorbar": {
              "outlinewidth": 0,
              "ticks": ""
             }
            },
            "marker": {
             "colorbar": {
              "outlinewidth": 0,
              "ticks": ""
             }
            },
            "type": "scatter3d"
           }
          ],
          "scattercarpet": [
           {
            "marker": {
             "colorbar": {
              "outlinewidth": 0,
              "ticks": ""
             }
            },
            "type": "scattercarpet"
           }
          ],
          "scattergeo": [
           {
            "marker": {
             "colorbar": {
              "outlinewidth": 0,
              "ticks": ""
             }
            },
            "type": "scattergeo"
           }
          ],
          "scattergl": [
           {
            "marker": {
             "colorbar": {
              "outlinewidth": 0,
              "ticks": ""
             }
            },
            "type": "scattergl"
           }
          ],
          "scattermapbox": [
           {
            "marker": {
             "colorbar": {
              "outlinewidth": 0,
              "ticks": ""
             }
            },
            "type": "scattermapbox"
           }
          ],
          "scatterpolar": [
           {
            "marker": {
             "colorbar": {
              "outlinewidth": 0,
              "ticks": ""
             }
            },
            "type": "scatterpolar"
           }
          ],
          "scatterpolargl": [
           {
            "marker": {
             "colorbar": {
              "outlinewidth": 0,
              "ticks": ""
             }
            },
            "type": "scatterpolargl"
           }
          ],
          "scatterternary": [
           {
            "marker": {
             "colorbar": {
              "outlinewidth": 0,
              "ticks": ""
             }
            },
            "type": "scatterternary"
           }
          ],
          "surface": [
           {
            "colorbar": {
             "outlinewidth": 0,
             "ticks": ""
            },
            "colorscale": [
             [
              0,
              "#0d0887"
             ],
             [
              0.1111111111111111,
              "#46039f"
             ],
             [
              0.2222222222222222,
              "#7201a8"
             ],
             [
              0.3333333333333333,
              "#9c179e"
             ],
             [
              0.4444444444444444,
              "#bd3786"
             ],
             [
              0.5555555555555556,
              "#d8576b"
             ],
             [
              0.6666666666666666,
              "#ed7953"
             ],
             [
              0.7777777777777778,
              "#fb9f3a"
             ],
             [
              0.8888888888888888,
              "#fdca26"
             ],
             [
              1,
              "#f0f921"
             ]
            ],
            "type": "surface"
           }
          ],
          "table": [
           {
            "cells": {
             "fill": {
              "color": "#EBF0F8"
             },
             "line": {
              "color": "white"
             }
            },
            "header": {
             "fill": {
              "color": "#C8D4E3"
             },
             "line": {
              "color": "white"
             }
            },
            "type": "table"
           }
          ]
         },
         "layout": {
          "annotationdefaults": {
           "arrowcolor": "#2a3f5f",
           "arrowhead": 0,
           "arrowwidth": 1
          },
          "coloraxis": {
           "colorbar": {
            "outlinewidth": 0,
            "ticks": ""
           }
          },
          "colorscale": {
           "diverging": [
            [
             0,
             "#8e0152"
            ],
            [
             0.1,
             "#c51b7d"
            ],
            [
             0.2,
             "#de77ae"
            ],
            [
             0.3,
             "#f1b6da"
            ],
            [
             0.4,
             "#fde0ef"
            ],
            [
             0.5,
             "#f7f7f7"
            ],
            [
             0.6,
             "#e6f5d0"
            ],
            [
             0.7,
             "#b8e186"
            ],
            [
             0.8,
             "#7fbc41"
            ],
            [
             0.9,
             "#4d9221"
            ],
            [
             1,
             "#276419"
            ]
           ],
           "sequential": [
            [
             0,
             "#0d0887"
            ],
            [
             0.1111111111111111,
             "#46039f"
            ],
            [
             0.2222222222222222,
             "#7201a8"
            ],
            [
             0.3333333333333333,
             "#9c179e"
            ],
            [
             0.4444444444444444,
             "#bd3786"
            ],
            [
             0.5555555555555556,
             "#d8576b"
            ],
            [
             0.6666666666666666,
             "#ed7953"
            ],
            [
             0.7777777777777778,
             "#fb9f3a"
            ],
            [
             0.8888888888888888,
             "#fdca26"
            ],
            [
             1,
             "#f0f921"
            ]
           ],
           "sequentialminus": [
            [
             0,
             "#0d0887"
            ],
            [
             0.1111111111111111,
             "#46039f"
            ],
            [
             0.2222222222222222,
             "#7201a8"
            ],
            [
             0.3333333333333333,
             "#9c179e"
            ],
            [
             0.4444444444444444,
             "#bd3786"
            ],
            [
             0.5555555555555556,
             "#d8576b"
            ],
            [
             0.6666666666666666,
             "#ed7953"
            ],
            [
             0.7777777777777778,
             "#fb9f3a"
            ],
            [
             0.8888888888888888,
             "#fdca26"
            ],
            [
             1,
             "#f0f921"
            ]
           ]
          },
          "colorway": [
           "#636efa",
           "#EF553B",
           "#00cc96",
           "#ab63fa",
           "#FFA15A",
           "#19d3f3",
           "#FF6692",
           "#B6E880",
           "#FF97FF",
           "#FECB52"
          ],
          "font": {
           "color": "#2a3f5f"
          },
          "geo": {
           "bgcolor": "white",
           "lakecolor": "white",
           "landcolor": "#E5ECF6",
           "showlakes": true,
           "showland": true,
           "subunitcolor": "white"
          },
          "hoverlabel": {
           "align": "left"
          },
          "hovermode": "closest",
          "mapbox": {
           "style": "light"
          },
          "paper_bgcolor": "white",
          "plot_bgcolor": "#E5ECF6",
          "polar": {
           "angularaxis": {
            "gridcolor": "white",
            "linecolor": "white",
            "ticks": ""
           },
           "bgcolor": "#E5ECF6",
           "radialaxis": {
            "gridcolor": "white",
            "linecolor": "white",
            "ticks": ""
           }
          },
          "scene": {
           "xaxis": {
            "backgroundcolor": "#E5ECF6",
            "gridcolor": "white",
            "gridwidth": 2,
            "linecolor": "white",
            "showbackground": true,
            "ticks": "",
            "zerolinecolor": "white"
           },
           "yaxis": {
            "backgroundcolor": "#E5ECF6",
            "gridcolor": "white",
            "gridwidth": 2,
            "linecolor": "white",
            "showbackground": true,
            "ticks": "",
            "zerolinecolor": "white"
           },
           "zaxis": {
            "backgroundcolor": "#E5ECF6",
            "gridcolor": "white",
            "gridwidth": 2,
            "linecolor": "white",
            "showbackground": true,
            "ticks": "",
            "zerolinecolor": "white"
           }
          },
          "shapedefaults": {
           "line": {
            "color": "#2a3f5f"
           }
          },
          "ternary": {
           "aaxis": {
            "gridcolor": "white",
            "linecolor": "white",
            "ticks": ""
           },
           "baxis": {
            "gridcolor": "white",
            "linecolor": "white",
            "ticks": ""
           },
           "bgcolor": "#E5ECF6",
           "caxis": {
            "gridcolor": "white",
            "linecolor": "white",
            "ticks": ""
           }
          },
          "title": {
           "x": 0.05
          },
          "xaxis": {
           "automargin": true,
           "gridcolor": "white",
           "linecolor": "white",
           "ticks": "",
           "title": {
            "standoff": 15
           },
           "zerolinecolor": "white",
           "zerolinewidth": 2
          },
          "yaxis": {
           "automargin": true,
           "gridcolor": "white",
           "linecolor": "white",
           "ticks": "",
           "title": {
            "standoff": 15
           },
           "zerolinecolor": "white",
           "zerolinewidth": 2
          }
         }
        },
        "width": 700,
        "xaxis": {
         "dtick": 1
        },
        "yaxis": {
         "dtick": 1
        }
       }
      },
      "text/html": [
       "<div>                            <div id=\"3a6e69e3-9274-479a-be4b-4066005835b2\" class=\"plotly-graph-div\" style=\"height:525px; width:700px;\"></div>            <script type=\"text/javascript\">                require([\"plotly\"], function(Plotly) {                    window.PLOTLYENV=window.PLOTLYENV || {};                                    if (document.getElementById(\"3a6e69e3-9274-479a-be4b-4066005835b2\")) {                    Plotly.newPlot(                        \"3a6e69e3-9274-479a-be4b-4066005835b2\",                        [{\"marker\": {\"color\": \"blue\", \"opacity\": 0.4, \"size\": 4}, \"mode\": \"markers\", \"name\": \"Authentic\", \"type\": \"scatter3d\", \"x\": [3.6216, 4.5459, 3.866, 3.4566, 0.32924000000000003, 4.3684, 3.5912, 2.0922, 3.2032, 1.5356, 1.2247, 3.9899, 1.8993, -1.5768, 3.404, 4.6765, 2.6719, 0.80355, 1.4479, 5.2423, 5.7867, 0.3292, 3.9362, 0.93584, 4.4338, 0.7057, 1.1432, -0.38214000000000004, 6.5633, 4.8906, -0.24811, 1.4884, 4.2969, -0.96511, -1.6162, 2.4391, 2.6881, 3.6289, 4.5679, 3.4805, 4.1711, -0.2062, -0.006891899999999999, 0.96441, 2.8561, -0.7869, 2.0843, -0.7869, 3.9102, 1.6349, 4.3239, 5.2620000000000005, 3.1452, 2.549, 4.9264, 4.8265, 2.5635, 5.807, 3.1377, -0.78289, 2.888, 0.49665, 4.2586, 1.7939, 5.4021, 2.5367, 4.6054, 2.4235, 1.0009, 0.12326, 3.9529, 4.1373, 4.7181, 4.1654, 4.4069, 2.3066, 3.7935, 0.049175, 0.24835, 1.1317, 2.8033, 4.4682, 5.0185, 1.8664, 3.245, 4.0296, -1.1313, 0.87603, 4.1197, 3.8027, 1.4806, 4.0632, 4.3064, 2.4486, 3.2718, -0.64472, 2.9543, 2.1616, 3.82, -2.7419, 3.3669, 4.5597, 5.1129, 3.3397, 4.2027, 3.5438, 2.3136, -1.8584, 3.1060000000000003, 2.9163, 3.9922, 1.518, 3.2351, 4.2188, 1.7819, 2.5331, 3.8969, 2.108, 2.8969, 0.9297, 3.4642, 4.0713, -1.4572, -1.5075, -0.9171799999999999, 2.9939999999999998, -2.343, 3.7818, 4.6689, 3.4663, 3.2697, 5.1302, 2.0139, 0.4339, -1.0401, 4.1605, 5.438, 5.032, 5.2418, -0.2062, 2.0911, 1.7317, 4.1736, 3.9232, 3.8481, 0.5195, 3.8584, 1.7496, 3.6277, 2.7391, 4.5447, -1.7599, 5.0691, 3.4591, 1.9358, 2.4859999999999998, 2.4226, 3.9479, 2.2634, 1.3566, 5.0452, 3.5499, 0.17346, 2.4008, 4.8851, 4.1927, 1.1166, 1.0235, -1.8030000000000002, 0.11739000000000001, 0.5706, 4.0552, -1.6952, -1.1193, 1.8799, 3.583, 0.19080999999999998, 3.6582, -0.13144, 2.3925, 1.6426, -0.11782999999999999, -0.69572, 2.9421, -1.7559, -1.2537, 3.2585, 1.8314, 4.5645, 2.7365, 0.9297, 3.9663, 1.4578, 4.8272, -2.3409999999999997, -1.8584, 4.1454, 1.9157, 4.0215, 5.8862, -2.0897, 4.0026, -0.78689, 4.1757, 0.8329200000000001, 4.8077, 5.3063, 2.5605, 2.1059, 2.1721, 4.2899, 3.5156, 2.614, 0.68087, 4.1962, 6.0919, 1.3234, 1.3264, -0.16735, -1.3, -2.2261, 2.4196, 1.0987, 4.6464, -0.36038000000000003, 1.3562, 0.5706, -2.6479, 3.1219, 5.4944, -1.3389, -2.3361, 2.2596, 0.46901000000000004, 2.7296, 2.0466, -1.3274, 3.8905, 3.9994, 2.3952, 3.2704, -1.3931, 1.6406, 2.7744, 2.4287, 4.2134, 1.6472, 2.0597, 0.3798, 1.0135, 4.5691, 0.5746100000000001, 0.5734, 5.2868, 4.0102, 4.1425, 3.0934, 2.2034, 3.7439999999999998, 3.0329, 3.7731, 3.1557, 1.8114, 4.988, 2.483, 1.594, -0.016103, 3.8496, 0.9297, 4.9342, 3.8417, 5.3915, 4.4072, 2.6946, 5.2756, 3.4312, 4.052, 1.3638, 0.89566, 1.9265, 0.20976999999999998, 4.0680000000000005, 2.877, 0.3223, -1.3, 1.7747, 1.3419, 0.8960600000000001, 0.44125, 3.2422, 2.5678, -2.2153, 4.1349, 1.9340000000000002, 2.5068, 2.1464, 0.051979, 1.2706, 1.143, 2.2928, 0.3292, 2.9719, 1.6849, -1.9177, 2.3729, 1.0284, 0.27451, 1.6032, 4.6160000000000005, 4.2478, 4.0215, 5.0297, 1.5902, 2.1274, 1.1811, 0.3292, 5.7353, 2.6718, 1.5799, 2.9499, 0.5195, 3.7352, -1.7344, 3.884, 3.5257, 4.4549, -0.16108, 4.2164, 3.5152, 1.6988, 1.0607, 2.0421, 3.5594, 3.0009, 3.9294, 3.4667, 3.966, 1.0191, 0.96414, 1.8205, 4.9923, -1.1804, 4.0329, 0.66018, 3.5982, -1.8584, 4.0972, 3.3299, 3.1088, -4.2859, -1.2528, 0.5195, 0.3292, 0.8887200000000001, 3.5458, -0.21661, 2.7206, 3.2051, 2.6917, -2.3242, 2.7161, 3.3848, 1.7452, 2.805, 5.7823, 3.8999, 3.5189, 3.2294, 3.4985, 2.1948, 2.2526, 4.1529, 0.74307, 1.9105, -1.5055, 0.58836, 3.2303, -1.9922, 2.8523, 4.2772, 1.5099, 5.4188, 0.8620200000000001, 3.8117, 0.54777, 2.3718, -2.4953, 4.6361, -2.2527, 3.7982, -0.36279, 2.1265, 0.86736, 3.7831, -2.2623, 1.2616, 2.6799, -0.39816, 4.3937, 2.9695, 1.3049, 2.2123, 1.9647, 3.0864, 0.3798, 0.58982, 0.14783, -0.062025, 4.223, 0.64295, 1.9409999999999998, 4.0047, 3.7767, 3.4769, 1.9818, 3.8023, 4.3483, 1.1518, -1.2576, 1.9572, -2.484, -1.1497, 4.8368, -0.12195999999999999, 1.9429, 1.742, -1.5222, -1.3, 3.4246, 2.5503, 1.5691, 1.3087, 5.1776, 2.229, 5.6272, 1.2138, 0.3798, 0.5415, 4.0524, 4.7285, 3.4359, 0.86816, 3.359, 3.6702, 1.3349, 3.1887, 2.4527, 3.9121, 3.9364, 3.9414, 3.6922, 5.681, 0.7712399999999999, 3.5761, 1.6019999999999999, 2.6682, 2.0007, 0.64215, 4.3848, 0.77445, 0.9657399999999999, 3.0948, 4.9362, -1.9458, 5.7403, -2.6989, 1.1472, 2.9742, 4.5707, 0.1848, 0.87256, 0.39559, 3.8384, 2.8209, 2.5817, 3.8213, 0.3798, 3.4893, -1.7781, 2.0962, 0.94732, 2.8261, 0.007124899999999999, 0.96788, 4.7432, 3.6575, 3.8832, 3.4776, 1.1315, 2.8237, 1.9321, 3.0632, -1.8411, 2.8084, 2.5698, -0.12624000000000002, 3.3756, -0.048007999999999995, 0.5706, 0.88444, 3.8644, 1.2999, 2.0051, 4.9294, 2.8297, 2.565, 2.093, 4.6014, 5.0617, -0.2951, 3.577, 3.9433, 2.6648, 5.9374, 2.0153, 5.8782, -2.3983, 1.7619999999999998, 4.2406, 3.4669, 3.1896, 0.8135600000000001, 0.52855, 2.1319, 0.33111, 1.2746, 2.2091, 2.5328, 3.6244, -1.3885, 5.7227, 3.3583, 2.5227, 0.045304000000000004, 4.8278, 1.9476, 2.7659, -0.10647999999999999, 0.7225199999999999, 4.2475, 3.9772, 3.6667, 2.8232, -1.4217, 4.2458, 4.1038, 1.4507, 3.4647, 1.8533, 3.5288, 3.9719, 3.534, 3.6894, 3.0672, 2.6463, 2.2893, 1.5673, 4.0405, 4.3846, 2.0165, 4.0446, -0.33729000000000003, -2.4604, 4.1195, 2.0193, 1.5701, 2.6415, 5.0214, 4.3435, 1.8238, 3.9382, 2.2517, 5.504, 2.8521, 1.1676, 2.6104, 0.32444, 3.8962, 2.1752, 1.1588, 4.7072, -1.9667, 4.0552, 2.3678, 0.33565, 4.3398, 1.5456, 1.4276, -0.27802, 0.93611, 4.6352, 1.5268, 0.95626, -2.7914, 5.2032, 3.1836, 0.6549699999999999, 5.6084, 1.105, 3.9292, 1.1558, 2.5581, 2.7831, 3.7635, -2.6479, 1.0652, -1.4275, 5.7456, 5.086, 3.4092, -0.2361, 3.8197, -1.1391, 4.9249, 2.5089, -0.2062, 3.946, -0.278, 1.8592, 0.56953, 3.4626, 3.3951, 5.0429, 3.7758, 4.6562, 4.0948, 1.8384, 2.0153, 3.5251, 3.7569999999999997, 2.5989, 1.8994, 3.6941, 4.4295, 6.8248, 1.8967, 2.1526, 3.3004, 2.7213, 3.8846, 4.1665, 0.94225, 5.1321, 0.38251, 3.0333, 2.9233, 1.162, 3.7791, 0.77765, -0.38388, 0.21084, 2.9571, 4.6439, 3.3577, 3.5127, 2.6562, -1.3612, -0.278, 1.04, 2.1881, 4.2756, -0.11996, 2.9736, 3.7798, 5.3586, 1.8373, 1.2262, -0.048007999999999995, 0.5706, 4.3634, 3.4819999999999998, 0.51947, 2.3164, -1.8348, 1.3754, -0.16682, 0.29961, 0.25035, 2.4673, 0.77805, 3.4465, 2.2429, 3.7321, 4.3365, -2.0759, 4.0715, 0.76163, -0.53966, 2.6213, 3.0242, 5.8519, 0.5706, 3.9771, 1.5478, 0.74054, 0.49571000000000004, 1.645, 3.6077, 3.2403, 3.9166, 3.9262, 5.591, 3.7522, 1.3114, 3.7022, 4.364, 3.5829, 4.65, 5.1731, 3.2692, 2.4012, 1.7257, 4.7965, 4.0962, 2.5559, 3.4916, 0.5195, 2.9856, 4.0932, 1.7748, 5.2012, -0.45061999999999997, 4.8451, 0.74841, 5.1213, 3.6181, 0.040498, -2.6479, 0.37984, -0.9592299999999999, 2.8672, 1.0182, -2.7143, 3.8244, 2.7961, 3.5358, -0.7056, 4.1542, 0.9270299999999999, 1.8216, -2.4473, 3.5862, 0.66191, 4.7926, 4.9852, 0.75736, 4.6499, -0.023579, 0.85574, 0.8829799999999999, 4.0422, 2.2546, 0.38478, 3.1541, 2.3969, 4.7114, 4.0127, 2.6606, 3.931, 0.017269999999999997, 3.2414, 2.2504], \"y\": [8.6661, 8.1674, -2.6383, 9.5228, -4.4552, 9.6718, 3.0129, -6.81, 5.7588, 9.1772, 8.7779, -2.7066, 7.6625, 10.843, 8.7261, -3.3895, 3.0646, 2.8473, -4.8794, 11.0272, 7.8902, -4.4552, 10.1622, 8.8855, 9.887, -5.4981, -3.7413, 8.3909, 9.8187, -3.3584, -0.17797000000000002, 3.6274, 7.617000000000001, 9.4111, 0.80908, 6.4417, 6.0195, 0.8132199999999999, 3.1929, 9.7008, 8.722000000000001, 9.2207, 9.2931, 5.8395, 6.9176, 9.5663, 6.6258, 9.5663, 6.065, 3.286, -4.8835, 3.9834, 5.825, 6.1499, 5.496, 0.80287, 6.7769, 5.0097, -4.1096, 11.3603, 0.44696, 5.527, 11.2962, -1.1174, 3.1039, 2.5989999999999998, -4.0765, 9.5332, 7.7846, 8.9848, -2.3548, 0.49248000000000003, 10.0153, -3.4495, 10.9072, 3.5364, 7.9853, 6.1437, 7.6439, 3.9647, 9.0862, 2.2907, 8.5978, 7.7763, 6.63, 2.6756, 1.9037, 6.8141, -2.7956, 0.81529, 7.6377, 3.5839999999999996, 8.2068, -6.3175, 1.7837, -4.6062, 1.0759999999999998, -6.8804, 10.9279, 11.4038, -5.1856, -2.4211, -0.49871000000000004, -4.6145, 0.22760999999999998, 1.2395, 10.6651, 7.886, 9.5414, 10.8306, -4.4676, 5.6946, 9.647, 6.8162, 6.9176, 2.9135, 7.4163, 6.7955, 0.70768, -3.7971, 10.6878, 10.4023, 9.1214, 1.9224, 9.9884, 7.2011, 12.9516, -2.8846, 1.3098, 1.1112, -4.3414, 8.6703, 6.1416, 5.5395, 9.3987, 11.2196, 9.4669, 8.2026, 10.5388, 9.2207, 0.94358, -0.34765, 3.3336, -3.2467, 10.1539, -3.2633, 0.78425, -0.1759, 0.9829, 7.4018, 8.2274, 11.9211, 0.21313000000000001, 11.112, 8.1654, -0.9953299999999999, -4.5752, -3.7723, -4.4862, 4.2358, 3.8964, 8.6165, 7.8695, 9.3593, 1.5995, -3.2674, 8.6496, 6.901, 11.8818, 6.2761, -0.0248, -2.4583, 1.0657, 10.7271, 2.4707, -3.7971, 9.1297, 5.6864, -1.7775, 9.798, 3.0149, -1.5789, 8.6165, 7.4101, 11.9459, 10.8803, -4.4614, 6.3672, -3.6275, -5.0325, -3.7971, 10.1684, -0.08485, 3.0687, 12.3784, 7.886, 7.257000000000001, 6.0816, -2.1914, 5.8747, 10.8265, -3.5943, 9.5663, 10.2615, 7.5404, 2.2327, 5.2684, 9.2683, 7.6046, -0.73874, 9.1814, 10.1891, 8.0081, 2.3259, 0.74493, 2.9673, 3.2964, 1.0326, 7.6274, 10.2678, 12.5398, 6.4665, 0.6394, 10.5326, 4.1158, 3.2136, -0.0248, 10.1374, -3.137, 1.5478, 1.5519999999999998, 11.9604, -0.033118, -0.63321, 2.8701, 2.03, 9.498, -2.1521, 0.90427, 9.5083, 6.9321, 1.5664, 3.5488, 6.8576, 9.3821, -2.806, 0.48213, -0.99326, 0.7098, 8.4551, -4.4552, 10.1105, 9.1938, 3.2569999999999997, 10.6568, -3.6792, -2.9177, 5.9947, 0.79459, 2.2948, 7.2073, 2.8908, 7.6067, 7.2052, 6.6155, 4.7055, 9.7484, 9.7939, -3.7971, 2.4107, 10.0215, 9.9946, -0.070365, 6.7976, 0.13863, 6.2637, -0.16555, -4.7759, 7.7763, 7.7557, -0.46146000000000004, -2.9363, -4.0599, -0.8980799999999999, 10.2678, -6.4334, -4.4221, 10.5471, 2.9487, 6.2265, 3.5136, 11.9625, 6.1189, -9.2828e-06, 1.1588, 6.0795, 7.0521, 8.035, 0.83391, 9.0386, -4.4552, 6.8369, 8.7489, 11.6894, 10.4726, 9.767000000000001, 9.2186, -4.7863, 10.1788, 7.6956, -2.7004, -4.9704, 2.2948, 5.1939, 8.3847, -4.4552, 5.2808, 5.6574, -4.7076, 2.2493, -3.2633, 9.5911, 2.0175, 10.0277, 1.2829, 2.4976, -6.4624, 9.4607, 6.8224, 2.9094, 2.4542, 1.2436, 1.3078, 5.8126, 1.4112, -4.0724, 3.9213, 2.33, 5.6160000000000005, 6.7562, 7.8653, 11.5093, 0.23175, 10.3878, 7.1307, 7.886, 0.46971999999999997, 0.91254, 3.1122, 8.5234, 10.2036, -3.2633, -4.4552, 5.3449, 9.3718, 8.0329, 9.0821, 8.6889, 10.8161, 11.5176, -4.2006, 3.2674, 4.8028, 0.5773199999999999, 5.5788, 1.734, 6.332000000000001, 7.7391, 3.1639, 1.3781, 9.9636, -3.9358, 11.17, 8.871, 0.070346, 10.7727, 7.8384, 11.6542, 9.0096, 2.4955, 0.039307, 10.1457, 2.6963, 10.1457, 10.3754, 7.4908, 11.1472, -2.6611, 11.5321, 10.423, 8.2895, 6.8783, 5.5643, 10.0526, 12.1177, 4.4303, 3.1349, 5.9781, 0.35798, 5.6222, -0.15521, -5.8395, 6.9383, -2.5845, 0.7098, 7.4266, 7.946000000000001, 6.1975, 1.1319, 7.1018, 0.46351000000000003, 0.45937, 9.7794, -0.15314, 9.2621, -3.8696, 11.1079, 1.3864, 1.5892, -5.1153, 12.1611, 1.2954, 10.0132, 8.8068, 6.3961, -4.809, 10.8409, 10.2678, -0.14693, -4.9518, 6.3465, 4.9228, 8.2316, 9.6325, 10.0857, 8.7986, 0.7098, 6.0319, 5.6802, 2.1065, 0.6621600000000001, 10.2429, 9.8022, 2.9942, 6.1189, -3.4143, 2.9653, 2.9735, 10.5885, -3.2902, -3.9585, 7.795, 9.0862, 9.7753, 6.1251, 10.216000000000001, 1.8644, 3.1287, -3.0729, 9.0552, 8.392999999999999, 8.7324, 7.6046, 11.2217, -0.44283999999999996, 12.1984, 3.5985, 8.96, 7.2094, 6.5079, 9.2931, 6.8866, 6.1851, 7.3108, 9.7546, 0.23175, 0.7098, 6.69, 0.8546, 2.4769, -0.57113, 9.4007, 8.3661, 7.1907, 2.1086, 7.2797, 6.4023, 8.811, 7.9212, 2.8597, 6.0423, -3.3315, 10.8306, 11.3045, -4.4076, 10.3216, -4.0951, -1.6037, -0.0248, 6.5906, 3.7061, 2.5762, -6.8638, 0.27726999999999996, 6.3485, 8.633, 8.3061, 5.6264, -0.35799000000000003, 9.0489, 2.4004, 2.5017, 10.754000000000001, 6.1664, 1.8479, 5.9409, 12.606, 4.3682, -2.4852, 6.87, 5.7526, 9.1566, 0.9642700000000001, -2.0403, 4.5731, 8.8172, 7.4556, 7.528, 1.4609, 12.5026, 5.8312, 10.3567, 2.2369, 6.7334, 7.7598, -4.7738, 0.6621600000000001, -0.76771, -0.053811000000000005, 1.4816, 0.33521, 4.302, 10.8513, 11.6542, 1.1981, -4.8069, 8.7903, -3.9172, 6.1458, 0.71596, 1.0367, 9.3614, 9.887, -4.4117, -4.8152, 3.733, 7.9274, 0.5152399999999999, -4.8794, -0.25246, 11.1741, -0.64976, 12.7302, 10.9258, 0.8235600000000001, 7.9129, 7.586, 8.0764, 3.3295, -6.7748, 0.9291, -5.1422, 10.3671, 9.171, 9.1566, 8.0081, 10.067, -4.7904, -0.8091, 8.9331, 8.2957, 11.8052, 0.40143, -6.8389999999999995, 6.8369, -5.3036, 8.5482, 8.3847, 8.1881, 8.6413, -3.0087, -5.5871, 2.4728, 1.7734, 3.5116, 7.2321, 5.1815, 10.3009, 7.4432, -2.9156, 6.4003, 2.6218, 10.9796, 2.7811, 10.1374, 8.3682, 11.8797, 10.1808, 3.2798, 5.4049, 9.3221, 8.9951, 1.8127, 0.68906, 6.841, 9.2207, 6.8514, 8.1881, 3.2074, 7.6294, -4.449, 1.1484, -0.52974, 7.1783, 7.6398, -2.9674, 6.063, 0.43661000000000005, 0.7201, -5.4236, 3.5178, 0.97462, -3.9482, -2.3507, 5.2187, -2.5163, -6.1665, 7.0811, 7.05, -3.0336, -0.4449, 5.8561, -0.031048000000000003, 6.8121, -2.5928, 6.0464, 10.2926, 2.5762, 5.9781, -1.0471, 9.4359, -4.5938, -3.3729, -4.3062, 2.9073, 10.7044, 10.694, 8.1881, -6.9321, 2.7356, -2.6528, 6.8741, 8.7944, -3.3109, 3.7557, 6.1292, 0.89599, -0.5607800000000001, -0.024841, 0.46351000000000003, -4.1634, -3.2633, -2.628, 11.0334, 8.8793, 5.8974, 7.1328, 9.3262, 1.3926, 6.6424, 2.9508, -4.1427, -3.884, -3.5839999999999996, 10.8223, 7.6398, 5.8209, 7.3273, 5.7919, -3.3378, 5.3905, -0.0248, 11.1513, 9.1814, 0.36625, 10.2243, 7.8612, 6.8576, -3.7082, 10.2491, 6.0299, 10.4643, -3.6978, 4.5462, 6.9942, -3.1039, 1.4423, -4.8297, 3.9606, 3.4184, 1.6223, -4.4697, 6.9859, 10.1891, 3.3605, 8.5709, -3.2633, 7.2673, 5.4132, -0.76978, 0.32694, -1.3678, 8.1116, 7.2756, 8.5565, -3.7454, 8.5234, 10.1374, 0.70975, 0.091039, 10.0008, 9.109, 11.4535, -3.1081, 2.121, 6.7086, 8.7241, 7.2756, 9.4318, -6.4748, 12.6247, -3.0957, 9.6594, 1.7071, 8.3516, 3.0294, 7.6336, 7.1742, 0.0082678, 0.66009, -4.391, 8.0992, 6.5989, -5.1711, 0.23589000000000002, 2.0755, 10.1477, 3.1681, 1.8541, 8.693, 0.40971, 3.5757], \"z\": [-2.8073, -2.4586, 1.9242, -4.0112, 4.5718, -3.9606, 0.72888, 8.4636, -0.75345, -2.2718, -2.2135, 2.3946, 0.15394000000000002, 2.5462, -2.9915, 3.4896, 0.37158, 4.3439, 8.3428, -4.353, -2.6196, 4.5718, -3.8235, -1.6831, -4.6795, 8.3368, 5.5777, 2.1624, -4.4113, 3.4202, 4.9068, 3.3080000000000003, -2.3874, 1.7305, 8.1628, -0.80743, -0.46641000000000005, 1.6277, -2.1055, -3.7541, -3.0224, -3.7044, -0.41243, 2.3235, -0.79372, -3.7867, 0.48382, -3.7867, -2.4534, 2.8753, 3.4356, -1.5572, -0.51439, -1.1605, -2.4774, 1.6371, -0.61979, -2.2384, 4.5701, -0.37644, 4.5907, 1.7785, -4.0943, 1.5454, -1.1536, 2.0938, 2.7587, -3.0789, -0.28219, -0.9351, 2.3792, 1.093, -3.9486, 3.6430000000000002, -4.5775, 0.5755100000000001, -2.5477, 1.7828, 0.9885, 3.3979, -3.3668, 0.9576600000000001, -2.9375, -0.23849, -0.63435, 0.80685, 7.5339, 0.84198, 2.0707, 2.1041, -2.7876, 0.72545, -2.7824, 7.9632, 2.1161, 8.347000000000001, 0.64577, 8.1517, -4.0112, 2.5394, 3.6935, 2.6413, 0.62863, 3.9823, 0.9610799999999999, 1.9969999999999999, -3.5288, -1.6643, -4.2536, -3.3437, 3.7304, 0.094818, -3.2074, -1.2804, -1.2744, -0.8220000000000001, -1.8245, -0.1708, 2.29, 4.6429, -3.4071, -4.1722, 1.7425, 7.1466, 1.1804, -1.2153, 3.3285, 2.2558, 0.055403999999999995, 1.7425, 3.6884, -2.8913, 0.37929, 2.033, 0.85998, -3.6136, -4.9417, -2.6256, -4.1174, -3.7044, 4.5512, 4.1905, -1.4244, 3.4579, -3.8561, 3.0895, 1.1033, 5.1827, 0.68861, 0.071684, -2.4166, 2.6756, 0.20278, -4.2039, -0.023425, 5.3404, 5.947, 2.883, 3.6558, 2.1341, -1.4304, -3.2794, 0.26876, -3.3565, -0.00029081, 2.5839, -0.96252, -2.0062, 2.0458, -1.5495, 1.2421, 2.2806, 8.8294, 2.0938, 2.4931, 3.4391, -3.725, -1.7157, 8.3316, -3.0361, 0.22849, 8.03, 1.8419, -0.97709, 3.0946, 1.931, 3.8024, -0.036278, 2.8684, 6.6608, 4.6429, -4.1131, 4.1785, 0.68604, 0.70403, -1.6643, -1.9153, 0.23705, 2.4648, -2.8167, 2.3603, 3.5573, -3.7867, -3.8552, 0.65005, -0.26334, -2.8904, -3.5913, -0.47755, 5.4672, -4.6067, -4.2759, -3.7258, 4.9085, 0.8325600000000001, -1.3267, 0.2362, 5.6566, 1.2061, -2.9530000000000003, 2.9438, -0.75688, 5.989, -4.5852, 3.1143, 4.3465, 1.2421, -1.331, 1.9259, 0.041694, 7.0806, 3.0835, 4.7355, 7.3848, 0.5112399999999999, 2.1761, 2.4408, 2.6302, 1.1693, -3.1783, -1.0456, 7.5382, 1.3964, -1.0671, -3.2477, 2.0116, 4.7449, 5.2119, 0.7572, -1.672, 3.1769, -1.6917, -0.9094, -1.3721, -4.1388, 3.8281, 2.2232, 0.53009, 0.9585100000000001, 2.1135, -1.6814, 0.5969300000000001, -0.9788, -3.2846, -0.79287, 1.3758, 0.15394000000000002, -4.1508, 4.6429, -0.17594, -4.2699, -3.8081, 2.0416, -0.40301, 0.12138, -1.9513, 0.45383, 8.4182, -2.7473, -0.16823, 7.7267, 2.1992, 3.6259, 8.0883, -2.9530000000000003, 8.15, 8.09, -1.4175, 4.3225, 0.12224000000000002, 0.61406, 0.078538, -2.4294, 4.816, 3.9249, -0.5778, -2.0541, -0.19651, 5.4552, -3.2417, 4.5718, -0.2702, -1.2641, 2.5454, -3.0087, -1.3687, -3.2863, 8.5193, -4.2185, -2.7696, 2.4957, 3.5025, 3.2403, -1.7971, -2.0567, 4.5718, -2.2598, 0.7297399999999999, 7.9186, 1.3458, 3.0895, -3.9032, 7.7618, -3.9298, 1.9276, 1.0313, 8.3573, -4.9288, -0.67377, 2.9044, 2.5188, 4.2171, 1.291, -2.2306, 1.8076, 4.2882, 0.7057399999999999, 4.9334, 2.2138, 0.0099913, -2.3515, 0.15565, 0.8908200000000001, -1.4029, -1.3035, -1.6643, 1.6671, 1.5806, 0.80857, 3.1392, 2.1787, 3.0895, 4.5718, 2.045, -4.0351, 1.8848, -3.3111, -2.9033, -3.3, 1.8231, 4.1914, 0.9096700000000001, 2.0878, 1.3424, -2.4089, 1.6011, -1.7791, -0.37816, 0.22676999999999997, 1.1582, -3.1749, 2.8633, -1.3824, -2.3386, 6.8681, -1.3884, -3.5348, 2.6542, -3.761, 0.48553999999999997, 6.2332, -4.084, 4.2908, -4.0463, -1.5435, 0.015989, 1.9353, 2.8358, 2.5899, -4.1602, -1.9213, 0.44783999999999996, 1.6765, -3.8869, 0.28846, -1.3335, 0.34073000000000003, 1.3912, 2.0416, 0.27560999999999997, 6.4911, 7.7687, 0.57722, 2.2309, 0.7572, 1.2353, 1.0742, 1.099, 0.72202, 0.3493, 4.6472, 1.3621, -3.9075, 2.53, -3.5210000000000004, 4.044, -4.0857, 5.2727, 7.0078, 8.6127, 2.8204, 7.7010000000000005, -4.3239, 0.9456600000000001, 0.092248, 8.2142, 2.7827, -2.9530000000000003, 0.80342, 6.3729, -0.1828, 2.0013, -3.2511, -3.1123, -4.2931, -2.1672, 0.7572, 1.6825, -1.9693, -0.28305, 2.1041, -1.4912, -3.8209, 0.85141, 0.46497, 2.7742, 0.20021, 0.9285200000000001, -3.725, 3.1674, 4.3439, -2.6848, -1.2281, -3.9795, 0.5292399999999999, -3.4414, 2.6491, 4.2933, 3.0423, -2.4089, -1.361, -2.9007, -2.3429, 1.9079, 0.38015, 0.67661, 1.9387, -2.9024, -3.2794, 2.0133, -0.7843, 1.0588, -2.0439, -0.81857, -3.1749, 2.0133, 0.7572, -1.2042, 7.1303, 1.9379, 7.1903, -3.3034, 0.50781, 1.2798, 0.1368, -2.2692, -2.432, -3.1886, 1.093, 0.19677999999999998, 0.26019000000000003, 5.1305, 2.7689999999999997, -3.3394, 5.9856, -3.7121, 4.367, 8.4756, 1.2421, 0.55837, 0.70403, 2.0107, 8.132, 0.20792, -0.73546, -2.9941, 0.022844, -2.1235, 0.44698000000000004, -0.52725, 1.8908, 1.5215, -3.3994, -2.5905, 3.1375, -2.8544, 2.9464, 2.1384, 1.608, -1.0568, -0.18537, -2.1492, 4.0243, 2.5574, 2.057, -1.5323, -1.3284, -0.41928999999999994, 1.3501, 0.69118, -2.4097, -3.7301, 2.7236, 1.0708, -2.4491, 8.527000000000001, 4.1494, 7.7575, 5.6703, -0.48355, 2.2566, 0.55923, -3.1466, -0.057699, 0.66633, 3.3491, -2.2324, 3.9746, 1.0176, 1.9507, 0.75973, -3.6316, -4.0788, 3.8238, 6.3549, 0.6312, -0.056842, 1.0279, 3.3662, 5.1707, -4.3582, 7.6659, 0.91738, -3.8929, 4.6369, 0.29018, -0.28562, -3.0515, 0.83598, 8.3873, 0.7854300000000001, 4.2916, -4.413, -3.6461, -2.0867, -0.23592, -1.1982, 3.3954, 5.1022, -2.0807, -2.5605, -0.40471999999999997, 1.4563, 8.4207, 0.69718, 3.8803, 0.4187, -2.0995, -3.1338, -1.6351, 2.6773, 8.6564, 4.4578, 6.7756, -1.2538, -1.0713, 1.0673, -4.8003, 0.41098999999999997, 2.2129, 1.5506, 1.8513, -3.557, 0.6611899999999999, -1.331, -1.4004, 0.41613, -4.7857, -1.2701, -2.5228, 2.1307, -4.383, 6.9144, 0.77344, -0.029423, -3.7044, -1.5443, -3.1338, -0.15966, 1.5754, 3.5427, 2.1401, 0.50439, -1.5195, -2.4243, 2.3689, 0.54723, 4.5864, 1.6928, 3.8255, 0.7623, 4.2265, 4.2625, 1.7048, -2.5425, 2.8093, 8.0831, -1.3258, -0.58808, 2.5334, 0.23448000000000002, 1.8762, 0.32616, 1.8128, 2.3183, -0.11168, -1.2821, 1.3098, 1.1941, 8.0514, -0.09454299999999999, 5.9068, 2.5976, 6.0241, 1.0579, -3.3085, 1.7022, -3.1338, 8.2888, 1.3278, 2.1375, 0.91995, -3.6359, 2.6491, -1.7345, 0.8402700000000001, 5.7568, 7.7215, 1.2421, 1.4281, 3.5008, 3.0895, 3.1529, 3.1863, -1.9136, 0.49838999999999994, -0.31475, -3.6873, 1.7125, -1.1425, 1.0271, 5.2333, 3.3577, 3.6884, 2.6439, -2.0824, 1.1959, 0.46583, 0.06568600000000001, 2.5865, -2.4037, 1.2421, -3.9272, -1.6326, 2.1992, -1.097, -0.87598, -1.1622, 5.2804, -4.0926, -2.0156, -4.3839, 3.9943, 2.2935, -1.8511, 2.3757, 1.0219, 3.4553, -1.983, 0.20706, 3.0312, 8.2219, -1.9967, -3.9323, 2.0321, -3.0326, 3.0895, -0.409, -1.8219, 5.5854, 0.17965, 7.0858, -2.9512, 1.1504, -3.3917, 2.8273, 1.4461, -1.331, 0.75716, 6.2204, -3.2049, -0.62064, 2.1092, 2.4537, 1.8385, -0.81857, 2.2215, -2.4766, -0.66263, 8.0514, 0.73573, 2.8093, -0.28819, -0.051701, -2.5425, 2.9164, -1.9427, 0.78457, 6.6042, 6.0096, 4.7466, -0.24877, -0.3336, 6.5991, 4.8477, -0.2702, -3.9366, 1.9619, -0.023425, 1.3989, 1.4015, 0.35273000000000004]}, {\"marker\": {\"color\": \"red\", \"opacity\": 0.4, \"size\": 4}, \"mode\": \"markers\", \"name\": \"Forgery\", \"type\": \"scatter3d\", \"x\": [-1.3971, 0.39011999999999997, -1.6677, -3.8483, -3.5681, -2.2804, -1.7582, -0.8940899999999999, 0.3434, -0.9854, -2.4115, -1.5252, -0.61442, -0.36506, -5.9034, -1.8215, -0.77461, -1.8187, -3.5801, -1.8219, -0.3481, 0.47368000000000005, -3.4083, -1.6662, -2.0962, -2.6685, -0.47465, 1.0552, 1.1644, -4.4779, -2.7338, -2.286, -1.6244, 0.50813, 1.6408, 0.81583, -5.4901, -3.2238, -2.0631, -0.9131799999999999, 0.6005, 0.91315, -0.28015, -3.6085, -6.2003, -4.2932, -3.0265, -1.7015, -0.64326, -0.86339, -2.0659, -2.1333, -1.2568, -3.1128, -4.8554, -2.588, 0.24394000000000002, -1.5322, -4.0025, -4.0173, -3.0731, -1.979, -0.4294, -2.234, -4.211, -3.8073, -2.5912, -2.2482, -1.4427, -0.39416, -1.5219999999999998, -2.8267, -1.7263, -0.94255, -0.89569, -6.2815, -2.3211, -1.3414, -2.258, -3.8858, -1.8969, -0.52645, 0.0096613, -3.8826, -2.1405, -2.4824, -2.9098, -0.60975, 0.83625, 0.60731, -4.8861, -3.1366, -2.5754, -1.8782, 0.24261, 1.296, 0.25943, -5.872999999999999, -3.4605, -2.3797, -1.2424, 0.20215999999999998, 0.59823, -0.77995, -4.1409, -6.5084, -4.4996, -3.3125, -1.9423, -0.75793, -0.9540299999999999, -2.2173, -2.799, -1.8629, -3.5916, -5.1216, -3.2854, -0.56877, -2.3518, -4.4861, -4.3876, -3.3604, -1.0112, 0.030219, -1.6514, -3.2692, -2.5701, -1.3066, -1.6637, -0.55008, 0.21431, -0.77288, -1.8391, -0.63298, 0.0040545, -0.28696, -5.2406, -1.4446, -0.65767, -1.5449, -2.8957, -0.81479, 0.50225, 0.74521, -2.9146, -1.3907, -1.786, -1.7322, 0.55298, 2.031, 1.2279, -4.2249, -2.5346, -1.749, -0.539, 1.5631, 2.3917, 0.89512, -5.4808, -2.8833, -1.4174, 0.4283, 1.5904, 1.7425, -0.23356, -3.6227, -6.1536, -3.9172, -2.2214, -0.49241, 0.26516999999999996, -0.10234, -1.6176, -1.8448, -1.2786, -2.9019999999999997, -4.3773, -2.0529, 0.18868, -1.7279, -3.3793, -3.1273, -2.121, -1.7697, -0.0012852, -1.682, -3.4917, -3.1158, -2.0891, -1.6936, -1.2846, -0.09219400000000001, -1.0292, -2.2083, -1.0744, -0.51003, -0.36372, -6.3979, -2.2501, -1.1859, -1.8076, -3.3863, -1.4106, -0.21394000000000002, 0.48796999999999996, -3.8167, -1.9555, -2.1786, -2.3299, 0.0031201000000000002, 1.3518, 1.2309, -5.0301, -3.0799, -2.2987, -1.239, 0.7589600000000001, 1.6799, 0.63655, -6.0598, -3.5180000000000002, -2.0336, -0.69745, 0.75108, 0.84546, -0.55648, -3.6817, -6.7526, -4.577, -2.9883, -1.4781, -0.46651000000000004, -0.8734, -2.1234, -2.3142, -1.4233, -3.0866, -4.7331, -2.8829, -0.036127, -1.7104, -3.8203, -3.7181, -2.8989999999999996, -0.98193, -0.17296, -1.9409, -3.5713, -2.9915, -1.8483, -2.2677, -0.5081600000000001, 0.14329, -0.90784, -2.0042, -0.9358700000000001, -0.40804, -0.8172, -4.8392, -1.2792, -0.66008, -1.7713, -3.0061, -1.1022, 0.11805999999999998, 0.11685999999999999, -2.7264, -1.2369, -1.8439, -1.8554, 0.16358, 1.5077, 0.67886, -3.9934, -2.3898, -1.7976, -0.70867, 1.0194, 1.7875, 0.27331, -5.1661, -2.7028, -1.4904, -0.014902, 0.88992, 1.0637, -0.8471, -3.9594, -5.8818, -3.7747, -2.4198, -0.83535, -0.30432, -0.60254, -2.1059, -2.0441, -1.5621, -3.2305, -4.8426, -2.3147, -0.11715999999999999, -2.0066, -3.6961, -3.6012, -2.6286, -0.82601, 0.31803000000000003, -1.4454, -3.1423, -2.5373, -1.3659999999999999, -1.7064, -0.41965, 0.37637, -0.55355, -1.6001, -0.37013, 0.12125999999999999, -0.27068000000000003, -5.119, -1.3946, -0.6987899999999999, -1.48, -2.6649, -0.62684, 0.518, 0.64376, -2.9821, -1.4628, -1.7101, -1.5572, 0.74428, 2.0177, 1.1640000000000001, -4.3667, -2.5919, -1.8046, -0.71868, 1.4378, 2.1943, 0.7376, -5.6370000000000005, -3.0193, -1.6706, -0.1269, 1.2198, 1.4501, -0.40857, -3.8952, -6.3679, -4.1429, -2.6864, -1.0555, -0.29858, -0.49948000000000004, -1.9881, -1.9389, -1.4375, -3.1875, -4.6765, -2.0285, 0.26637, -1.7589, -3.5985, -3.3582, -2.3629, -2.1802, -0.40951, -2.2918, -4.0214, -3.3884, -2.0046, -1.7063, -1.6386, -0.41645, -1.5877, -2.5961, -1.5228, -0.53072, -0.49081, -6.5773, -2.4621, -1.3995, -2.3221, -3.73, -1.6988, -0.26654, 0.33325, -4.2091, -2.3142, -2.4835, -2.7611, -0.36025, 1.0117, 0.9670799999999999, -5.2049, -3.3203, -2.565, -1.5951, 0.7049, 1.7331, 0.6818, -6.3364, -3.8053, -2.1979, -0.87874, 0.7406699999999999, 0.9829600000000001, -0.3489, -3.8552, -6.9599, -4.7462, -3.2051, -1.7549, -0.59587, -0.8954200000000001, -2.0754, -3.2778, -2.2183, -3.5895, -5.0477, -3.5741, -0.7351, -2.2617, -4.244, -4.0218, -3.0201, -2.4941, -0.83121, -2.5665, -4.4018, -3.7573, -2.4725, -1.9725, -2.0149, -0.82053, -1.7886, -2.9138, -1.8343, -0.8734, -0.7034600000000001, -6.7387, -2.7723, -1.6641, -2.4349, -3.793, -1.9551, -0.6907800000000001, 0.025013, -4.3967, -2.456, -2.62, -2.9662, -0.7149399999999999, 0.6005, 0.61652, -5.4414, -3.5798, -2.7769, -1.8356, 0.30080999999999997, 1.3403, 0.26877, -6.5235, -4.0679, -2.5639999999999996, -1.3414, 0.23874, 0.6212, -0.7784800000000001, -4.1244, -7.0421, -4.9462, -3.5359, -2.0662, -0.88728, -1.0941, -2.4458, -3.551, -2.2811, -3.6053, -5.0676, -3.9204, -1.1306, -2.4561, -4.4775, -4.1958, -3.38, -2.4365, -0.77688, -2.7083, -4.5531, -3.8894, -2.5084, -2.1652, -1.8974, -0.62043, -1.8387, -3.0, -1.9116, -1.005, -0.87834, -6.651, -2.5463, -1.4377, -2.4554, -3.9411, -2.1241, -0.74324, -0.071503, -4.2333, -2.3675, -2.5526, -3.0986, -0.8980899999999999, 0.5623199999999999, 0.5393600000000001, -5.3012, -3.3553, -2.7908, -1.9983, 0.15423, 1.208, 0.2952, -6.4247, -3.9933, -2.659, -1.4094, 0.11032, 0.52374, -0.76794, -3.9698, -7.0364, -4.9447, -3.5933, -2.1674, -0.9607, -1.0802, -2.3277, -3.7244, -2.5724, -3.9297, -5.2943, -3.8953, -1.2244, -2.6406, -4.6338, -4.2887, -3.3458, -1.1188, 0.5593899999999999, -1.5078, -3.5060000000000002, -2.9498, -1.6029, -1.2667, -0.49281, 0.66365, -0.72068, -1.9966, -0.97325, -0.025314, 0.062525, -5.525, -1.2943, -0.24036999999999997, -1.3968, -2.9672, -1.1005, 0.22432, 0.90407, -2.8619, -1.0833, -1.5681, -2.0545, 0.2346, 1.581, 1.5514, -4.1479, -2.2625, -1.7479, -0.9592299999999999, 1.3451, 2.2279, 1.2572, -5.3857, -2.9786, -1.5851, -0.21888000000000002, 1.3183, 1.4896, 0.11592000000000001, -3.3924, -6.1632, -4.0786, -2.5899, -1.0116, 0.066129, -0.24745, -1.5732, -2.1668, -1.1667, -2.8391, -4.5046, -2.41, 0.40614, -1.3887, -3.7503, -3.5637, -2.5419], \"y\": [3.3191, -0.14279, -7.1535, -12.8047, -8.213, -0.30626, 2.7397, 3.1991, 0.12415, -6.6610000000000005, -9.1359, -6.2534, -0.091058, 2.8928, 6.5679, 2.7521, -1.8768, -9.0366, -12.9309, -6.8824, -0.38695999999999997, 3.3605, 4.8587, -0.30005, -7.1059, -10.4519, -4.3496, 1.1857, 3.8095, 7.3708, 0.45523, -5.4484, -6.3444, 0.47798999999999997, 4.2503, 4.84, 9.1048, 2.7935, -1.5147, -2.0113, 1.9327, 3.3377, 3.0729, 3.3253, 8.6806, 3.3419, -0.062088, -0.010356, 2.4748, 1.9348, 1.0512, 1.5685, -1.4733, -6.841, -5.9037, 3.8654, 1.4733, -5.0966, -13.4979, -8.3123, -0.53181, 3.2301, -0.14693, -7.0314, -12.4736, -8.0971, -0.10554000000000001, 3.0915, 3.2922, -0.020702, -6.6383, -9.0407, -6.0237, 0.039307, 3.0025, 6.6651, 3.1660000000000004, -2.0776, -9.3263, -12.8461, -6.7893, -0.24831999999999999, 3.5612, 4.898, -0.16762, -7.3046, -10.0712, -4.002, 1.1071, 3.9544, 7.0542, 0.42212, -5.6574, -6.5865, 0.57318, 4.2855, 5.0097, 9.1752, 2.6901, -1.4402, -1.7175, 1.9182, 3.5012, 3.2322, 3.4619, 8.7696, 3.4288, 0.10139, 0.3766, 2.5349, 1.9824, 1.4671, 1.9679, -0.84841, -6.2285, -5.3118, 4.0372, 1.4174, -4.8359, -13.2889, -7.7267, -0.32696, 2.9984, -1.0512, -8.4985, -12.7406, -6.8452, 0.25244, 3.2881, 2.8659, -0.69529, -7.4473, -9.0883, -5.1277, 0.62905, 3.1784, 6.6258, 2.1438, -2.8018, -10.1498, -12.0205, -5.7381, 0.65388, 3.6357, 4.0537, -1.3781, -8.1157, -9.2828, -3.4619, 1.8519999999999999, 4.0309, 6.2699, -0.7739199999999999, -6.332000000000001, -5.167000000000001, 0.89599, 4.5565, 4.7738, 8.1819, 1.7713, -2.2535, -0.94981, 2.2121, 3.6833, 3.2405, 3.9958, 7.9295, 2.6652, -0.23798000000000002, 0.89392, 2.4066, 1.8189, 1.0926, 1.254, -2.4087, -7.6563, -5.5167, 3.8385, 0.70148, -6.841, -13.7731, -7.1121, -0.05587999999999999, 3.4329, 0.13863, -6.8121, -12.1736, -8.6289, -0.48422, 2.7852, 3.2715, 0.39315, -6.3879, -9.1069, -6.3113, -0.23590999999999998, 3.0439, 6.4479, 3.3129, -1.2519, -8.8131, -12.9889, -7.108, -0.68287, 3.5674, 5.1401, 0.20692, -6.4479, -9.9532, -4.0061, 1.0595, 3.8923, 7.5032, 0.60836, -5.227, -6.541, 0.29175999999999996, 4.2068, 5.2022, 9.2952, 2.8763, -1.4092, -1.7672, 1.9161, 3.4826, 3.2136, 3.2239, 8.8172, 3.4515, 0.31245, 0.14277, 2.3383, 1.6533, 1.1815, 2.0838, -0.9891200000000001, -6.6362, -6.1789, 3.8964, 1.525, -4.7780000000000005, -13.0551, -8.5089, -0.60424, 2.7956, -1.1816, -8.6848, -12.4922, -6.6258, 0.31038000000000004, 3.2964, 2.8680000000000003, -1.0885, -7.9026, -9.3676, -5.1008, 0.54214, 3.3812, 6.6755, 2.1376, -3.2260000000000004, -10.7665, -12.2377, -5.8395, 0.39108000000000004, 3.735, 3.9213, -1.6906, -8.6475, -9.6035, -3.3584, 1.9596, 4.1199, 5.8333, -0.78427, -6.7686, -5.5602, 1.1029, 4.78, 4.8773, 8.0433, 1.6327, -2.2183, -1.0243, 2.2638, 3.6957, 3.1329, 4.0289, 7.6584, 2.5162, -0.24418, 0.80494, 2.6528, 1.7237, 1.1815, 1.2271, -2.2121, -7.2135, -4.9932, 3.6668, 0.60422, -6.718999999999999, -13.6779, -6.5389, 0.18002, 2.9611, -0.99326, -8.4385, -13.0365, -6.959, 0.18416, 3.3088, 2.9094, -0.82358, -7.9233, -9.5828, -5.553999999999999, 0.22346999999999997, 3.2674, 6.6486, 2.3134, -3.3771, -10.5244, -12.812999999999999, -6.301, 0.25865, 3.764, 4.1986, -1.5706, -8.7903, -9.8808, -3.7723, 1.7982, 3.9130000000000003, 6.0692, -1.0553, -6.8141, -5.7154, 0.66837, 4.5503, 4.8525, 8.1261, 1.7775, -2.09, -1.1505, 2.0982, 3.6067, 3.0977, 3.8157, 8.0102, 2.7749, -0.097265, 0.79459, 2.4769, 1.7734, 0.99945, 1.5706, -1.8624, -7.5756, -5.6636, 3.8468, 0.73252, -6.4624, -13.6593, -7.2404, -0.10554000000000001, 3.3791, -0.15521, -7.257000000000001, -12.8006, -8.215, -0.49456999999999995, 2.7956, 3.3584, 0.32487, -6.6072, -9.349, -6.4789, -0.097265, 2.8452, 6.8017, 2.7645, -1.9162, -9.3304, -12.9723, -7.1163, -0.64562, 3.3108, 4.7283, -0.68494, -7.4494, -10.5099, -4.449, 0.9022, 3.8426, 7.2589999999999995, -0.026910000000000003, -5.7899, -6.572, 0.17174, 3.9544, 4.8504, 9.2848, 2.4273, -2.1252, -2.2121, 1.7299, 3.4226, 3.1929, 3.5219, 8.9931, 3.1205, -0.14279, -0.080711, 2.4811, 2.0279, 1.2767, 1.8023, -1.254, -6.572, -5.8023, 3.944, 1.7361, -4.7428, -13.0634, -8.304, -0.6725300000000001, 3.5447, 0.039307, -6.8824, -12.9371, -8.2916, -0.40145, 2.8825, 3.6874, 0.65181, -6.3486, -9.4711, -6.5907, -0.033118, 2.957, 6.9879, 3.2777, -1.3678, -9.2497, -12.7095, -6.9756, -0.5007699999999999, 3.3998, 4.9601, -0.24418, -6.8555, -10.3257, -4.4448, 0.99945, 3.8944, 7.2363, 0.45937, -5.6967, -6.7562, 0.17381, 4.1323, 4.987, 9.6014, 2.4955, -1.7051, -1.9162, 2.0879, 3.6771, 3.4019, 3.7909, 9.2, 3.5716, 0.30417, 0.16967000000000002, 2.8080000000000003, 2.3072, 1.6285, 1.8955, -0.85669, -5.974, -5.1877, 4.0723, 1.8458, -4.5566, -13.0303, -8.1819, -0.7077, 3.6026, 0.13036, -6.8266, -12.5854, -7.8322, -0.22763000000000003, 3.0211, 3.5074, 0.5587, -6.301, -9.1566, -6.1603, 0.08483099999999999, 3.2569999999999997, 6.7934, 3.1101, -1.432, -9.0407, -12.8792, -6.8969, -0.32902, 3.7412, 4.9166, -0.43663, -7.3625, -10.4602, -4.4862, 1.0015, 3.8944, 7.3915, 0.35591, -5.7133, -6.6072, 0.11794, 4.0744, 4.8856, 9.5311, 2.6218, -1.6058, -2.1252, 1.9741, 3.6439999999999997, 3.4598, 3.6812, 9.2931, 3.3005, 0.22968000000000002, 0.12415, 2.6963, 2.1996, 1.4381, 1.9037, -0.9560200000000001, -6.0816, -5.1463, 4.0392, 1.7485, -4.4159, -12.7509, -7.8633, -0.5049100000000001, 3.3357, -0.3104, -7.3191, -12.5667, -8.273, -0.38903000000000004, 2.8183, 3.0605, -0.045533, -6.7583, -9.5001, -6.4168, -0.17382999999999998, 2.9301, 6.3258, 2.6735, -1.7837, -9.6698, -13.2869, -7.2508, -0.52147, 3.3708, 4.5193, -0.31246999999999997, -7.2446, -10.8679, -4.5152, 0.8690899999999999, 3.8013, 7.1225, -0.099335, -5.8229999999999995, -6.7128, 0.23589000000000002, 4.0951, 4.8731, 9.1214, 2.3445, -2.1562, -2.2038, 1.9017, 3.4288, 3.2219, 3.3564, 8.7096, 2.9239, -0.3911, -0.19038, 2.4914, 1.9368, 1.0636, 1.5933, -1.4237, -6.63, -5.8126, 3.7433, 1.3492, -4.8773, -13.4586, -8.3827, -0.65804], \"z\": [-1.3927, -0.031994, 7.8929, 15.6824, 10.083, 1.3347, -2.5323, -1.8219, -0.28733000000000003, 5.8245, 9.3444, 5.3524, -0.31818, -3.6461, 0.67661, -0.7226100000000001, 2.4023, 9.0162, 13.1779, 5.4681, -0.47841000000000006, -4.5064, -0.76888, 1.4238, 6.6188, 9.1139, 1.9901, -2.6411, -4.9408, -0.31218, 2.4391, 5.8039, 4.6575, -1.9804, -4.9023, -5.2613, -0.38758000000000004, 0.32274, 1.219, -0.19565, -3.2888, -4.0557, -3.3857, -0.51954, 0.009134399999999999, 0.77258, 0.68604, -0.9933700000000001, -2.9452, -2.3729, -0.46298, -0.084261, 2.8718, 10.7402, 10.9818, -0.3336, -1.4192, 6.6779, 17.6772, 12.4547, 2.3877, -1.3575, 0.044265, 7.4936, 14.9704, 10.1772, 1.2798, -2.3969, -1.9702, -0.06626699999999999, 5.7491, 9.0694, 5.2419, -0.24191999999999997, -3.6067, 0.52581, -1.0002, 2.8093, 9.3727, 12.7957, 5.2761, -0.45613000000000004, -4.407, -0.92311, 1.321, 6.8389999999999995, 8.4156, 1.8471, -2.4706, -4.772, -0.17252, 2.6225, 6.103, 4.8486, -1.9402, -4.8457, -5.0394, -0.27448, 0.16165, 1.1273, -0.52553, -3.2828, -3.9795, -3.282, -0.47841000000000006, 0.23190999999999998, 0.56265, 0.55323, -1.2898, -3.0464, -2.3163, -0.7268899999999999, -0.42357, 2.5377, 10.2389, 10.3846, -0.45356, -1.4252, 6.6479, 17.3087, 11.9655, 2.1324, -1.1664, 1.4024, 9.1122, 15.5573, 8.9999, 0.7623, -2.2701, -1.6488, 0.8771100000000001, 6.492000000000001, 9.2416, 4.5624, -0.6412100000000001, -3.5767, -0.19908, -0.47241000000000005, 3.7115, 9.6152, 11.9149, 4.3919, -1.1793, -4.4044, -0.45698999999999995, 2.3055, 7.0858, 7.718999999999999, 1.7048, -3.0121, -4.6435, 0.15822, 3.3602, 6.0987, 3.4399, -1.9702, -4.9888, -4.8431, 0.27818000000000004, 0.6894600000000001, 1.518, -1.0731, -3.1183, -4.0129, -3.0669, -0.35845, 0.61663, 0.78886, 0.56008, -1.6283, -2.8416, -2.2169, -0.35502, 0.27218000000000003, 4.5735, 11.8318, 10.939, -0.7954399999999999, -0.5118199999999999, 8.9494, 17.9274, 11.3897, 1.949, -1.2144, -0.19651, 7.1398, 14.3689, 10.4403, 1.704, -2.1835, -1.7671, -0.32846, 5.5255, 8.9991, 5.355, 0.020273, -3.4816, 1.0836, -0.88369, 2.2635, 8.7086, 13.0545, 5.6454, 0.096532, -4.3882, -0.65063, 1.2473, 6.0344, 8.4756, 1.7956, -2.3437, -4.8277, -0.13396, 2.7039, 5.63, 4.8151, -1.6506, -4.5398, -5.2159, -0.43642, 0.1548, 1.1582, -0.34474, -3.1098, -3.6307, -3.3085, -0.69347, -0.061983, 0.66719, 0.45041000000000003, -1.1622, -2.9812, -2.1964, -0.55552, -0.46813, 2.3586, 10.5405, 11.388, -0.1888, -1.4089, 6.2109, 16.9583, 12.363, 2.6045, -1.2341, 1.3818, 9.155, 14.8881, 8.6521, 0.77344, -2.2563, -1.8108, 1.0039, 6.7807, 9.3333, 4.5367, -0.52725, -3.6684, -0.24278000000000002, -0.47584, 3.8058, 10.2184, 11.9552, 4.5641, -0.9822299999999999, -4.4379, -0.49212, 2.5180000000000002, 7.6796, 7.7764, 1.3749, -3.0584, -4.569, 0.54723, 3.0141, 6.6753, 4.0483, -2.3, -5.1362, -4.9194, 0.044265, 0.83598, 1.6054, -0.94024, -3.1046, -4.1594, -3.0112, -0.35845, 0.5558, 0.83341, 0.7014600000000001, -1.6411, -2.7756, -2.1501, -0.5332399999999999, 0.18564, 4.2591, 11.6433, 10.4052, -0.6969, -0.38587, 9.0162, 17.5795, 10.5234, 1.7956, -1.2864, 1.0947, 8.8483, 15.6773, 8.8054, 0.9053899999999999, -2.2829, -1.7859, 0.7854300000000001, 6.7156, 9.4044, 4.7749, -0.47326999999999997, -3.5562, -0.049987000000000004, -0.44498999999999994, 4.1211, 9.9176, 12.6689, 4.7843, -0.84085, -4.4738, -0.5898, 2.4357, 7.9735, 8.1088, 1.6131, -2.9581, -4.5544, 0.57208, 3.8949, 6.7019, 3.8298, -2.0267, -4.976, -4.7986, 0.13080999999999998, 0.73745, 1.584, -0.9513799999999999, -3.1954, -4.0557, -2.9607, -0.31304, 0.4247, 0.68261, 0.61663, -1.6968, -2.9512, -2.2469, -0.28562, 0.045979, 4.026, 11.8678, 10.969000000000001, -0.63435, -0.67891, 8.4773, 17.6052, 11.4419, 1.9336, -1.2256, 0.060545, 7.9597, 15.6199, 10.3315, 1.3330000000000002, -2.378, -1.7302, -0.33616999999999997, 5.8022, 9.7942, 5.7568, -0.21793, -3.6436, 0.85483, -0.62578, 2.5154, 9.232999999999999, 12.9817, 5.7902, -0.42013999999999996, -4.5081, -0.49126000000000003, 1.9833, 6.8964, 9.0239, 2.1067, -2.3506, -4.9314, 0.070827, 2.9618, 6.0122, 4.7689, -1.7859, -4.7412, -5.2133, 0.014275, 0.6809, 1.7151, -0.051701, -3.1963, -3.9692, -3.4054, -0.38415, 0.2182, 1.075, 0.97565, -0.75774, -2.8673, -2.3652, -0.6420600000000001, 0.1805, 2.9986, 10.5251, 11.244000000000002, -0.07912000000000001, -1.4938, 6.3489, 17.1116, 12.555, 2.7056, -1.3721, 0.053689999999999995, 7.5416, 15.6559, 10.3032, 1.4855, -2.3086, -1.9385, -0.48868999999999996, 5.6154, 9.7668, 5.6429, -0.20165, -3.5947, 0.67833, -0.9351, 1.9969999999999999, 8.9922, 12.7957, 5.5383, -0.35417, -4.4327, -0.6489199999999999, 1.4041, 6.2169, 8.783999999999999, 2.2241, -2.2126, -4.7275, 0.10937999999999999, 2.3457, 5.9179, 5.0585, -1.7542, -4.7018, -5.1508, -0.25392, 0.79571, 1.5026, -0.15538, -3.3522, -4.0771, -3.4859, -0.6532, 0.25933, 0.82742, 0.6569, -1.0054, -3.1432, -2.5237, -0.88541, 0.1865, 2.7185, 10.0916, 10.4266, -0.23678000000000002, -1.3575, 6.4534, 17.0834, 12.1291, 2.5325, -1.4166, -0.031137, 7.5339, 15.4417, 9.8208, 1.4880000000000002, -2.4132, -1.7842, -0.38587, 5.6506, 9.5766, 5.606, -0.2462, -3.6778, 0.68604, -0.8322799999999999, 2.1144, 8.862, 13.0597, 5.5992, -0.42785, -4.5415, -0.49212, 1.692, 6.9255, 8.9717, 2.2009, -2.2726, -4.8166, 0.029699, 2.6473, 5.952999999999999, 4.8254, -1.6823, -4.7635, -5.149, 0.022844, 0.62863, 1.3647, -0.10397, -3.3668, -4.0746, -3.4405, -0.6000800000000001, 0.16594, 1.063, 0.7126, -1.0465, -3.1226, -2.5862, -0.82114, -0.035421, 2.7073, 10.0958, 10.3332, -0.3019, -1.4801, 5.983, 16.7166, 11.8387, 2.6328, -1.3455, 0.18307, 7.8981, 15.1606, 10.2646, 1.62, -2.426, -1.8356, -0.18794, 5.8408, 9.682, 5.6026, -0.11339, -3.5467, 0.8976799999999999, -0.84085, 2.135, 9.4652, 13.4727, 6.0139, -0.40386, -4.4987, -0.58123, 1.2815, 6.5537, 9.4926, 2.1195, -2.3138, -4.9143, -0.08340399999999999, 2.8127, 5.8699, 4.9857, -1.8785, -4.8037, -5.2861, -0.41928999999999994, 0.52667, 1.7082, -0.0954, -3.3111, -4.0309, -3.4302, -0.72004, -0.21620999999999999, 0.87026, 0.93452, -0.90597, -2.9401, -2.4697, -0.71232, 0.045122, 2.9241, 10.4849, 10.8867, -0.40215, -1.4501, 6.4774, 17.5932, 12.392999999999999, 2.6842]}],                        {\"margin\": {\"b\": 5, \"l\": 5, \"r\": 5, \"t\": 5}, \"scene\": {\"xaxis\": {\"title\": {\"text\": \"Attribute A\"}}, \"yaxis\": {\"title\": {\"text\": \"Attribute B\"}}, \"zaxis\": {\"title\": {\"text\": \"Attribute C\"}}}, \"template\": {\"data\": {\"bar\": [{\"error_x\": {\"color\": \"#2a3f5f\"}, \"error_y\": {\"color\": \"#2a3f5f\"}, \"marker\": {\"line\": {\"color\": \"#E5ECF6\", \"width\": 0.5}}, \"type\": \"bar\"}], \"barpolar\": [{\"marker\": {\"line\": {\"color\": \"#E5ECF6\", \"width\": 0.5}}, \"type\": \"barpolar\"}], \"carpet\": [{\"aaxis\": {\"endlinecolor\": \"#2a3f5f\", \"gridcolor\": \"white\", \"linecolor\": \"white\", \"minorgridcolor\": \"white\", \"startlinecolor\": \"#2a3f5f\"}, \"baxis\": {\"endlinecolor\": \"#2a3f5f\", \"gridcolor\": \"white\", \"linecolor\": \"white\", \"minorgridcolor\": \"white\", \"startlinecolor\": \"#2a3f5f\"}, \"type\": \"carpet\"}], \"choropleth\": [{\"colorbar\": {\"outlinewidth\": 0, \"ticks\": \"\"}, \"type\": \"choropleth\"}], \"contour\": [{\"colorbar\": {\"outlinewidth\": 0, \"ticks\": \"\"}, \"colorscale\": [[0.0, \"#0d0887\"], [0.1111111111111111, \"#46039f\"], [0.2222222222222222, \"#7201a8\"], [0.3333333333333333, \"#9c179e\"], [0.4444444444444444, \"#bd3786\"], [0.5555555555555556, \"#d8576b\"], [0.6666666666666666, \"#ed7953\"], [0.7777777777777778, \"#fb9f3a\"], [0.8888888888888888, \"#fdca26\"], [1.0, \"#f0f921\"]], \"type\": \"contour\"}], \"contourcarpet\": [{\"colorbar\": {\"outlinewidth\": 0, \"ticks\": \"\"}, \"type\": \"contourcarpet\"}], \"heatmap\": [{\"colorbar\": {\"outlinewidth\": 0, \"ticks\": \"\"}, \"colorscale\": [[0.0, \"#0d0887\"], [0.1111111111111111, \"#46039f\"], [0.2222222222222222, \"#7201a8\"], [0.3333333333333333, \"#9c179e\"], [0.4444444444444444, \"#bd3786\"], [0.5555555555555556, \"#d8576b\"], [0.6666666666666666, \"#ed7953\"], [0.7777777777777778, \"#fb9f3a\"], [0.8888888888888888, \"#fdca26\"], [1.0, \"#f0f921\"]], \"type\": \"heatmap\"}], \"heatmapgl\": [{\"colorbar\": {\"outlinewidth\": 0, \"ticks\": \"\"}, \"colorscale\": [[0.0, \"#0d0887\"], [0.1111111111111111, \"#46039f\"], [0.2222222222222222, \"#7201a8\"], [0.3333333333333333, \"#9c179e\"], [0.4444444444444444, \"#bd3786\"], [0.5555555555555556, \"#d8576b\"], [0.6666666666666666, \"#ed7953\"], [0.7777777777777778, \"#fb9f3a\"], [0.8888888888888888, \"#fdca26\"], [1.0, \"#f0f921\"]], \"type\": \"heatmapgl\"}], \"histogram\": [{\"marker\": {\"colorbar\": {\"outlinewidth\": 0, \"ticks\": \"\"}}, \"type\": \"histogram\"}], \"histogram2d\": [{\"colorbar\": {\"outlinewidth\": 0, \"ticks\": \"\"}, \"colorscale\": [[0.0, \"#0d0887\"], [0.1111111111111111, \"#46039f\"], [0.2222222222222222, \"#7201a8\"], [0.3333333333333333, \"#9c179e\"], [0.4444444444444444, \"#bd3786\"], [0.5555555555555556, \"#d8576b\"], [0.6666666666666666, \"#ed7953\"], [0.7777777777777778, \"#fb9f3a\"], [0.8888888888888888, \"#fdca26\"], [1.0, \"#f0f921\"]], \"type\": \"histogram2d\"}], \"histogram2dcontour\": [{\"colorbar\": {\"outlinewidth\": 0, \"ticks\": \"\"}, \"colorscale\": [[0.0, \"#0d0887\"], [0.1111111111111111, \"#46039f\"], [0.2222222222222222, \"#7201a8\"], [0.3333333333333333, \"#9c179e\"], [0.4444444444444444, \"#bd3786\"], [0.5555555555555556, \"#d8576b\"], [0.6666666666666666, \"#ed7953\"], [0.7777777777777778, \"#fb9f3a\"], [0.8888888888888888, \"#fdca26\"], [1.0, \"#f0f921\"]], \"type\": \"histogram2dcontour\"}], \"mesh3d\": [{\"colorbar\": {\"outlinewidth\": 0, \"ticks\": \"\"}, \"type\": \"mesh3d\"}], \"parcoords\": [{\"line\": {\"colorbar\": {\"outlinewidth\": 0, \"ticks\": \"\"}}, \"type\": \"parcoords\"}], \"pie\": [{\"automargin\": true, \"type\": \"pie\"}], \"scatter\": [{\"marker\": {\"colorbar\": {\"outlinewidth\": 0, \"ticks\": \"\"}}, \"type\": \"scatter\"}], \"scatter3d\": [{\"line\": {\"colorbar\": {\"outlinewidth\": 0, \"ticks\": \"\"}}, \"marker\": {\"colorbar\": {\"outlinewidth\": 0, \"ticks\": \"\"}}, \"type\": \"scatter3d\"}], \"scattercarpet\": [{\"marker\": {\"colorbar\": {\"outlinewidth\": 0, \"ticks\": \"\"}}, \"type\": \"scattercarpet\"}], \"scattergeo\": [{\"marker\": {\"colorbar\": {\"outlinewidth\": 0, \"ticks\": \"\"}}, \"type\": \"scattergeo\"}], \"scattergl\": [{\"marker\": {\"colorbar\": {\"outlinewidth\": 0, \"ticks\": \"\"}}, \"type\": \"scattergl\"}], \"scattermapbox\": [{\"marker\": {\"colorbar\": {\"outlinewidth\": 0, \"ticks\": \"\"}}, \"type\": \"scattermapbox\"}], \"scatterpolar\": [{\"marker\": {\"colorbar\": {\"outlinewidth\": 0, \"ticks\": \"\"}}, \"type\": \"scatterpolar\"}], \"scatterpolargl\": [{\"marker\": {\"colorbar\": {\"outlinewidth\": 0, \"ticks\": \"\"}}, \"type\": \"scatterpolargl\"}], \"scatterternary\": [{\"marker\": {\"colorbar\": {\"outlinewidth\": 0, \"ticks\": \"\"}}, \"type\": \"scatterternary\"}], \"surface\": [{\"colorbar\": {\"outlinewidth\": 0, \"ticks\": \"\"}, \"colorscale\": [[0.0, \"#0d0887\"], [0.1111111111111111, \"#46039f\"], [0.2222222222222222, \"#7201a8\"], [0.3333333333333333, \"#9c179e\"], [0.4444444444444444, \"#bd3786\"], [0.5555555555555556, \"#d8576b\"], [0.6666666666666666, \"#ed7953\"], [0.7777777777777778, \"#fb9f3a\"], [0.8888888888888888, \"#fdca26\"], [1.0, \"#f0f921\"]], \"type\": \"surface\"}], \"table\": [{\"cells\": {\"fill\": {\"color\": \"#EBF0F8\"}, \"line\": {\"color\": \"white\"}}, \"header\": {\"fill\": {\"color\": \"#C8D4E3\"}, \"line\": {\"color\": \"white\"}}, \"type\": \"table\"}]}, \"layout\": {\"annotationdefaults\": {\"arrowcolor\": \"#2a3f5f\", \"arrowhead\": 0, \"arrowwidth\": 1}, \"coloraxis\": {\"colorbar\": {\"outlinewidth\": 0, \"ticks\": \"\"}}, \"colorscale\": {\"diverging\": [[0, \"#8e0152\"], [0.1, \"#c51b7d\"], [0.2, \"#de77ae\"], [0.3, \"#f1b6da\"], [0.4, \"#fde0ef\"], [0.5, \"#f7f7f7\"], [0.6, \"#e6f5d0\"], [0.7, \"#b8e186\"], [0.8, \"#7fbc41\"], [0.9, \"#4d9221\"], [1, \"#276419\"]], \"sequential\": [[0.0, \"#0d0887\"], [0.1111111111111111, \"#46039f\"], [0.2222222222222222, \"#7201a8\"], [0.3333333333333333, \"#9c179e\"], [0.4444444444444444, \"#bd3786\"], [0.5555555555555556, \"#d8576b\"], [0.6666666666666666, \"#ed7953\"], [0.7777777777777778, \"#fb9f3a\"], [0.8888888888888888, \"#fdca26\"], [1.0, \"#f0f921\"]], \"sequentialminus\": [[0.0, \"#0d0887\"], [0.1111111111111111, \"#46039f\"], [0.2222222222222222, \"#7201a8\"], [0.3333333333333333, \"#9c179e\"], [0.4444444444444444, \"#bd3786\"], [0.5555555555555556, \"#d8576b\"], [0.6666666666666666, \"#ed7953\"], [0.7777777777777778, \"#fb9f3a\"], [0.8888888888888888, \"#fdca26\"], [1.0, \"#f0f921\"]]}, \"colorway\": [\"#636efa\", \"#EF553B\", \"#00cc96\", \"#ab63fa\", \"#FFA15A\", \"#19d3f3\", \"#FF6692\", \"#B6E880\", \"#FF97FF\", \"#FECB52\"], \"font\": {\"color\": \"#2a3f5f\"}, \"geo\": {\"bgcolor\": \"white\", \"lakecolor\": \"white\", \"landcolor\": \"#E5ECF6\", \"showlakes\": true, \"showland\": true, \"subunitcolor\": \"white\"}, \"hoverlabel\": {\"align\": \"left\"}, \"hovermode\": \"closest\", \"mapbox\": {\"style\": \"light\"}, \"paper_bgcolor\": \"white\", \"plot_bgcolor\": \"#E5ECF6\", \"polar\": {\"angularaxis\": {\"gridcolor\": \"white\", \"linecolor\": \"white\", \"ticks\": \"\"}, \"bgcolor\": \"#E5ECF6\", \"radialaxis\": {\"gridcolor\": \"white\", \"linecolor\": \"white\", \"ticks\": \"\"}}, \"scene\": {\"xaxis\": {\"backgroundcolor\": \"#E5ECF6\", \"gridcolor\": \"white\", \"gridwidth\": 2, \"linecolor\": \"white\", \"showbackground\": true, \"ticks\": \"\", \"zerolinecolor\": \"white\"}, \"yaxis\": {\"backgroundcolor\": \"#E5ECF6\", \"gridcolor\": \"white\", \"gridwidth\": 2, \"linecolor\": \"white\", \"showbackground\": true, \"ticks\": \"\", \"zerolinecolor\": \"white\"}, \"zaxis\": {\"backgroundcolor\": \"#E5ECF6\", \"gridcolor\": \"white\", \"gridwidth\": 2, \"linecolor\": \"white\", \"showbackground\": true, \"ticks\": \"\", \"zerolinecolor\": \"white\"}}, \"shapedefaults\": {\"line\": {\"color\": \"#2a3f5f\"}}, \"ternary\": {\"aaxis\": {\"gridcolor\": \"white\", \"linecolor\": \"white\", \"ticks\": \"\"}, \"baxis\": {\"gridcolor\": \"white\", \"linecolor\": \"white\", \"ticks\": \"\"}, \"bgcolor\": \"#E5ECF6\", \"caxis\": {\"gridcolor\": \"white\", \"linecolor\": \"white\", \"ticks\": \"\"}}, \"title\": {\"x\": 0.05}, \"xaxis\": {\"automargin\": true, \"gridcolor\": \"white\", \"linecolor\": \"white\", \"ticks\": \"\", \"title\": {\"standoff\": 15}, \"zerolinecolor\": \"white\", \"zerolinewidth\": 2}, \"yaxis\": {\"automargin\": true, \"gridcolor\": \"white\", \"linecolor\": \"white\", \"ticks\": \"\", \"title\": {\"standoff\": 15}, \"zerolinecolor\": \"white\", \"zerolinewidth\": 2}}}, \"width\": 700, \"xaxis\": {\"dtick\": 1}, \"yaxis\": {\"dtick\": 1}},                        {\"responsive\": true}                    ).then(function(){\n",
       "                            \n",
       "var gd = document.getElementById('3a6e69e3-9274-479a-be4b-4066005835b2');\n",
       "var x = new MutationObserver(function (mutations, observer) {{\n",
       "        var display = window.getComputedStyle(gd).display;\n",
       "        if (!display || display === 'none') {{\n",
       "            console.log([gd, 'removed!']);\n",
       "            Plotly.purge(gd);\n",
       "            observer.disconnect();\n",
       "        }}\n",
       "}});\n",
       "\n",
       "// Listen for the removal of the full notebook cells\n",
       "var notebookContainer = gd.closest('#notebook-container');\n",
       "if (notebookContainer) {{\n",
       "    x.observe(notebookContainer, {childList: true});\n",
       "}}\n",
       "\n",
       "// Listen for the clearing of the current output cell\n",
       "var outputEl = gd.closest('.output');\n",
       "if (outputEl) {{\n",
       "    x.observe(outputEl, {childList: true});\n",
       "}}\n",
       "\n",
       "                        })                };                });            </script>        </div>"
      ]
     },
     "metadata": {},
     "output_type": "display_data"
    }
   ],
   "source": [
    "trace0=go.Scatter3d(\n",
    "    x = df[df['forgery']==0]['attribute_A'],\n",
    "    y = df[df['forgery']==0]['attribute_B'],\n",
    "    z = df[df['forgery']==0]['attribute_C'],\n",
    "    mode='markers',\n",
    "    name='Authentic',\n",
    "    marker=dict(size=4, opacity=0.4, color='blue'),\n",
    ")\n",
    "trace1=go.Scatter3d(\n",
    "    x = df[df['forgery']==1]['attribute_A'],\n",
    "    y = df[df['forgery']==1]['attribute_B'],\n",
    "    z = df[df['forgery']==1]['attribute_C'],\n",
    "    mode='markers',\n",
    "    name='Forgery',\n",
    "    marker=dict(size=4, opacity=0.4, color='red'),\n",
    ")\n",
    "fig=go.Figure([trace0, trace1])\n",
    "fig.update_layout(scene = dict(\n",
    "                    xaxis_title='Attribute A',\n",
    "                    yaxis_title='Attribute B',\n",
    "                    zaxis_title='Attribute C'),\n",
    "                    width=700,\n",
    "                    margin=dict(r=5, b=5, l=5, t=5),\n",
    "                 )\n",
    "\n",
    "fig.show()"
   ]
  },
  {
   "cell_type": "code",
   "execution_count": 123,
   "metadata": {},
   "outputs": [],
   "source": [
    "# write some simple business rules for predicting forgeries\n",
    "def biz_rules(banknote):\n",
    "    if (banknote['attribute_A']<0):\n",
    "        if (banknote['attribute_B']>-7):\n",
    "            return 1\n",
    "        else:\n",
    "            return 0\n",
    "    if (banknote['attribute_A']>0):\n",
    "        if (banknote['attribute_C']<-3):\n",
    "            return 1\n",
    "        else:\n",
    "            return 0"
   ]
  },
  {
   "cell_type": "code",
   "execution_count": 125,
   "metadata": {},
   "outputs": [
    {
     "data": {
      "text/html": [
       "<div>\n",
       "<style scoped>\n",
       "    .dataframe tbody tr th:only-of-type {\n",
       "        vertical-align: middle;\n",
       "    }\n",
       "\n",
       "    .dataframe tbody tr th {\n",
       "        vertical-align: top;\n",
       "    }\n",
       "\n",
       "    .dataframe thead th {\n",
       "        text-align: right;\n",
       "    }\n",
       "</style>\n",
       "<table border=\"1\" class=\"dataframe\">\n",
       "  <thead>\n",
       "    <tr style=\"text-align: right;\">\n",
       "      <th></th>\n",
       "      <th>attribute_A</th>\n",
       "      <th>attribute_B</th>\n",
       "      <th>attribute_C</th>\n",
       "      <th>attribute_D</th>\n",
       "      <th>forgery</th>\n",
       "      <th>biz_rule_pred</th>\n",
       "    </tr>\n",
       "  </thead>\n",
       "  <tbody>\n",
       "    <tr>\n",
       "      <th>0</th>\n",
       "      <td>3.62160</td>\n",
       "      <td>8.6661</td>\n",
       "      <td>-2.8073</td>\n",
       "      <td>-0.44699</td>\n",
       "      <td>0</td>\n",
       "      <td>0</td>\n",
       "    </tr>\n",
       "    <tr>\n",
       "      <th>1</th>\n",
       "      <td>4.54590</td>\n",
       "      <td>8.1674</td>\n",
       "      <td>-2.4586</td>\n",
       "      <td>-1.46210</td>\n",
       "      <td>0</td>\n",
       "      <td>0</td>\n",
       "    </tr>\n",
       "    <tr>\n",
       "      <th>2</th>\n",
       "      <td>3.86600</td>\n",
       "      <td>-2.6383</td>\n",
       "      <td>1.9242</td>\n",
       "      <td>0.10645</td>\n",
       "      <td>0</td>\n",
       "      <td>0</td>\n",
       "    </tr>\n",
       "    <tr>\n",
       "      <th>3</th>\n",
       "      <td>3.45660</td>\n",
       "      <td>9.5228</td>\n",
       "      <td>-4.0112</td>\n",
       "      <td>-3.59440</td>\n",
       "      <td>0</td>\n",
       "      <td>1</td>\n",
       "    </tr>\n",
       "    <tr>\n",
       "      <th>4</th>\n",
       "      <td>0.32924</td>\n",
       "      <td>-4.4552</td>\n",
       "      <td>4.5718</td>\n",
       "      <td>-0.98880</td>\n",
       "      <td>0</td>\n",
       "      <td>0</td>\n",
       "    </tr>\n",
       "  </tbody>\n",
       "</table>\n",
       "</div>"
      ],
      "text/plain": [
       "   attribute_A  attribute_B  attribute_C  attribute_D  forgery  biz_rule_pred\n",
       "0      3.62160       8.6661      -2.8073     -0.44699        0              0\n",
       "1      4.54590       8.1674      -2.4586     -1.46210        0              0\n",
       "2      3.86600      -2.6383       1.9242      0.10645        0              0\n",
       "3      3.45660       9.5228      -4.0112     -3.59440        0              1\n",
       "4      0.32924      -4.4552       4.5718     -0.98880        0              0"
      ]
     },
     "execution_count": 125,
     "metadata": {},
     "output_type": "execute_result"
    }
   ],
   "source": [
    "# apply our business rules\n",
    "df['biz_rule_pred']=df.apply(biz_rules, axis=1)\n",
    "df.head()"
   ]
  },
  {
   "cell_type": "code",
   "execution_count": null,
   "metadata": {},
   "outputs": [],
   "source": []
  }
 ],
 "metadata": {
  "kernelspec": {
   "display_name": "conda_python3",
   "language": "python",
   "name": "conda_python3"
  },
  "language_info": {
   "codemirror_mode": {
    "name": "ipython",
    "version": 3
   },
   "file_extension": ".py",
   "mimetype": "text/x-python",
   "name": "python",
   "nbconvert_exporter": "python",
   "pygments_lexer": "ipython3",
   "version": "3.6.10"
  }
 },
 "nbformat": 4,
 "nbformat_minor": 4
}
